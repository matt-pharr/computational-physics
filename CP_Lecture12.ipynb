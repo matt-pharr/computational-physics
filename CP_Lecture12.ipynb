{
  "nbformat": 4,
  "nbformat_minor": 0,
  "metadata": {
    "colab": {
      "name": "CP Lecture12.ipynb",
      "provenance": [],
      "collapsed_sections": [],
      "authorship_tag": "ABX9TyPMFF1+rHJO3Zwt98ioOSEY",
      "include_colab_link": true
    },
    "kernelspec": {
      "name": "python3",
      "display_name": "Python 3"
    }
  },
  "cells": [
    {
      "cell_type": "markdown",
      "metadata": {
        "id": "view-in-github",
        "colab_type": "text"
      },
      "source": [
        "<a href=\"https://colab.research.google.com/github/quantum-intelligence/computational-physics/blob/main/CP_Lecture12.ipynb\" target=\"_parent\"><img src=\"https://colab.research.google.com/assets/colab-badge.svg\" alt=\"Open In Colab\"/></a>"
      ]
    },
    {
      "cell_type": "markdown",
      "metadata": {
        "id": "ecSUNzQO6FPu"
      },
      "source": [
        "# Computational Physics\n",
        "### Lecture 12\n",
        "PDEs; strings and membranes\n",
        "\n"
      ]
    },
    {
      "cell_type": "code",
      "metadata": {
        "id": "iMm1rKq6_0Aw"
      },
      "source": [
        "import numpy as np\n",
        "import matplotlib.pyplot as plt\n",
        "import plotly.graph_objects as go\n",
        "import pandas as pd"
      ],
      "execution_count": 1,
      "outputs": []
    },
    {
      "cell_type": "markdown",
      "metadata": {
        "id": "Dr4uQ37EDl8c"
      },
      "source": [
        "Examine the code below\n",
        "- Ensure you understand what each line does\n",
        "- What is the role of xi? And vibstr?"
      ]
    },
    {
      "cell_type": "code",
      "metadata": {
        "id": "wtizdFQu6jqs"
      },
      "source": [
        "#parameters\n",
        "rho = 0.001\n",
        "tension = 40\n",
        "c = np.sqrt(tension/rho)\n",
        "c1 = c\n",
        "ratio = c*c/(c1*c1)\n",
        "\n",
        "#initialize\n",
        "max_time = 200\n",
        "xi = np.zeros((101,3))\n",
        "vibstr = np.zeros((100, max_time))\n",
        "xpos = np.zeros(100)\n",
        "for i in range(0, 81):\n",
        "  xi[i,0] = 0.00125*i\n",
        "for i in range(81, 101):\n",
        "  xi[i,0] = 0.1 - 0.005*(i - 80)\n",
        "for i in range(0, 100):\n",
        "  xpos[i] = 2*i-100\n",
        "  vibstr[i,:] = 300*xi[i,0]\n",
        "\n",
        "# later time steps\n",
        "for i in range(1, 100):\n",
        "  xi[i,1] = xi[i,0] + 0.5*ratio*(xi[i+1,0]+xi[i-1,0]-2*xi[i,0])\n",
        "timer = 0\n",
        "times = []\n",
        "while timer < max_time:\n",
        "  for i in range(1,100):\n",
        "    xi[i,2] = 2*xi[i,1] - xi[i,0] + ratio*(xi[i+1,1]+xi[i-1,1]-2*xi[i,1])\n",
        "  for i in range(0, 101):\n",
        "    xi[i, 0] = xi[i, 1]\n",
        "    xi[i, 1] = xi[i, 2]\n",
        "  for i in range(0, 100):\n",
        "    vibstr[i,timer] = xi[i, 2]\n",
        "  times.append(timer)\n",
        "  timer = timer + 1\n"
      ],
      "execution_count": 2,
      "outputs": []
    },
    {
      "cell_type": "markdown",
      "metadata": {
        "id": "yLk8gnlTNNpg"
      },
      "source": [
        "QUESTION:\n",
        "\n",
        "1. Check the Courant Condition\n",
        "- c $\\leq$ c$^`$ = $\\Delta x$/$\\Delta t$\n",
        "- Try two values that satisfy the condition\n",
        "- Try two values that do not satisfy the condition\n",
        "\n",
        "2. Visualize the motion of the string\n",
        "- use scatter plots, contour plots and colormaps\n",
        "\n",
        "3. Change the boundary conditions. Try a double pluck or move the pluck to the center of the string. How does this change the motion? Visualize your results. Pro tip: Create a helper function using the above script to help you with the exercise.\n",
        "---------\n"
      ]
    },
    {
      "cell_type": "code",
      "metadata": {
        "id": "vZUaAzNrE0_A"
      },
      "source": [
        ""
      ],
      "execution_count": null,
      "outputs": []
    }
  ]
}