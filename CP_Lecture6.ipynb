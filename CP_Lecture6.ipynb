{
  "nbformat": 4,
  "nbformat_minor": 0,
  "metadata": {
    "colab": {
      "name": "CP_Lecture6.ipynb",
      "provenance": [],
      "authorship_tag": "ABX9TyOc+tthlspnadK9CHO9mgIB",
      "include_colab_link": true
    },
    "kernelspec": {
      "name": "python3",
      "display_name": "Python 3"
    }
  },
  "cells": [
    {
      "cell_type": "markdown",
      "metadata": {
        "id": "view-in-github",
        "colab_type": "text"
      },
      "source": [
        "<a href=\"https://colab.research.google.com/github/quantum-intelligence/computational-physics/blob/main/CP_Lecture6.ipynb\" target=\"_parent\"><img src=\"https://colab.research.google.com/assets/colab-badge.svg\" alt=\"Open In Colab\"/></a>"
      ]
    },
    {
      "cell_type": "markdown",
      "metadata": {
        "id": "ytzjgiSqWyOb"
      },
      "source": [
        "# Computational Physics\n",
        "Lecture 6\n",
        "### Metropolis Algorightm and Ising Model"
      ]
    },
    {
      "cell_type": "code",
      "metadata": {
        "id": "TTMgineSW8NN"
      },
      "source": [
        "import numpy as np\n",
        "import matplotlib.pyplot as plt"
      ],
      "execution_count": 13,
      "outputs": []
    },
    {
      "cell_type": "markdown",
      "metadata": {
        "id": "zBYilFSLXFY-"
      },
      "source": [
        "# Consider a script to do the following:\n",
        "- Create a set of cities\n",
        "- Plot a map of the cities\n",
        "- Choose a route and display the route\n",
        "- Alter the route by swapping pairs of cities.\n",
        "- Calculate the total distance travelled"
      ]
    },
    {
      "cell_type": "code",
      "metadata": {
        "cellView": "form",
        "id": "ZIlaSK3TZ7sa"
      },
      "source": [
        "#@title\n",
        "# show cities\n",
        "def create_cities(N):\n",
        "  \"\"\" initialize cities \"\"\"\n",
        "  np.random.seed(42)\n",
        "  ymin = 0; ymax = 10\n",
        "  xmin = 0; xmax = 10\n",
        "  # N = 4\n",
        "  xi = np.random.rand(N); xi = xi*(xmax-xmin) \n",
        "  yi = np.random.rand(N); yi = yi*(ymax-ymin) \n",
        "  return xi, yi\n",
        "\n",
        "xi, yi = create_cities(N=4)"
      ],
      "execution_count": 55,
      "outputs": []
    },
    {
      "cell_type": "code",
      "metadata": {
        "cellView": "form",
        "id": "sFUeb3z3bCMi"
      },
      "source": [
        "#@title\n",
        "#calculate map and route\n",
        "\n",
        "def show_map(xi,yi,xmin,xmax,ymin,ymax):\n",
        "  plt.scatter(xi,yi,s=100,c='b')\n",
        "  for i in np.arange(len(xi)):\n",
        "    x_i = xi[i]; y_i = yi[i]\n",
        "    if i < len(xi):\n",
        "      mylabel = \"( {:.3}\".format(str(x_i)) + \" , \" + \"{:.3})\".format(str(y_i))\n",
        "      plt.annotate(mylabel, xy=(x_i+0.02,y_i+0.52))\n",
        "  plt.xlim(xmin,xmax)\n",
        "  plt.ylim(ymin,ymax)\n",
        "\n",
        "def show_route(xi,yi,xmin,xmax,ymin,ymax):\n",
        "  plt.scatter(xi,yi,s=100,c='b')\n",
        "  for i in np.arange(len(xi)):\n",
        "    x_i = xi[i]; y_i = yi[i]\n",
        "    if i < N-1:\n",
        "      deltax_i = (xi[i+1] - xi[i])*0.95\n",
        "      deltay_i = (yi[i+1] - yi[i])*0.94\n",
        "      plt.arrow(x_i*0.991,y_i*0.991,deltax_i,deltay_i,head_width=0.2, width=(0.05),color='orange')\n",
        "  # plt.axes.grid.set_aspect()\n",
        "  plt.xlim(xmin,xmax)\n",
        "  plt.ylim(ymin,ymax)\n"
      ],
      "execution_count": 100,
      "outputs": []
    },
    {
      "cell_type": "code",
      "metadata": {
        "cellView": "form",
        "id": "Hpi4Vo2Uf0Um"
      },
      "source": [
        "#@title\n",
        "show_map(xi,yi,xmin,xmax,ymin,ymax)"
      ],
      "execution_count": null,
      "outputs": []
    },
    {
      "cell_type": "code",
      "metadata": {
        "cellView": "form",
        "id": "axzgvOdtf5qx"
      },
      "source": [
        "#@title\n",
        "show_route(xi,yi,xmin,xmax,ymin,ymax)"
      ],
      "execution_count": null,
      "outputs": []
    },
    {
      "cell_type": "code",
      "metadata": {
        "cellView": "form",
        "id": "iX_cxAY4bSJw"
      },
      "source": [
        "#@title\n",
        "# randomly swap two cities\n",
        "\n",
        "def swap_cities(xi, yi):\n",
        "  \"\"\" alter route \"\"\"\n",
        "  np.random.seed()\n",
        "  index = np.arange(len(xi))\n",
        "  swap1_index = np.random.randint(0,len(xi)-1)\n",
        "  swap_temp_index = np.random.randint(0,len(xi)-1)\n",
        "  if swap_temp_index != swap1_index:\n",
        "    swap2_index = swap_temp_index\n",
        "  else:\n",
        "    swap2_index = np.random.randint(0,len(xi)-1)\n",
        "  #print(swap1_index, swap2_index)\n",
        "\n",
        "  xtemp_value1 = xi[swap1_index]\n",
        "  xtemp_value2 = xi[swap2_index]\n",
        "  ytemp_value1 = yi[swap1_index]\n",
        "  ytemp_value2 = yi[swap2_index]\n",
        "\n",
        "  # create new route wit cities swapped:\n",
        "  xi_new = xi.copy(); xi_new[swap1_index] = xtemp_value2;  xi_new[swap2_index] = xtemp_value1\n",
        "  yi_new = yi.copy(); yi_new[swap1_index] = ytemp_value2;  yi_new[swap2_index] = ytemp_value1\n",
        "  return xi_new, yi_new, swap1_index, swap2_index\n"
      ],
      "execution_count": 141,
      "outputs": []
    },
    {
      "cell_type": "code",
      "metadata": {
        "cellView": "form",
        "id": "Wp9vE96ekjTt"
      },
      "source": [
        "#@title\n",
        "xi_new, yi_new, swap1_index, swap2_index = swap_cities(xi, yi)\n",
        "print(xi)\n",
        "print(swap1_index,swap2_index)\n",
        "print(xi_new)"
      ],
      "execution_count": null,
      "outputs": []
    },
    {
      "cell_type": "code",
      "metadata": {
        "cellView": "form",
        "id": "GBX7otldk_oO"
      },
      "source": [
        "#@title\n",
        "# CAlculate the total trip distance\n",
        "\n",
        "def trip_distance(xi, yi):\n",
        "  \"\"\" calculate distances \"\"\"\n",
        "  total_dist = 0\n",
        "  for i in np.arange(len(xi)-1):\n",
        "    x_i = xi[i]\n",
        "    x_j = xi[i+1]\n",
        "    y_i = yi[i]\n",
        "    y_j = yi[i+1]\n",
        "    #print(x_i, y_i, \"--\", y_i, y_j)\n",
        "    deltax = x_j - x_i\n",
        "    deltay = y_j - y_i\n",
        "    dist_i = np.sqrt(deltax**2 + deltay**2)\n",
        "    total_dist = total_dist + dist_i\n",
        "  return total_dist"
      ],
      "execution_count": 155,
      "outputs": []
    },
    {
      "cell_type": "code",
      "metadata": {
        "colab": {
          "base_uri": "https://localhost:8080/"
        },
        "cellView": "form",
        "id": "O2vGd3_ittdl",
        "outputId": "4cc8d298-0f5d-4ead-ae83-4a3c613d9c62"
      },
      "source": [
        "#@title\n",
        "total_dist = trip_distance(xi, yi)\n",
        "print(\"total distance travelled: \", total_dist)"
      ],
      "execution_count": 156,
      "outputs": [
        {
          "output_type": "stream",
          "text": [
            "total distance travelled:  16.3482848388591\n"
          ],
          "name": "stdout"
        }
      ]
    },
    {
      "cell_type": "markdown",
      "metadata": {
        "id": "5qummBRswVZP"
      },
      "source": [
        "QUESTION: Create a \"naive\" script to simulate the trip with the shortest route\n",
        "- plot the distance as a function of interations"
      ]
    },
    {
      "cell_type": "markdown",
      "metadata": {
        "id": "3PGqSlF3wGFn"
      },
      "source": [
        "QUESTION: Implement simulated annealing process to avoid local minima\n",
        "- plot the distance "
      ]
    },
    {
      "cell_type": "code",
      "metadata": {
        "id": "TtfSEtpywmVF"
      },
      "source": [
        ""
      ],
      "execution_count": null,
      "outputs": []
    }
  ]
}