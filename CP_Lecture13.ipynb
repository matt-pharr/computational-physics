{
  "nbformat": 4,
  "nbformat_minor": 0,
  "metadata": {
    "colab": {
      "name": "CP_Lecture13.ipynb",
      "provenance": [],
      "collapsed_sections": [],
      "authorship_tag": "ABX9TyPpcNmY78SCiAXR3Vk2PLMr",
      "include_colab_link": true
    },
    "kernelspec": {
      "name": "python3",
      "display_name": "Python 3"
    },
    "language_info": {
      "name": "python"
    }
  },
  "cells": [
    {
      "cell_type": "markdown",
      "metadata": {
        "id": "view-in-github",
        "colab_type": "text"
      },
      "source": [
        "<a href=\"https://colab.research.google.com/github/quantum-intelligence/computational-physics/blob/main/CP_Lecture13.ipynb\" target=\"_parent\"><img src=\"https://colab.research.google.com/assets/colab-badge.svg\" alt=\"Open In Colab\"/></a>"
      ]
    },
    {
      "cell_type": "markdown",
      "metadata": {
        "id": "LW_2bp3iyRDr"
      },
      "source": [
        "# Computational Physics\n",
        "## PHYS 4810\n",
        "### Lecture 13, Linear Algebra"
      ]
    },
    {
      "cell_type": "code",
      "metadata": {
        "id": "7ndw35BlyajH"
      },
      "source": [
        "import numpy as np\n",
        "import scipy as sci\n",
        "import matplotlib.pyplot as plt"
      ],
      "execution_count": 1,
      "outputs": []
    },
    {
      "cell_type": "markdown",
      "metadata": {
        "id": "aKc8pevFymHG"
      },
      "source": [
        "QUESTION: \n",
        "- Consider the Laplace equation from the lecture.\n",
        "- Write down the matrix equation $\\textbf{Ax=b}$ for the Laplace problem with the 4x4 grid and solve for x.\n",
        "  - Write out the 4 equations for $U_{i,j}$ on paper. Place the boundary conditions on the right-hand side.\n",
        "  - Represent the 4 equations as a matrix and solve for the unknowns.\n",
        "  - Assume BCs of a single plate capacitor grounded on three sides.\n",
        "  - Plot your results using a heatmap."
      ]
    },
    {
      "cell_type": "code",
      "metadata": {
        "id": "8hFjGBgUyjPh"
      },
      "source": [
        "#type your code here"
      ],
      "execution_count": null,
      "outputs": []
    },
    {
      "cell_type": "markdown",
      "metadata": {
        "id": "djYMfhakzUG_"
      },
      "source": [
        "QUESTION:\n",
        "- Repeat the above for a 5x5 grid. Start with drawing the 5x5 grid. Can you guess what the corresponding equations for $U_{i,j}$ will be without writing them down explicitly? \n",
        "- Write out the system of equations in matrix form before solving it numerically.\n",
        "- Solve the matrix using the three routines discussed in the lecture and time the algorithm using the python time module."
      ]
    },
    {
      "cell_type": "code",
      "metadata": {
        "id": "lbHO6nkOzy5B"
      },
      "source": [
        ""
      ],
      "execution_count": null,
      "outputs": []
    }
  ]
}