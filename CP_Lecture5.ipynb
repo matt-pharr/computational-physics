{
  "nbformat": 4,
  "nbformat_minor": 0,
  "metadata": {
    "colab": {
      "name": "CP_Lecture5.ipynb",
      "provenance": [],
      "authorship_tag": "ABX9TyOQc5CAc3wj0XdCk/vtpvHg",
      "include_colab_link": true
    },
    "kernelspec": {
      "name": "python3",
      "display_name": "Python 3"
    }
  },
  "cells": [
    {
      "cell_type": "markdown",
      "metadata": {
        "id": "view-in-github",
        "colab_type": "text"
      },
      "source": [
        "<a href=\"https://colab.research.google.com/github/quantum-intelligence/computational-physics/blob/main/CP_Lecture5.ipynb\" target=\"_parent\"><img src=\"https://colab.research.google.com/assets/colab-badge.svg\" alt=\"Open In Colab\"/></a>"
      ]
    },
    {
      "cell_type": "markdown",
      "metadata": {
        "id": "Lg9S_fqYKDVO"
      },
      "source": [
        "# Computational Physics\n",
        "### Lecture 5\n",
        "##### **Monte Carlo Applications**"
      ]
    },
    {
      "cell_type": "markdown",
      "metadata": {
        "id": "OfQakH4NKN7Q"
      },
      "source": [
        "# Random Walk\n",
        "Question: \n",
        "- Create a function that simulates a random walk with individual steps of the same magnitude, $r_{rms}$"
      ]
    },
    {
      "cell_type": "code",
      "metadata": {
        "id": "NxQlvIx_KT7P"
      },
      "source": [
        "# Create code here\n",
        "def random_walk():\n",
        "  \"\"\" \n",
        "    function that calculates R given N steps in a Random walk \n",
        "    - return R\n",
        "    - return a list for $\\delta x_i$ and $\\delta y_i$\n",
        "  \"\"\""
      ],
      "execution_count": null,
      "outputs": []
    },
    {
      "cell_type": "markdown",
      "metadata": {
        "id": "agXNu2J0LM4_"
      },
      "source": [
        "Show that, although the root mean square value for the net displacement, $\\sqrt{<R^2>}$ = $\\sqrt{N}r_{rms}$, the average displacement is $<R> =<x>\\textbf{i} + <y>\\textbf{j} \\sim 0$  "
      ]
    },
    {
      "cell_type": "code",
      "metadata": {
        "id": "xy1zIsRELmHI"
      },
      "source": [
        "# Insert code here"
      ],
      "execution_count": null,
      "outputs": []
    },
    {
      "cell_type": "markdown",
      "metadata": {
        "id": "thOGbRPiL3sP"
      },
      "source": [
        "# Radioactive decay\n",
        "Question:\n",
        "- Create a function that simulates the radioactive decay of a radioactive nucleus. \n",
        "- For $\\lambda$=0.1, plot a graph of N versus t."
      ]
    },
    {
      "cell_type": "code",
      "metadata": {
        "id": "JJ_-XsdUMHra"
      },
      "source": [
        ""
      ],
      "execution_count": null,
      "outputs": []
    }
  ]
}