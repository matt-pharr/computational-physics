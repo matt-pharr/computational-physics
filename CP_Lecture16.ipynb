{
  "nbformat": 4,
  "nbformat_minor": 0,
  "metadata": {
    "colab": {
      "name": "CP_Lecture16.ipynb",
      "provenance": [],
      "collapsed_sections": [],
      "authorship_tag": "ABX9TyMf4/LN2tBWV/mg3rbRA1oi",
      "include_colab_link": true
    },
    "kernelspec": {
      "name": "python3",
      "display_name": "Python 3"
    },
    "language_info": {
      "name": "python"
    }
  },
  "cells": [
    {
      "cell_type": "markdown",
      "metadata": {
        "id": "view-in-github",
        "colab_type": "text"
      },
      "source": [
        "<a href=\"https://colab.research.google.com/github/quantum-intelligence/computational-physics/blob/main/CP_Lecture16.ipynb\" target=\"_parent\"><img src=\"https://colab.research.google.com/assets/colab-badge.svg\" alt=\"Open In Colab\"/></a>"
      ]
    },
    {
      "cell_type": "markdown",
      "metadata": {
        "id": "zJOS7iVgpzGo"
      },
      "source": [
        "# Computational Physics\n",
        "Lecture 16: GPUs and Neural Networks"
      ]
    },
    {
      "cell_type": "code",
      "metadata": {
        "id": "m6pLh9wbpur2"
      },
      "source": [
        "import numpy as np\n",
        "import matplotlib.pyplot as plt\n",
        "import pandas as pd\n",
        "from sklearn.linear_model import LinearRegression\n",
        "from sklearn.linear_model import Lasso\n",
        "from sklearn.linear_model import Ridge\n",
        "from sklearn.ensemble import RandomForestRegressor\n",
        "from sklearn.model_selection import train_test_split\n",
        "import os\n",
        "\n",
        "import tensorflow as tf\n",
        "from tensorflow import keras\n",
        "from tensorflow.keras import layers\n",
        "from sklearn.metrics import r2_score"
      ],
      "execution_count": 3,
      "outputs": []
    },
    {
      "cell_type": "markdown",
      "metadata": {
        "id": "gEemsLonqD26"
      },
      "source": [
        "Download data from :\n",
        "https://archive.materialscloud.org/record/2019.0020/v1\n",
        "\n",
        "Description of data and corresponding study can be found here:\n",
        "https://www.nature.com/articles/s41598-020-72811-z\n",
        "\n",
        "open and load \"magneticmoment_Ef_data.csv\" using pandas.\n",
        "- save the file to your google drive (with colab) or your local drive (jupyter notebook)."
      ]
    },
    {
      "cell_type": "code",
      "metadata": {
        "colab": {
          "base_uri": "https://localhost:8080/"
        },
        "id": "ggCwERf4tZMd",
        "outputId": "c33bb34e-2788-420b-8c9d-ffee14ce6aad"
      },
      "source": [
        "from google.colab import drive\n",
        "drive.mount('/content/drive')"
      ],
      "execution_count": 2,
      "outputs": [
        {
          "output_type": "stream",
          "text": [
            "Drive already mounted at /content/drive; to attempt to forcibly remount, call drive.mount(\"/content/drive\", force_remount=True).\n"
          ],
          "name": "stdout"
        }
      ]
    },
    {
      "cell_type": "markdown",
      "metadata": {
        "id": "wSYZQY3TwX4O"
      },
      "source": [
        "verify mount and check path for the csv file. Change the path below as needed."
      ]
    },
    {
      "cell_type": "code",
      "metadata": {
        "colab": {
          "base_uri": "https://localhost:8080/"
        },
        "id": "N3a_uSXTu5qB",
        "outputId": "02a1df49-7e86-4630-e646-a07f71f86ba8"
      },
      "source": [
        "ls drive/MyDrive/Colab\\ Notebooks"
      ],
      "execution_count": 4,
      "outputs": [
        {
          "output_type": "stream",
          "text": [
            " 2D_Ising.ipynb                             CP_Lecture6b.ipynb\n",
            "\u001b[0m\u001b[01;34m'Computational Physics'\u001b[0m/                    CP_Lecture6.ipynb\n",
            "'Copy of 2021ComputeFest-NotebookToCloud'  'CP_Lecture6 solution.ipynb'\n",
            "'Copy of 2D_Ising.ipynb'                    CP_Lecture_7.ipynb\n",
            "'Copy of HW 1.ipynb'                        CP_Lecture8b.ipynb\n",
            "'Copy of Intro_to_coding.ipynb'             CP_Lecture8.ipynb\n",
            " CP_Lecture10.ipynb                         CP_Lecture9.ipynb\n",
            " CP_Lecture11.ipynb                         CP_Lecture9_v2.ipynb\n",
            " CP_Lecture12.ipynb                        'HW 1.ipynb'\n",
            " CP_Lecture13.ipynb                         Intro_to_python.ipynb\n",
            "'CP_Lecture 14.ipynb'                       magneticmoment_Ef_data.csv\n",
            " CP_Lecture15b.ipynb                       'nCr calculator'\n",
            " CP_Lecture15.ipynb                        'oldof CP_Lecture9.ipynb'\n",
            " CP_Lecture16.ipynb                         QP_demo1.ipynb\n",
            "'CP_ Lecture1.ipynb'                        \u001b[01;34msolutions\u001b[0m/\n",
            " CP_Lecture2.ipynb                         'Solutions of CP_Lecture11.ipynb'\n",
            " CP_Lecture3.ipynb                          Untitled0.ipynb\n",
            " CP_Lecture4.ipynb                          Untitled1.ipynb\n",
            " CP_Lecture5-solutions.ipynb\n"
          ],
          "name": "stdout"
        }
      ]
    },
    {
      "cell_type": "code",
      "metadata": {
        "id": "atY8SEhXqBkx"
      },
      "source": [
        "# Create dataframe of \"magneticmoment_Ef_data.csv\" using pandas.\n",
        "# Change the path to magneticmoment_Ef_data.csv as needed.\n",
        "data_path = \"drive/MyDrive/Colab Notebooks/magneticmoment_Ef_data.csv\"\n",
        "df = pd.read_csv(data_path)"
      ],
      "execution_count": 5,
      "outputs": []
    },
    {
      "cell_type": "markdown",
      "metadata": {
        "id": "neDeJU_zsdGl"
      },
      "source": [
        "Explore the pandas object by examinging the columns:\n",
        "- df.column()\n",
        "\n",
        "A summary of the dataframe:\n",
        "- df.head()\n"
      ]
    },
    {
      "cell_type": "code",
      "metadata": {
        "id": "rixumV-ixGmT",
        "colab": {
          "base_uri": "https://localhost:8080/",
          "height": 454
        },
        "outputId": "61d9bd88-d669-402e-9011-e9f5531575e5"
      },
      "source": [
        "df.head(n=3)"
      ],
      "execution_count": 6,
      "outputs": [
        {
          "output_type": "execute_result",
          "data": {
            "text/html": [
              "<div>\n",
              "<style scoped>\n",
              "    .dataframe tbody tr th:only-of-type {\n",
              "        vertical-align: middle;\n",
              "    }\n",
              "\n",
              "    .dataframe tbody tr th {\n",
              "        vertical-align: top;\n",
              "    }\n",
              "\n",
              "    .dataframe thead th {\n",
              "        text-align: right;\n",
              "    }\n",
              "</style>\n",
              "<table border=\"1\" class=\"dataframe\">\n",
              "  <thead>\n",
              "    <tr style=\"text-align: right;\">\n",
              "      <th></th>\n",
              "      <th>Unnamed: 0</th>\n",
              "      <th>formation_energy</th>\n",
              "      <th>elem_frac</th>\n",
              "      <th>elem_list</th>\n",
              "      <th>energy</th>\n",
              "      <th>formula</th>\n",
              "      <th>magnetic_moment</th>\n",
              "      <th>spin_index</th>\n",
              "      <th>num_p</th>\n",
              "      <th>num_d</th>\n",
              "      <th>num_f</th>\n",
              "      <th>atomic_rad</th>\n",
              "      <th>atomic_vol</th>\n",
              "      <th>covalent_rad</th>\n",
              "      <th>dipole</th>\n",
              "      <th>eaffinity</th>\n",
              "      <th>num_electrons</th>\n",
              "      <th>atomic_rad_sum_dif</th>\n",
              "      <th>atomic_rad_std_dif</th>\n",
              "      <th>atomic_rad_std</th>\n",
              "      <th>atomic_rad_avg</th>\n",
              "      <th>atomic_rad_max_dif</th>\n",
              "      <th>atomic_vol_sum_dif</th>\n",
              "      <th>atomic_vol_std_dif</th>\n",
              "      <th>atomic_vol_std</th>\n",
              "      <th>atomic_vol_avg</th>\n",
              "      <th>atomic_vol_max_dif</th>\n",
              "      <th>covalentrad_sum_dif</th>\n",
              "      <th>covalentrad_std_dif</th>\n",
              "      <th>covalentrad_std</th>\n",
              "      <th>covalentrad_avg</th>\n",
              "      <th>covalentrad_max_dif</th>\n",
              "      <th>dipole_sum_dif</th>\n",
              "      <th>dipole_std_dif</th>\n",
              "      <th>dipole_std</th>\n",
              "      <th>dipole_avg</th>\n",
              "      <th>dipole_max_dif</th>\n",
              "      <th>eaffinity_sum_dif</th>\n",
              "      <th>eaffinity_std_dif</th>\n",
              "      <th>eaffinity_std</th>\n",
              "      <th>...</th>\n",
              "      <th>numelectron_std_dif</th>\n",
              "      <th>numelectron_std</th>\n",
              "      <th>numelectron_avg</th>\n",
              "      <th>numelectron_max_dif</th>\n",
              "      <th>vdwradius_sum_dif</th>\n",
              "      <th>vdwradius_std_dif</th>\n",
              "      <th>vdwradius_std</th>\n",
              "      <th>vdwradius_avg</th>\n",
              "      <th>vdwradius_max_dif</th>\n",
              "      <th>e_negativity_sum_dif</th>\n",
              "      <th>e_negativity_std_dif</th>\n",
              "      <th>e_negativity_std</th>\n",
              "      <th>e_negativity_avg</th>\n",
              "      <th>e_negativity_max_dif</th>\n",
              "      <th>nvalence_sum_dif</th>\n",
              "      <th>nvalence_std_dif</th>\n",
              "      <th>nvalence_std</th>\n",
              "      <th>nvalence_avg</th>\n",
              "      <th>nvalence_max_dif</th>\n",
              "      <th>lastsubshell_avg</th>\n",
              "      <th>cmpd_skew_p</th>\n",
              "      <th>cmpd_skew_d</th>\n",
              "      <th>cmpd_skew_f</th>\n",
              "      <th>cmpd_sigma_p</th>\n",
              "      <th>cmpd_sigma_d</th>\n",
              "      <th>cmpd_sigma_f</th>\n",
              "      <th>frac_f</th>\n",
              "      <th>std_ion</th>\n",
              "      <th>sum_ion</th>\n",
              "      <th>mean_ion</th>\n",
              "      <th>Born</th>\n",
              "      <th>hardness_mean</th>\n",
              "      <th>hardness_var</th>\n",
              "      <th>Nup_mean</th>\n",
              "      <th>Nup_var</th>\n",
              "      <th>cs_bob</th>\n",
              "      <th>cs_PE</th>\n",
              "      <th>cs_IR</th>\n",
              "      <th>cs_AR</th>\n",
              "      <th>cs_OX</th>\n",
              "    </tr>\n",
              "  </thead>\n",
              "  <tbody>\n",
              "    <tr>\n",
              "      <th>0</th>\n",
              "      <td>0</td>\n",
              "      <td>-1.152920</td>\n",
              "      <td>[{Element Cr: 0.1}, {Element Co: 0.1}, {Elemen...</td>\n",
              "      <td>[Element Cr, Element Co, Element Ge, Element T...</td>\n",
              "      <td>-46.782036</td>\n",
              "      <td>Cr1Co1Ge1Te6P1</td>\n",
              "      <td>2.816</td>\n",
              "      <td>1</td>\n",
              "      <td>4</td>\n",
              "      <td>9</td>\n",
              "      <td>0</td>\n",
              "      <td>[130.0, 125.0, 137.0, 160.0, 128.0]</td>\n",
              "      <td>[7.23, 6.7, 13.6, 20.5, 17.0]</td>\n",
              "      <td>[122.0, 111.00000000000001, 121.0, 136.0, 111....</td>\n",
              "      <td>[78.4, 57.71, 39.43, 37.0, 24.93]</td>\n",
              "      <td>[0.6659999999999999, 0.66225646, 1.232712, 1.9...</td>\n",
              "      <td>[24, 27, 32, 52, 15]</td>\n",
              "      <td>158.0</td>\n",
              "      <td>0.997877</td>\n",
              "      <td>0.008629</td>\n",
              "      <td>148.0</td>\n",
              "      <td>35</td>\n",
              "      <td>74.740</td>\n",
              "      <td>0.628972</td>\n",
              "      <td>0.172140</td>\n",
              "      <td>16.753</td>\n",
              "      <td>13.8</td>\n",
              "      <td>122.0</td>\n",
              "      <td>0.775396</td>\n",
              "      <td>0.005853</td>\n",
              "      <td>128.1</td>\n",
              "      <td>25</td>\n",
              "      <td>255.30</td>\n",
              "      <td>0.672182</td>\n",
              "      <td>0.154617</td>\n",
              "      <td>42.247</td>\n",
              "      <td>53.47</td>\n",
              "      <td>6.367902</td>\n",
              "      <td>0.959120</td>\n",
              "      <td>0.228103</td>\n",
              "      <td>...</td>\n",
              "      <td>0.761414</td>\n",
              "      <td>0.168444</td>\n",
              "      <td>41.0</td>\n",
              "      <td>37</td>\n",
              "      <td>136.0</td>\n",
              "      <td>0.997729</td>\n",
              "      <td>0.002938</td>\n",
              "      <td>203.3</td>\n",
              "      <td>31</td>\n",
              "      <td>136.0</td>\n",
              "      <td>0.997729</td>\n",
              "      <td>0.002938</td>\n",
              "      <td>203.3</td>\n",
              "      <td>31</td>\n",
              "      <td>22.0</td>\n",
              "      <td>0.807851</td>\n",
              "      <td>0.077778</td>\n",
              "      <td>6.0</td>\n",
              "      <td>5</td>\n",
              "      <td>[((3, 'd'), 3), ((3, 'd'), 6), ((4, 's'), 1), ...</td>\n",
              "      <td>0.0</td>\n",
              "      <td>0.0</td>\n",
              "      <td>0</td>\n",
              "      <td>1.0</td>\n",
              "      <td>0.666667</td>\n",
              "      <td>0</td>\n",
              "      <td>0</td>\n",
              "      <td>0.887472</td>\n",
              "      <td>43.439369</td>\n",
              "      <td>8.687874</td>\n",
              "      <td>824.839369</td>\n",
              "      <td>3.676485</td>\n",
              "      <td>0.392730</td>\n",
              "      <td>3.20</td>\n",
              "      <td>2.1600</td>\n",
              "      <td>42880.10573</td>\n",
              "      <td>966.64</td>\n",
              "      <td>13.905000</td>\n",
              "      <td>11.50</td>\n",
              "      <td>4917162.56</td>\n",
              "    </tr>\n",
              "    <tr>\n",
              "      <th>1</th>\n",
              "      <td>1</td>\n",
              "      <td>-1.325311</td>\n",
              "      <td>[{Element Cr: 0.1}, {Element Co: 0.1}, {Elemen...</td>\n",
              "      <td>[Element Cr, Element Co, Element Ge, Element Te]</td>\n",
              "      <td>-46.171992</td>\n",
              "      <td>Cr1Co1Ge2Te6</td>\n",
              "      <td>3.142</td>\n",
              "      <td>1</td>\n",
              "      <td>4</td>\n",
              "      <td>9</td>\n",
              "      <td>0</td>\n",
              "      <td>[130.0, 125.0, 137.0, 160.0]</td>\n",
              "      <td>[7.23, 6.7, 13.6, 20.5]</td>\n",
              "      <td>[122.0, 111.00000000000001, 121.0, 136.0]</td>\n",
              "      <td>[78.4, 57.71, 39.43, 37.0]</td>\n",
              "      <td>[0.6659999999999999, 0.66225646, 1.232712, 1.9...</td>\n",
              "      <td>[24, 27, 32, 52]</td>\n",
              "      <td>168.0</td>\n",
              "      <td>0.831633</td>\n",
              "      <td>0.009426</td>\n",
              "      <td>148.9</td>\n",
              "      <td>35</td>\n",
              "      <td>71.655</td>\n",
              "      <td>0.762022</td>\n",
              "      <td>0.217875</td>\n",
              "      <td>16.413</td>\n",
              "      <td>13.8</td>\n",
              "      <td>114.0</td>\n",
              "      <td>0.756233</td>\n",
              "      <td>0.005281</td>\n",
              "      <td>129.1</td>\n",
              "      <td>25</td>\n",
              "      <td>213.72</td>\n",
              "      <td>0.745633</td>\n",
              "      <td>0.098059</td>\n",
              "      <td>43.697</td>\n",
              "      <td>41.40</td>\n",
              "      <td>6.738856</td>\n",
              "      <td>0.825943</td>\n",
              "      <td>0.224304</td>\n",
              "      <td>...</td>\n",
              "      <td>0.926019</td>\n",
              "      <td>0.104636</td>\n",
              "      <td>42.7</td>\n",
              "      <td>28</td>\n",
              "      <td>49.5</td>\n",
              "      <td>0.785124</td>\n",
              "      <td>0.000359</td>\n",
              "      <td>206.4</td>\n",
              "      <td>11</td>\n",
              "      <td>49.5</td>\n",
              "      <td>0.785124</td>\n",
              "      <td>0.000359</td>\n",
              "      <td>206.4</td>\n",
              "      <td>11</td>\n",
              "      <td>22.5</td>\n",
              "      <td>0.813333</td>\n",
              "      <td>0.081600</td>\n",
              "      <td>5.9</td>\n",
              "      <td>5</td>\n",
              "      <td>[((3, 'd'), 3), ((3, 'd'), 6), ((4, 's'), 1), ...</td>\n",
              "      <td>0.0</td>\n",
              "      <td>0.0</td>\n",
              "      <td>0</td>\n",
              "      <td>1.0</td>\n",
              "      <td>0.666667</td>\n",
              "      <td>0</td>\n",
              "      <td>0</td>\n",
              "      <td>0.611701</td>\n",
              "      <td>33.353977</td>\n",
              "      <td>8.338494</td>\n",
              "      <td>824.567397</td>\n",
              "      <td>3.378096</td>\n",
              "      <td>0.045734</td>\n",
              "      <td>3.25</td>\n",
              "      <td>2.6875</td>\n",
              "      <td>44357.76082</td>\n",
              "      <td>984.88</td>\n",
              "      <td>12.438333</td>\n",
              "      <td>11.35</td>\n",
              "      <td>5087200.04</td>\n",
              "    </tr>\n",
              "    <tr>\n",
              "      <th>2</th>\n",
              "      <td>2</td>\n",
              "      <td>-1.458288</td>\n",
              "      <td>[{Element Cr: 0.1}, {Element Co: 0.1}, {Elemen...</td>\n",
              "      <td>[Element Cr, Element Co, Element Si, Element G...</td>\n",
              "      <td>-47.107590</td>\n",
              "      <td>Cr1Co1Si1Ge1Te6</td>\n",
              "      <td>3.149</td>\n",
              "      <td>1</td>\n",
              "      <td>4</td>\n",
              "      <td>9</td>\n",
              "      <td>0</td>\n",
              "      <td>[130.0, 125.0, 132.0, 137.0, 160.0]</td>\n",
              "      <td>[7.23, 6.7, 12.1, 13.6, 20.5]</td>\n",
              "      <td>[122.0, 111.00000000000001, 115.99999999999999...</td>\n",
              "      <td>[78.4, 57.71, 37.31, 39.43, 37.0]</td>\n",
              "      <td>[0.6659999999999999, 0.66225646, 1.3895211, 1....</td>\n",
              "      <td>[24, 27, 14, 32, 52]</td>\n",
              "      <td>154.0</td>\n",
              "      <td>0.968081</td>\n",
              "      <td>0.007981</td>\n",
              "      <td>148.4</td>\n",
              "      <td>35</td>\n",
              "      <td>67.940</td>\n",
              "      <td>0.701470</td>\n",
              "      <td>0.173773</td>\n",
              "      <td>16.263</td>\n",
              "      <td>13.8</td>\n",
              "      <td>112.0</td>\n",
              "      <td>0.747848</td>\n",
              "      <td>0.004776</td>\n",
              "      <td>128.6</td>\n",
              "      <td>25</td>\n",
              "      <td>206.40</td>\n",
              "      <td>0.918620</td>\n",
              "      <td>0.104747</td>\n",
              "      <td>43.485</td>\n",
              "      <td>41.40</td>\n",
              "      <td>6.681520</td>\n",
              "      <td>0.686061</td>\n",
              "      <td>0.171739</td>\n",
              "      <td>...</td>\n",
              "      <td>0.746740</td>\n",
              "      <td>0.177650</td>\n",
              "      <td>40.9</td>\n",
              "      <td>38</td>\n",
              "      <td>52.0</td>\n",
              "      <td>0.738166</td>\n",
              "      <td>0.000352</td>\n",
              "      <td>206.3</td>\n",
              "      <td>11</td>\n",
              "      <td>52.0</td>\n",
              "      <td>0.738166</td>\n",
              "      <td>0.000352</td>\n",
              "      <td>206.3</td>\n",
              "      <td>11</td>\n",
              "      <td>24.0</td>\n",
              "      <td>0.822917</td>\n",
              "      <td>0.099881</td>\n",
              "      <td>5.9</td>\n",
              "      <td>5</td>\n",
              "      <td>[((3, 'd'), 3), ((3, 'd'), 6), ((3, 's'), 1), ...</td>\n",
              "      <td>0.0</td>\n",
              "      <td>0.0</td>\n",
              "      <td>0</td>\n",
              "      <td>1.0</td>\n",
              "      <td>0.666667</td>\n",
              "      <td>0</td>\n",
              "      <td>0</td>\n",
              "      <td>0.551463</td>\n",
              "      <td>41.519819</td>\n",
              "      <td>8.303964</td>\n",
              "      <td>824.559724</td>\n",
              "      <td>3.378693</td>\n",
              "      <td>0.036589</td>\n",
              "      <td>3.00</td>\n",
              "      <td>2.4000</td>\n",
              "      <td>42715.38977</td>\n",
              "      <td>991.35</td>\n",
              "      <td>13.955000</td>\n",
              "      <td>11.00</td>\n",
              "      <td>4806565.92</td>\n",
              "    </tr>\n",
              "  </tbody>\n",
              "</table>\n",
              "<p>3 rows × 83 columns</p>\n",
              "</div>"
            ],
            "text/plain": [
              "   Unnamed: 0  formation_energy  ...  cs_AR       cs_OX\n",
              "0           0         -1.152920  ...  11.50  4917162.56\n",
              "1           1         -1.325311  ...  11.35  5087200.04\n",
              "2           2         -1.458288  ...  11.00  4806565.92\n",
              "\n",
              "[3 rows x 83 columns]"
            ]
          },
          "metadata": {
            "tags": []
          },
          "execution_count": 6
        }
      ]
    },
    {
      "cell_type": "code",
      "metadata": {
        "id": "pW6Uv5S9Rj7X"
      },
      "source": [
        "#choose the appropriate set of descriptors here:\n",
        "descriptor_list = ['num_p', 'num_d', 'num_f',\n",
        "       'atomic_rad_sum_dif', 'atomic_rad_std_dif',\n",
        "       'atomic_rad_std', 'atomic_rad_avg', 'atomic_rad_max_dif',\n",
        "       'atomic_vol_sum_dif', 'atomic_vol_std_dif', 'atomic_vol_std',\n",
        "       'atomic_vol_avg', 'atomic_vol_max_dif', 'covalentrad_sum_dif',\n",
        "       'covalentrad_std_dif', 'covalentrad_std', 'covalentrad_avg',\n",
        "       'covalentrad_max_dif', 'dipole_sum_dif', 'dipole_std_dif', 'dipole_std',\n",
        "       'dipole_avg', 'dipole_max_dif', 'eaffinity_sum_dif',\n",
        "       'eaffinity_std_dif', 'eaffinity_std', 'e_affinity_avg',\n",
        "       'e_affinity_max_dif', 'numelectron_sum_dif', 'numelectron_std_dif',\n",
        "       'numelectron_std', 'numelectron_avg', 'numelectron_max_dif',\n",
        "       'vdwradius_sum_dif', 'vdwradius_std_dif', 'vdwradius_std',\n",
        "       'vdwradius_avg', 'vdwradius_max_dif', 'e_negativity_sum_dif',\n",
        "       'e_negativity_std_dif', 'e_negativity_std', 'e_negativity_avg',\n",
        "       'e_negativity_max_dif', 'nvalence_sum_dif', 'nvalence_std_dif',\n",
        "       'nvalence_std', 'nvalence_avg', 'nvalence_max_dif', \n",
        "       'cmpd_skew_p', 'cmpd_skew_d', 'cmpd_skew_f', 'cmpd_sigma_p',\n",
        "       'cmpd_sigma_d', 'cmpd_sigma_f', 'frac_f ', 'std_ion', 'sum_ion',\n",
        "       'mean_ion', 'Born', 'hardness_mean', 'hardness_var', 'Nup_mean',\n",
        "       'Nup_var', 'cs_bob', 'cs_PE', 'cs_IR', 'cs_AR', 'cs_OX']"
      ],
      "execution_count": 7,
      "outputs": []
    },
    {
      "cell_type": "markdown",
      "metadata": {
        "id": "3eyiiEOKxQkx"
      },
      "source": [
        "Consider the following target property, y and descriptors, X.\n",
        "\n",
        "y --> 'formation_energy'\n",
        "\n",
        "X --> descriptors in descriptor_list defined above...\n",
        "\n"
      ]
    },
    {
      "cell_type": "markdown",
      "metadata": {
        "id": "bGTM2bby0hnc"
      },
      "source": [
        "- Create model input, X and labels, y\n",
        "- Create a training set and a validation set"
      ]
    },
    {
      "cell_type": "code",
      "metadata": {
        "id": "IbH3xp5ZNls7",
        "colab": {
          "base_uri": "https://localhost:8080/"
        },
        "outputId": "28530aa2-0e25-4dd8-f9a3-fb797065d9f9"
      },
      "source": [
        "y = df['formation_energy'].values\n",
        "X = df[descriptor_list]\n",
        "X = np.asarray(X)\n",
        "print(\"X.shape\", X.shape)"
      ],
      "execution_count": 8,
      "outputs": [
        {
          "output_type": "stream",
          "text": [
            "X.shape (226, 68)\n"
          ],
          "name": "stdout"
        }
      ]
    },
    {
      "cell_type": "code",
      "metadata": {
        "id": "6nv5hV3fNnRB"
      },
      "source": [
        "# code to create training/test set commended below:\n",
        "test_size = 0.2 #test set split, e.g. 20% test set to 80% training set size...\n",
        "X_train, X_test, y_train, y_test = train_test_split(X, y, test_size=test_size, random_state=42)"
      ],
      "execution_count": 9,
      "outputs": []
    },
    {
      "cell_type": "code",
      "metadata": {
        "colab": {
          "base_uri": "https://localhost:8080/"
        },
        "id": "S-tSXbyHFvVo",
        "outputId": "4820f476-dad0-457c-8694-f2746ef4b725"
      },
      "source": [
        "print('descriptor dimension:', X_train[0].shape)"
      ],
      "execution_count": 10,
      "outputs": [
        {
          "output_type": "stream",
          "text": [
            "descriptor dimension: (68,)\n"
          ],
          "name": "stdout"
        }
      ]
    },
    {
      "cell_type": "markdown",
      "metadata": {
        "id": "hUevNzUZLdnD"
      },
      "source": [
        "Create a Sequential model using Keras"
      ]
    },
    {
      "cell_type": "code",
      "metadata": {
        "id": "OGY4v6zpNu4i"
      },
      "source": [
        "model = keras.Sequential()\n",
        "model.add(layers.Dense(20, input_dim=68, activation=\"relu\"))\n",
        "model.add(layers.Dense(10, activation=\"relu\"))\n",
        "model.add(layers.Dense(1))\n",
        "model.compile(loss='mean_squared_error', optimizer='adam', metrics=['mean_absolute_error'])"
      ],
      "execution_count": 11,
      "outputs": []
    },
    {
      "cell_type": "markdown",
      "metadata": {
        "id": "5SJrfKMrOTum"
      },
      "source": [
        "Fit the model to the training data:"
      ]
    },
    {
      "cell_type": "code",
      "metadata": {
        "colab": {
          "base_uri": "https://localhost:8080/"
        },
        "id": "kA25iV4YE9XS",
        "outputId": "b2e47eee-fc6d-44d3-8757-f6de13080ab3"
      },
      "source": [
        "history = model.fit(X_train, y_train, epochs=20, batch_size=64,\n",
        "                    validation_data=(X_test, y_test))"
      ],
      "execution_count": 12,
      "outputs": [
        {
          "output_type": "stream",
          "text": [
            "Epoch 1/20\n",
            "3/3 [==============================] - 1s 223ms/step - loss: 68498637824.0000 - mean_absolute_error: 226857.8477 - val_loss: 58692628480.0000 - val_mean_absolute_error: 219141.8281\n",
            "Epoch 2/20\n",
            "3/3 [==============================] - 0s 22ms/step - loss: 58571871232.0000 - mean_absolute_error: 211577.4297 - val_loss: 45434433536.0000 - val_mean_absolute_error: 192820.7656\n",
            "Epoch 3/20\n",
            "3/3 [==============================] - 0s 22ms/step - loss: 46732177408.0000 - mean_absolute_error: 191279.7617 - val_loss: 39436918784.0000 - val_mean_absolute_error: 179733.7031\n",
            "Epoch 4/20\n",
            "3/3 [==============================] - 0s 25ms/step - loss: 38035895296.0000 - mean_absolute_error: 167369.1523 - val_loss: 34209949696.0000 - val_mean_absolute_error: 167391.8438\n",
            "Epoch 5/20\n",
            "3/3 [==============================] - 0s 31ms/step - loss: 34235722752.0000 - mean_absolute_error: 161912.6719 - val_loss: 29384370176.0000 - val_mean_absolute_error: 155128.6562\n",
            "Epoch 6/20\n",
            "3/3 [==============================] - 0s 24ms/step - loss: 28576461312.0000 - mean_absolute_error: 146942.6641 - val_loss: 25044488192.0000 - val_mean_absolute_error: 143206.7812\n",
            "Epoch 7/20\n",
            "3/3 [==============================] - 0s 25ms/step - loss: 26350255104.0000 - mean_absolute_error: 143601.3945 - val_loss: 21160607744.0000 - val_mean_absolute_error: 131626.0781\n",
            "Epoch 8/20\n",
            "3/3 [==============================] - 0s 24ms/step - loss: 20828977664.0000 - mean_absolute_error: 126757.3789 - val_loss: 17773109248.0000 - val_mean_absolute_error: 120621.6406\n",
            "Epoch 9/20\n",
            "3/3 [==============================] - 0s 26ms/step - loss: 16927939840.0000 - mean_absolute_error: 113743.3008 - val_loss: 14816713728.0000 - val_mean_absolute_error: 110123.3672\n",
            "Epoch 10/20\n",
            "3/3 [==============================] - 0s 23ms/step - loss: 14356617472.0000 - mean_absolute_error: 104876.9102 - val_loss: 12244814848.0000 - val_mean_absolute_error: 100099.7578\n",
            "Epoch 11/20\n",
            "3/3 [==============================] - 0s 25ms/step - loss: 11339479040.0000 - mean_absolute_error: 93366.8535 - val_loss: 10040951808.0000 - val_mean_absolute_error: 90634.2734\n",
            "Epoch 12/20\n",
            "3/3 [==============================] - 0s 24ms/step - loss: 9573171456.0000 - mean_absolute_error: 85291.4570 - val_loss: 8153428992.0000 - val_mean_absolute_error: 81661.0469\n",
            "Epoch 13/20\n",
            "3/3 [==============================] - 0s 26ms/step - loss: 8026634496.0000 - mean_absolute_error: 78769.4297 - val_loss: 6548533760.0000 - val_mean_absolute_error: 73172.1172\n",
            "Epoch 14/20\n",
            "3/3 [==============================] - 0s 25ms/step - loss: 6473606144.0000 - mean_absolute_error: 70750.5703 - val_loss: 5201171968.0000 - val_mean_absolute_error: 65198.7734\n",
            "Epoch 15/20\n",
            "3/3 [==============================] - 0s 26ms/step - loss: 4986527232.0000 - mean_absolute_error: 61858.8457 - val_loss: 4085398528.0000 - val_mean_absolute_error: 57770.3320\n",
            "Epoch 16/20\n",
            "3/3 [==============================] - 0s 24ms/step - loss: 3778066112.0000 - mean_absolute_error: 53441.5762 - val_loss: 3166433792.0000 - val_mean_absolute_error: 50845.2734\n",
            "Epoch 17/20\n",
            "3/3 [==============================] - 0s 24ms/step - loss: 3107846400.0000 - mean_absolute_error: 48794.7881 - val_loss: 2414552576.0000 - val_mean_absolute_error: 44384.7266\n",
            "Epoch 18/20\n",
            "3/3 [==============================] - 0s 25ms/step - loss: 2400707648.0000 - mean_absolute_error: 42986.0762 - val_loss: 1808225024.0000 - val_mean_absolute_error: 38393.2734\n",
            "Epoch 19/20\n",
            "3/3 [==============================] - 0s 24ms/step - loss: 1789589952.0000 - mean_absolute_error: 36507.1865 - val_loss: 1328371328.0000 - val_mean_absolute_error: 32889.3359\n",
            "Epoch 20/20\n",
            "3/3 [==============================] - 0s 25ms/step - loss: 1335281312.0000 - mean_absolute_error: 31701.5029 - val_loss: 954139328.0000 - val_mean_absolute_error: 27855.0254\n"
          ],
          "name": "stdout"
        }
      ]
    },
    {
      "cell_type": "code",
      "metadata": {
        "id": "HfwOs7zaOD41",
        "colab": {
          "base_uri": "https://localhost:8080/"
        },
        "outputId": "618907c8-7d97-4a37-ff54-c95074f9b3c5"
      },
      "source": [
        "model.summary()"
      ],
      "execution_count": 13,
      "outputs": [
        {
          "output_type": "stream",
          "text": [
            "Model: \"sequential\"\n",
            "_________________________________________________________________\n",
            "Layer (type)                 Output Shape              Param #   \n",
            "=================================================================\n",
            "dense (Dense)                (None, 20)                1380      \n",
            "_________________________________________________________________\n",
            "dense_1 (Dense)              (None, 10)                210       \n",
            "_________________________________________________________________\n",
            "dense_2 (Dense)              (None, 1)                 11        \n",
            "=================================================================\n",
            "Total params: 1,601\n",
            "Trainable params: 1,601\n",
            "Non-trainable params: 0\n",
            "_________________________________________________________________\n"
          ],
          "name": "stdout"
        }
      ]
    },
    {
      "cell_type": "markdown",
      "metadata": {
        "id": "EkeD61MtLnp7"
      },
      "source": [
        "Visualize the loss, model metrics as a function of epoch:"
      ]
    },
    {
      "cell_type": "code",
      "metadata": {
        "colab": {
          "base_uri": "https://localhost:8080/"
        },
        "id": "U1lf-PzgH7xk",
        "outputId": "10495f24-c23c-44a2-b6bc-f051f8f0bd1b"
      },
      "source": [
        "print(history.history.keys())"
      ],
      "execution_count": 14,
      "outputs": [
        {
          "output_type": "stream",
          "text": [
            "dict_keys(['loss', 'mean_absolute_error', 'val_loss', 'val_mean_absolute_error'])\n"
          ],
          "name": "stdout"
        }
      ]
    },
    {
      "cell_type": "code",
      "metadata": {
        "colab": {
          "base_uri": "https://localhost:8080/",
          "height": 295
        },
        "id": "oRMscn1QIWJf",
        "outputId": "cc0d1819-9880-4ea8-a81e-7f6ca1bc61ea"
      },
      "source": [
        "# summarize history for model metrics\n",
        "plt.plot(history.history['mean_absolute_error'])\n",
        "plt.title('model accuracy')\n",
        "plt.ylabel('accuracy')\n",
        "plt.xlabel('epoch')\n",
        "plt.legend(['train', 'test'], loc='upper left')\n",
        "plt.show()"
      ],
      "execution_count": 15,
      "outputs": [
        {
          "output_type": "display_data",
          "data": {
            "image/png": "[encoded data removed]",
            "text/plain": [
              "<Figure size 432x288 with 1 Axes>"
            ]
          },
          "metadata": {
            "tags": [],
            "needs_background": "light"
          }
        }
      ]
    },
    {
      "cell_type": "code",
      "metadata": {
        "colab": {
          "base_uri": "https://localhost:8080/",
          "height": 295
        },
        "id": "1tJno2oWIfqI",
        "outputId": "a23a0cf2-3b04-4595-ee51-cb7a26dd4788"
      },
      "source": [
        "# summarize history for loss\n",
        "plt.plot(history.history['loss'])\n",
        "plt.title('model loss')\n",
        "plt.ylabel('loss')\n",
        "plt.xlabel('epoch')\n",
        "plt.legend(['train', 'test'], loc='upper left')\n",
        "plt.show()"
      ],
      "execution_count": 16,
      "outputs": [
        {
          "output_type": "display_data",
          "data": {
            "image/png": "[encoded data removed]",
            "text/plain": [
              "<Figure size 432x288 with 1 Axes>"
            ]
          },
          "metadata": {
            "tags": [],
            "needs_background": "light"
          }
        }
      ]
    },
    {
      "cell_type": "markdown",
      "metadata": {
        "id": "85HhYVtEL4ks"
      },
      "source": [
        "Model prediction and performance assessment:"
      ]
    },
    {
      "cell_type": "code",
      "metadata": {
        "id": "EF3QRgHVZlyu"
      },
      "source": [
        "y_pred = model.predict(X_test)\n",
        "y_train_pred = model.predict(X_train)"
      ],
      "execution_count": 17,
      "outputs": []
    },
    {
      "cell_type": "code",
      "metadata": {
        "colab": {
          "base_uri": "https://localhost:8080/"
        },
        "id": "sD0s8HM8G4kB",
        "outputId": "202e819c-1611-41b6-e4e0-b9b873d33e45"
      },
      "source": [
        "r2 = r2_score(y_test, y_pred)\n",
        "print('Test set R-square', r2)\n",
        "r2 = r2_score(y_train, y_train_pred)\n",
        "print('Training set R-square', r2)"
      ],
      "execution_count": 18,
      "outputs": [
        {
          "output_type": "stream",
          "text": [
            "Test set R-square -753961700.0916079\n",
            "Training set R-square -748551134.9802226\n"
          ],
          "name": "stdout"
        }
      ]
    },
    {
      "cell_type": "markdown",
      "metadata": {
        "id": "TYjh_bA_Hhbe"
      },
      "source": [
        "TASKS:\n",
        "- Inspect the loss/metric score after each epoch, what is happening?\n",
        "- Plot the validation scores for the model metrics and the loss alongside the corresponding training set values shown above.\n",
        "- Is the model overfitting?\n",
        "- Experiment with the model architecture\n",
        "  - i.e. tune the number of hidden layers and the number of hidden units.\n",
        "- Use subset selection on the set of descriptors to improve your results\n",
        "- Create a plot of the actual formation energy versus the predicted formation energy for both the training set and the test set.\n",
        "- Compare the number of coefficients in the model to the number of data points. Is there a potential problem? What might that be?\n",
        "- Is the maximum number of epochs used appropriate?"
      ]
    },
    {
      "cell_type": "markdown",
      "metadata": {
        "id": "iOmrKJksMfcb"
      },
      "source": [
        "## Playing with GPUs\n",
        "QUESTION:\n",
        "- Time the NN training task for the CPU\n",
        "- Switch to a GPU and time the NN training task for the GPU\n",
        "\n",
        "(To change to a GPU, click on \"Runtime\" (in the menu above) and click on \"Change Runtime type\". Select the GPU option.)"
      ]
    },
    {
      "cell_type": "code",
      "metadata": {
        "id": "jhwL7zHgOlG1"
      },
      "source": [
        ""
      ],
      "execution_count": 17,
      "outputs": []
    }
  ]
}