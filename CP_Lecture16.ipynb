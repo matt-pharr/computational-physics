{
  "nbformat": 4,
  "nbformat_minor": 0,
  "metadata": {
    "colab": {
      "name": "CP_Lecture16.ipynb",
      "provenance": [],
      "collapsed_sections": [],
      "authorship_tag": "ABX9TyMf4/LN2tBWV/mg3rbRA1oi",
      "include_colab_link": true
    },
    "kernelspec": {
      "name": "python3",
      "display_name": "Python 3"
    },
    "language_info": {
      "name": "python"
    }
  },
  "cells": [
    {
      "cell_type": "markdown",
      "metadata": {
        "id": "view-in-github",
        "colab_type": "text"
      },
      "source": [
        "<a href=\"https://colab.research.google.com/github/quantum-intelligence/computational-physics/blob/main/CP_Lecture16.ipynb\" target=\"_parent\"><img src=\"https://colab.research.google.com/assets/colab-badge.svg\" alt=\"Open In Colab\"/></a>"
      ]
    },
    {
      "cell_type": "markdown",
      "metadata": {
        "id": "zJOS7iVgpzGo"
      },
      "source": [
        "# Computational Physics\n",
        "Lecture 16: GPUs and Neural Networks"
      ]
    },
    {
      "cell_type": "code",
      "metadata": {
        "id": "m6pLh9wbpur2"
      },
      "source": [
        "import numpy as np\n",
        "import matplotlib.pyplot as plt\n",
        "import pandas as pd\n",
        "from sklearn.linear_model import LinearRegression\n",
        "from sklearn.linear_model import Lasso\n",
        "from sklearn.linear_model import Ridge\n",
        "from sklearn.ensemble import RandomForestRegressor\n",
        "from sklearn.model_selection import train_test_split\n",
        "import os\n",
        "\n",
        "import tensorflow as tf\n",
        "from tensorflow import keras\n",
        "from tensorflow.keras import layers\n",
        "from sklearn.metrics import r2_score"
      ],
      "execution_count": 3,
      "outputs": []
    },
    {
      "cell_type": "markdown",
      "metadata": {
        "id": "gEemsLonqD26"
      },
      "source": [
        "Download data from :\n",
        "https://archive.materialscloud.org/record/2019.0020/v1\n",
        "\n",
        "Description of data and corresponding study can be found here:\n",
        "https://www.nature.com/articles/s41598-020-72811-z\n",
        "\n",
        "open and load \"magneticmoment_Ef_data.csv\" using pandas.\n",
        "- save the file to your google drive (with colab) or your local drive (jupyter notebook)."
      ]
    },
    {
      "cell_type": "code",
      "metadata": {
        "colab": {
          "base_uri": "https://localhost:8080/"
        },
        "id": "ggCwERf4tZMd",
        "outputId": "c33bb34e-2788-420b-8c9d-ffee14ce6aad"
      },
      "source": [
        "from google.colab import drive\n",
        "drive.mount('/content/drive')"
      ],
      "execution_count": 2,
      "outputs": [
        {
          "output_type": "stream",
          "text": [
            "Drive already mounted at /content/drive; to attempt to forcibly remount, call drive.mount(\"/content/drive\", force_remount=True).\n"
          ],
          "name": "stdout"
        }
      ]
    },
    {
      "cell_type": "markdown",
      "metadata": {
        "id": "wSYZQY3TwX4O"
      },
      "source": [
        "verify mount and check path for the csv file. Change the path below as needed."
      ]
    },
    {
      "cell_type": "code",
      "metadata": {
        "id": "N3a_uSXTu5qB"
      },
      "source": [
        "ls drive/MyDrive/Colab\\ Notebooks"
      ],
      "execution_count": null,
      "outputs": []
    },
    {
      "cell_type": "code",
      "metadata": {
        "id": "atY8SEhXqBkx"
      },
      "source": [
        "# Create dataframe of \"magneticmoment_Ef_data.csv\" using pandas.\n",
        "# Change the path to magneticmoment_Ef_data.csv as needed.\n",
        "data_path = \"drive/MyDrive/Colab Notebooks/magneticmoment_Ef_data.csv\"\n",
        "df = pd.read_csv(data_path)"
      ],
      "execution_count": 5,
      "outputs": []
    },
    {
      "cell_type": "markdown",
      "metadata": {
        "id": "neDeJU_zsdGl"
      },
      "source": [
        "Explore the pandas object by examinging the columns:\n",
        "- df.column()\n",
        "\n",
        "A summary of the dataframe:\n",
        "- df.head()\n"
      ]
    },
    {
      "cell_type": "code",
      "metadata": {
        "id": "rixumV-ixGmT"
      },
      "source": [
        "df.head(n=3)"
      ],
      "execution_count": null,
      "outputs": []
    },
    {
      "cell_type": "code",
      "metadata": {
        "id": "pW6Uv5S9Rj7X"
      },
      "source": [
        "#choose the appropriate set of descriptors here:\n",
        "descriptor_list = ['num_p', 'num_d', 'num_f',\n",
        "       'atomic_rad_sum_dif', 'atomic_rad_std_dif',\n",
        "       'atomic_rad_std', 'atomic_rad_avg', 'atomic_rad_max_dif',\n",
        "       'atomic_vol_sum_dif', 'atomic_vol_std_dif', 'atomic_vol_std',\n",
        "       'atomic_vol_avg', 'atomic_vol_max_dif', 'covalentrad_sum_dif',\n",
        "       'covalentrad_std_dif', 'covalentrad_std', 'covalentrad_avg',\n",
        "       'covalentrad_max_dif', 'dipole_sum_dif', 'dipole_std_dif', 'dipole_std',\n",
        "       'dipole_avg', 'dipole_max_dif', 'eaffinity_sum_dif',\n",
        "       'eaffinity_std_dif', 'eaffinity_std', 'e_affinity_avg',\n",
        "       'e_affinity_max_dif', 'numelectron_sum_dif', 'numelectron_std_dif',\n",
        "       'numelectron_std', 'numelectron_avg', 'numelectron_max_dif',\n",
        "       'vdwradius_sum_dif', 'vdwradius_std_dif', 'vdwradius_std',\n",
        "       'vdwradius_avg', 'vdwradius_max_dif', 'e_negativity_sum_dif',\n",
        "       'e_negativity_std_dif', 'e_negativity_std', 'e_negativity_avg',\n",
        "       'e_negativity_max_dif', 'nvalence_sum_dif', 'nvalence_std_dif',\n",
        "       'nvalence_std', 'nvalence_avg', 'nvalence_max_dif', \n",
        "       'cmpd_skew_p', 'cmpd_skew_d', 'cmpd_skew_f', 'cmpd_sigma_p',\n",
        "       'cmpd_sigma_d', 'cmpd_sigma_f', 'frac_f ', 'std_ion', 'sum_ion',\n",
        "       'mean_ion', 'Born', 'hardness_mean', 'hardness_var', 'Nup_mean',\n",
        "       'Nup_var', 'cs_bob', 'cs_PE', 'cs_IR', 'cs_AR', 'cs_OX']"
      ],
      "execution_count": 7,
      "outputs": []
    },
    {
      "cell_type": "markdown",
      "metadata": {
        "id": "3eyiiEOKxQkx"
      },
      "source": [
        "Consider the following target property, y and descriptors, X.\n",
        "\n",
        "y --> 'formation_energy'\n",
        "\n",
        "X --> descriptors in descriptor_list defined above...\n",
        "\n"
      ]
    },
    {
      "cell_type": "markdown",
      "metadata": {
        "id": "bGTM2bby0hnc"
      },
      "source": [
        "- Create model input, X and labels, y\n",
        "- Create a training set and a validation set"
      ]
    },
    {
      "cell_type": "code",
      "metadata": {
        "id": "IbH3xp5ZNls7",
        "colab": {
          "base_uri": "https://localhost:8080/"
        },
        "outputId": "28530aa2-0e25-4dd8-f9a3-fb797065d9f9"
      },
      "source": [
        "y = df['formation_energy'].values\n",
        "X = df[descriptor_list]\n",
        "X = np.asarray(X)\n",
        "print(\"X.shape\", X.shape)"
      ],
      "execution_count": 8,
      "outputs": [
        {
          "output_type": "stream",
          "text": [
            "X.shape (226, 68)\n"
          ],
          "name": "stdout"
        }
      ]
    },
    {
      "cell_type": "code",
      "metadata": {
        "id": "6nv5hV3fNnRB"
      },
      "source": [
        "# code to create training/test set commended below:\n",
        "test_size = 0.2 #test set split, e.g. 20% test set to 80% training set size...\n",
        "X_train, X_test, y_train, y_test = train_test_split(X, y, test_size=test_size, random_state=42)"
      ],
      "execution_count": 9,
      "outputs": []
    },
    {
      "cell_type": "code",
      "metadata": {
        "colab": {
          "base_uri": "https://localhost:8080/"
        },
        "id": "S-tSXbyHFvVo",
        "outputId": "4820f476-dad0-457c-8694-f2746ef4b725"
      },
      "source": [
        "print('descriptor dimension:', X_train[0].shape)"
      ],
      "execution_count": 10,
      "outputs": [
        {
          "output_type": "stream",
          "text": [
            "descriptor dimension: (68,)\n"
          ],
          "name": "stdout"
        }
      ]
    },
    {
      "cell_type": "markdown",
      "metadata": {
        "id": "hUevNzUZLdnD"
      },
      "source": [
        "Create a Sequential model using Keras"
      ]
    },
    {
      "cell_type": "code",
      "metadata": {
        "id": "OGY4v6zpNu4i"
      },
      "source": [
        "model = keras.Sequential()\n",
        "model.add(layers.Dense(20, input_dim=68, activation=\"relu\"))\n",
        "model.add(layers.Dense(10, activation=\"relu\"))\n",
        "model.add(layers.Dense(1))\n",
        "model.compile(loss='mean_squared_error', optimizer='adam', metrics=['mean_absolute_error'])"
      ],
      "execution_count": 11,
      "outputs": []
    },
    {
      "cell_type": "markdown",
      "metadata": {
        "id": "5SJrfKMrOTum"
      },
      "source": [
        "Fit the model to the training data:"
      ]
    },
    {
      "cell_type": "code",
      "metadata": {
        "id": "kA25iV4YE9XS"
      },
      "source": [
        "history = model.fit(X_train, y_train, epochs=20, batch_size=64,\n",
        "                    validation_data=(X_test, y_test))"
      ],
      "execution_count": null,
      "outputs": []
    },
    {
      "cell_type": "code",
      "metadata": {
        "id": "HfwOs7zaOD41"
      },
      "source": [
        "model.summary()"
      ],
      "execution_count": null,
      "outputs": []
    },
    {
      "cell_type": "markdown",
      "metadata": {
        "id": "EkeD61MtLnp7"
      },
      "source": [
        "Visualize the loss, model metrics as a function of epoch:"
      ]
    },
    {
      "cell_type": "code",
      "metadata": {
        "colab": {
          "base_uri": "https://localhost:8080/"
        },
        "id": "U1lf-PzgH7xk",
        "outputId": "10495f24-c23c-44a2-b6bc-f051f8f0bd1b"
      },
      "source": [
        "print(history.history.keys())"
      ],
      "execution_count": 14,
      "outputs": [
        {
          "output_type": "stream",
          "text": [
            "dict_keys(['loss', 'mean_absolute_error', 'val_loss', 'val_mean_absolute_error'])\n"
          ],
          "name": "stdout"
        }
      ]
    },
    {
      "cell_type": "code",
      "metadata": {
        "id": "oRMscn1QIWJf"
      },
      "source": [
        "# summarize history for model metrics\n",
        "plt.plot(history.history['mean_absolute_error'])\n",
        "plt.title('model accuracy')\n",
        "plt.ylabel('accuracy')\n",
        "plt.xlabel('epoch')\n",
        "plt.legend(['train', 'test'], loc='upper left')\n",
        "plt.show()"
      ],
      "execution_count": null,
      "outputs": []
    },
    {
      "cell_type": "code",
      "metadata": {
        "id": "1tJno2oWIfqI"
      },
      "source": [
        "# summarize history for loss\n",
        "plt.plot(history.history['loss'])\n",
        "plt.title('model loss')\n",
        "plt.ylabel('loss')\n",
        "plt.xlabel('epoch')\n",
        "plt.legend(['train', 'test'], loc='upper left')\n",
        "plt.show()"
      ],
      "execution_count": null,
      "outputs": []
    },
    {
      "cell_type": "markdown",
      "metadata": {
        "id": "85HhYVtEL4ks"
      },
      "source": [
        "Model prediction and performance assessment:"
      ]
    },
    {
      "cell_type": "code",
      "metadata": {
        "id": "EF3QRgHVZlyu"
      },
      "source": [
        "y_pred = model.predict(X_test)\n",
        "y_train_pred = model.predict(X_train)"
      ],
      "execution_count": 17,
      "outputs": []
    },
    {
      "cell_type": "code",
      "metadata": {
        "colab": {
          "base_uri": "https://localhost:8080/"
        },
        "id": "sD0s8HM8G4kB",
        "outputId": "202e819c-1611-41b6-e4e0-b9b873d33e45"
      },
      "source": [
        "r2 = r2_score(y_test, y_pred)\n",
        "print('Test set R-square', r2)\n",
        "r2 = r2_score(y_train, y_train_pred)\n",
        "print('Training set R-square', r2)"
      ],
      "execution_count": 18,
      "outputs": [
        {
          "output_type": "stream",
          "text": [
            "Test set R-square -753961700.0916079\n",
            "Training set R-square -748551134.9802226\n"
          ],
          "name": "stdout"
        }
      ]
    },
    {
      "cell_type": "markdown",
      "metadata": {
        "id": "TYjh_bA_Hhbe"
      },
      "source": [
        "TASKS:\n",
        "- Inspect the loss/metric score after each epoch, what is happening?\n",
        "- Plot the validation scores for the model metrics and the loss alongside the corresponding training set values shown above.\n",
        "- Is the model overfitting?\n",
        "- Experiment with the model architecture\n",
        "  - i.e. tune the number of hidden layers and the number of hidden units.\n",
        "- Use subset selection on the set of descriptors to improve your results\n",
        "- Create a plot of the actual formation energy versus the predicted formation energy for both the training set and the test set.\n",
        "- Compare the number of coefficients in the model to the number of data points. Is there a potential problem? What might that be?\n",
        "- Is the maximum number of epochs used appropriate?"
      ]
    },
    {
      "cell_type": "markdown",
      "metadata": {
        "id": "iOmrKJksMfcb"
      },
      "source": [
        "## Playing with GPUs\n",
        "QUESTION:\n",
        "- Time the NN training task for the CPU\n",
        "- Switch to a GPU and time the NN training task for the GPU\n",
        "\n",
        "(To change to a GPU, click on \"Runtime\" (in the menu above) and click on \"Change Runtime type\". Select the GPU option.)"
      ]
    },
    {
      "cell_type": "code",
      "metadata": {
        "id": "jhwL7zHgOlG1"
      },
      "source": [
        ""
      ],
      "execution_count": 17,
      "outputs": []
    }
  ]
}