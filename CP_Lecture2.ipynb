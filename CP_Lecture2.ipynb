{
  "nbformat": 4,
  "nbformat_minor": 0,
  "metadata": {
    "kernelspec": {
      "display_name": "Python (datsci)",
      "language": "python",
      "name": "datsci"
    },
    "language_info": {
      "codemirror_mode": {
        "name": "ipython",
        "version": 3
      },
      "file_extension": ".py",
      "mimetype": "text/x-python",
      "name": "python",
      "nbconvert_exporter": "python",
      "pygments_lexer": "ipython3",
      "version": "3.6.5"
    },
    "colab": {
      "name": "CP_Lecture2.ipynb",
      "provenance": [],
      "include_colab_link": true
    }
  },
  "cells": [
    {
      "cell_type": "markdown",
      "metadata": {
        "id": "view-in-github",
        "colab_type": "text"
      },
      "source": [
        "<a href=\"https://colab.research.google.com/github/quantum-intelligence/computational-physics/blob/main/CP_Lecture2.ipynb\" target=\"_parent\"><img src=\"https://colab.research.google.com/assets/colab-badge.svg\" alt=\"Open In Colab\"/></a>"
      ]
    },
    {
      "cell_type": "markdown",
      "metadata": {
        "id": "pLML23xeL0rF"
      },
      "source": [
        "# Computational Physics\n",
        "## Lecture 2"
      ]
    },
    {
      "cell_type": "markdown",
      "metadata": {
        "id": "oxQ5PLu7L0rK"
      },
      "source": [
        "Import python packages"
      ]
    },
    {
      "cell_type": "code",
      "metadata": {
        "id": "4fMXUngxL0rK"
      },
      "source": [
        "import numpy as np\n",
        "import matplotlib.pyplot as plt"
      ],
      "execution_count": null,
      "outputs": []
    },
    {
      "cell_type": "markdown",
      "metadata": {
        "id": "sede-KD7L0rL"
      },
      "source": [
        "Define x values and a function f(x)"
      ]
    },
    {
      "cell_type": "code",
      "metadata": {
        "id": "N2RKN8p2L0rL"
      },
      "source": [
        "def gen_x_and_f(N=10):\n",
        "    \"\"\" \n",
        "       generates arrays for x and f(x) \n",
        "       - f(x) is hard-coded\n",
        "       - the x range is hard-coded\n",
        "    \"\"\"\n",
        "    # N=10  # number of points\n",
        "    x = np.linspace(0,1,N)  # x array\n",
        "    f_x = x**2  # array of corresponding values for f(x)\n",
        "    return x, f_x"
      ],
      "execution_count": null,
      "outputs": []
    },
    {
      "cell_type": "code",
      "metadata": {
        "id": "4KDP3em5L0rL"
      },
      "source": [
        " x, f_x =  gen_x_and_f()"
      ],
      "execution_count": null,
      "outputs": []
    },
    {
      "cell_type": "code",
      "metadata": {
        "id": "XQiJvT_mL0rL"
      },
      "source": [
        "plt.scatter(x,f_x)\n",
        "plt.xlabel(\"x\",fontsize=15)\n",
        "plt.ylabel(\"f(x)\",fontsize=15)\n",
        "plt.show()"
      ],
      "execution_count": null,
      "outputs": []
    },
    {
      "cell_type": "markdown",
      "metadata": {
        "id": "8rg4if35L0rM"
      },
      "source": [
        "What is the integral of the function?"
      ]
    },
    {
      "cell_type": "code",
      "metadata": {
        "id": "a0MaDwadL0rM"
      },
      "source": [
        "def Riemann_left(x, f_x):\n",
        "    \"\"\" calculates the integral of the function using the left corner approximation \"\"\"\n",
        "    h = x[1] - x[0]\n",
        "    A = 0\n",
        "    for x_i in f_x:\n",
        "        da = x_i*h\n",
        "        A = A + da\n",
        "    return A"
      ],
      "execution_count": null,
      "outputs": []
    },
    {
      "cell_type": "code",
      "metadata": {
        "id": "BrY8YAiFL0rM"
      },
      "source": [
        "integral_N_10 = Riemann_left(x, f_x)\n",
        "print(\"Integrak using N points :\", integral_N_10)"
      ],
      "execution_count": null,
      "outputs": []
    },
    {
      "cell_type": "markdown",
      "metadata": {
        "id": "Kre-AGKrL0rM"
      },
      "source": [
        "### Tasks\n",
        "1. What is the exact value of the integral defined by the python function gen_x_and_f( )?\n",
        "2. Consider different values for thev number of points, N. What happens when N increases or decreases?\n",
        "3. Generate a plot with the error versus N\n",
        "4. Change the function from $f(x) = x^2$ to your favourite function. \n",
        "    - Make a plot of your function. \n",
        "    - How good is the numerical integration?"
      ]
    },
    {
      "cell_type": "markdown",
      "metadata": {
        "id": "833CJTW3L0rM"
      },
      "source": [
        "Task #1"
      ]
    },
    {
      "cell_type": "code",
      "metadata": {
        "id": "v_Flku_FL0rN"
      },
      "source": [
        ""
      ],
      "execution_count": null,
      "outputs": []
    },
    {
      "cell_type": "markdown",
      "metadata": {
        "id": "5l_O9gs9L0rN"
      },
      "source": [
        "Task #2"
      ]
    },
    {
      "cell_type": "code",
      "metadata": {
        "id": "p1meESUsL0rN"
      },
      "source": [
        ""
      ],
      "execution_count": null,
      "outputs": []
    },
    {
      "cell_type": "markdown",
      "metadata": {
        "id": "5ODdpH72L0rN"
      },
      "source": [
        "Task #3"
      ]
    },
    {
      "cell_type": "code",
      "metadata": {
        "id": "NK5XHJzdL0rN"
      },
      "source": [
        ""
      ],
      "execution_count": null,
      "outputs": []
    },
    {
      "cell_type": "markdown",
      "metadata": {
        "id": "N9ii75hVL0rN"
      },
      "source": [
        "Task #4"
      ]
    },
    {
      "cell_type": "code",
      "metadata": {
        "id": "prGMHIoWL0rN"
      },
      "source": [
        ""
      ],
      "execution_count": null,
      "outputs": []
    },
    {
      "cell_type": "markdown",
      "metadata": {
        "id": "VAgbje85L0rN"
      },
      "source": [
        "### Extra exercise:\n",
        "- Write a function that uses the top right corner approximation and compare it with the top left corner approximation."
      ]
    },
    {
      "cell_type": "code",
      "metadata": {
        "id": "FsCxkjDGL0rO"
      },
      "source": [
        ""
      ],
      "execution_count": null,
      "outputs": []
    }
  ]
}