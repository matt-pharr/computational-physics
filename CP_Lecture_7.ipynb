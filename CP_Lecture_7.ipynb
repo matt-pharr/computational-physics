{
  "nbformat": 4,
  "nbformat_minor": 0,
  "metadata": {
    "colab": {
      "name": "CP_Lecture_7.ipynb",
      "provenance": [],
      "authorship_tag": "ABX9TyOvvcCrSAbvO+69dXP2r5it",
      "include_colab_link": true
    },
    "kernelspec": {
      "name": "python3",
      "display_name": "Python 3"
    }
  },
  "cells": [
    {
      "cell_type": "markdown",
      "metadata": {
        "id": "view-in-github",
        "colab_type": "text"
      },
      "source": [
        "<a href=\"https://colab.research.google.com/github/quantum-intelligence/computational-physics/blob/main/CP_Lecture_7.ipynb\" target=\"_parent\"><img src=\"https://colab.research.google.com/assets/colab-badge.svg\" alt=\"Open In Colab\"/></a>"
      ]
    },
    {
      "cell_type": "markdown",
      "metadata": {
        "id": "MhT93IjkaUoZ"
      },
      "source": [
        "# Computational Physics\n",
        "Lecture 7\n",
        "### Data fitting"
      ]
    },
    {
      "cell_type": "code",
      "metadata": {
        "id": "Gjg9rVl5agDt"
      },
      "source": [
        "import numpy as np\n",
        "import matplotlib.pyplot as plt"
      ],
      "execution_count": 1,
      "outputs": []
    },
    {
      "cell_type": "markdown",
      "metadata": {
        "id": "mB8lu-P1a0Kn"
      },
      "source": [
        "Create some data for today's exercise:"
      ]
    },
    {
      "cell_type": "code",
      "metadata": {
        "colab": {
          "base_uri": "https://localhost:8080/",
          "height": 282
        },
        "id": "Tsbu-aUaa4_t",
        "outputId": "1aad14bf-8d5d-41cc-cd58-e559d5bf9672"
      },
      "source": [
        "x = np.arange(20)\n",
        "np.random.seed(42)\n",
        "r = np.random.random(len(x))\n",
        "r = (r-0.5)*100\n",
        "y = x + x**1.5 + np.sin(x/1.8)*r\n",
        "plt.scatter(x,y)"
      ],
      "execution_count": 2,
      "outputs": [
        {
          "output_type": "execute_result",
          "data": {
            "text/plain": [
              "<matplotlib.collections.PathCollection at 0x7f565a6ba2d0>"
            ]
          },
          "metadata": {
            "tags": []
          },
          "execution_count": 2
        },
        {
          "output_type": "display_data",
          "data": {
            "image/png": "[encoded data removed]",
            "text/plain": [
              "<Figure size 432x288 with 1 Axes>"
            ]
          },
          "metadata": {
            "tags": [],
            "needs_background": "light"
          }
        }
      ]
    },
    {
      "cell_type": "markdown",
      "metadata": {
        "id": "Q1wa09HHan0E"
      },
      "source": [
        "### Splines\n",
        "- Use splines to fit to the data provided"
      ]
    },
    {
      "cell_type": "code",
      "metadata": {
        "id": "6mifHirnaoyJ"
      },
      "source": [
        "#@title\n",
        "from scipy.interpolate import CubicSpline\n",
        "\n",
        "cs = CubicSpline(x, y) #create a Cubic spline using your data"
      ],
      "execution_count": 3,
      "outputs": []
    },
    {
      "cell_type": "markdown",
      "metadata": {
        "id": "V8SwzgHeebHn"
      },
      "source": [
        "##### Question:\n",
        "Plot the spline and your raw data\n",
        "- How good is the fit?\n"
      ]
    },
    {
      "cell_type": "code",
      "metadata": {
        "cellView": "form",
        "id": "hSw-pNr9eEfr"
      },
      "source": [
        "#@title\n",
        "# Solution\n",
        "xs = np.arange(-0.5, 19.6, 0.2) #create a different interval of x values\n",
        "plt.plot(xs,cs(xs),label='spline')\n",
        "plt.scatter(x,y,label='raw data')\n",
        "plt.xlabel('x')\n",
        "plt.ylabel('y')\n",
        "plt.legend()"
      ],
      "execution_count": null,
      "outputs": []
    },
    {
      "cell_type": "markdown",
      "metadata": {
        "id": "foG66StOemD9"
      },
      "source": [
        "### Fit your data to a model\n",
        "- You are a Nasa scientist and your task is to simulate the Mars rover orbital entry flight path.\n",
        "- LIDAR gives you data on the position of the orbiter as a function of time.\n",
        "- Fit a function of the position over time\n",
        "- assume z direction only"
      ]
    },
    {
      "cell_type": "code",
      "metadata": {
        "id": "EH-iZE2cf3xR"
      },
      "source": [
        "# Generate the position data:\n",
        "h = 5000 #initial height\n",
        "t = np.arange(10)  #time \n",
        "\n",
        "def sigmoid(x, a, b, c, d):\n",
        "    \"\"\" General sigmoid function\n",
        "    a adjusts amplitude\n",
        "    b adjusts y offset\n",
        "    c adjusts x offset\n",
        "    d adjusts slope \"\"\"\n",
        "    y = ((a-b) / (1 + np.exp(x-(c/2))**d)) + b\n",
        "    return y\n",
        "    \n",
        "a = -10+sigmoid(t, 8, 2, 48, 0.3)*2  #create a(t)\n",
        "u = -1000 #reentry speed\n",
        "x = u*t + 0.5*a*t**2 + h + np.random.random(len(t))*2000\n"
      ],
      "execution_count": 5,
      "outputs": []
    },
    {
      "cell_type": "markdown",
      "metadata": {
        "id": "JXBL2ioPH_bN"
      },
      "source": [
        ""
      ]
    },
    {
      "cell_type": "code",
      "metadata": {
        "colab": {
          "base_uri": "https://localhost:8080/",
          "height": 278
        },
        "id": "1nqT7nCMjEz2",
        "outputId": "70fbdb92-abef-4692-8730-faab02aae2e9"
      },
      "source": [
        "plt.scatter(t,x)\n",
        "plt.xlabel('t')\n",
        "plt.ylabel('z')\n",
        "plt.show()"
      ],
      "execution_count": 6,
      "outputs": [
        {
          "output_type": "display_data",
          "data": {
            "image/png": "[encoded data removed]",
            "text/plain": [
              "<Figure size 432x288 with 1 Axes>"
            ]
          },
          "metadata": {
            "tags": [],
            "needs_background": "light"
          }
        }
      ]
    },
    {
      "cell_type": "markdown",
      "metadata": {
        "id": "cwMFxqX2jeOu"
      },
      "source": [
        "Start work on your simulation with a linear fit of the data:\n",
        "- position versus time\n",
        "- use \"from scipy import stats\""
      ]
    },
    {
      "cell_type": "code",
      "metadata": {
        "cellView": "form",
        "id": "qkrqcH3DlV2I"
      },
      "source": [
        "#@title\n",
        "#solution\n",
        "from scipy import stats\n",
        "res = stats.linregress(t, x)\n",
        "plt.scatter(t,x, label ='LIDAR data')\n",
        "plt.plot(t, res.intercept + res.slope*t, 'r', label='fitted line')\n",
        "plt.legend()\n",
        "plt.xlabel('t')\n",
        "plt.ylabel('z')\n",
        "plt.show()"
      ],
      "execution_count": null,
      "outputs": []
    },
    {
      "cell_type": "markdown",
      "metadata": {
        "id": "pK3i6_pLn6Bp"
      },
      "source": [
        "Guess a better function to describe the motion and make a fit. How good is the fit?"
      ]
    },
    {
      "cell_type": "code",
      "metadata": {
        "id": "28SYK5NPpcCY"
      },
      "source": [
        "#write code here\n"
      ],
      "execution_count": 7,
      "outputs": []
    },
    {
      "cell_type": "markdown",
      "metadata": {
        "id": "cVfEbQGUIA5i"
      },
      "source": [
        "Calculate the velocity (derivative of x(t))\n",
        "- use \"from scipy.misc import derivative\"\n",
        "- Is the velocity zero when the Rover reaches the surface of Mars (x=0)?"
      ]
    },
    {
      "cell_type": "code",
      "metadata": {
        "id": "OfFYTS6mIrNo"
      },
      "source": [
        "#write code here\n"
      ],
      "execution_count": null,
      "outputs": []
    }
  ]
}