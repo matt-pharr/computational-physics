{
  "nbformat": 4,
  "nbformat_minor": 0,
  "metadata": {
    "colab": {
      "name": "CP Lecture 17.ipynb",
      "provenance": [],
      "collapsed_sections": [],
      "authorship_tag": "ABX9TyP4onUzZpe/dFNgF3AFGWBk",
      "include_colab_link": true
    },
    "kernelspec": {
      "name": "python3",
      "display_name": "Python 3"
    }
  },
  "cells": [
    {
      "cell_type": "markdown",
      "metadata": {
        "id": "view-in-github",
        "colab_type": "text"
      },
      "source": [
        "<a href=\"https://colab.research.google.com/github/quantum-intelligence/computational-physics/blob/main/CP_Lecture_17.ipynb\" target=\"_parent\"><img src=\"https://colab.research.google.com/assets/colab-badge.svg\" alt=\"Open In Colab\"/></a>"
      ]
    },
    {
      "cell_type": "markdown",
      "metadata": {
        "id": "cPwtEilRcm55"
      },
      "source": [
        "# Computational Physics\n",
        "## Lectuer 17\n",
        "### Fourier Transform"
      ]
    },
    {
      "cell_type": "code",
      "metadata": {
        "id": "8pi5IgIYvQs-"
      },
      "source": [
        "import numpy as np\n",
        "import matplotlib.pyplot as plt\n",
        "from IPython.display import clear_output\n",
        "import time\n",
        "from scipy.fft import fft, ifft\n",
        "%matplotlib inline\n",
        "import pandas_datareader.data as web\n",
        "import datetime as dt"
      ],
      "execution_count": 6,
      "outputs": []
    },
    {
      "cell_type": "markdown",
      "metadata": {
        "id": "mrY6qPTxglBq"
      },
      "source": [
        "### QUESTIONS\n",
        "Create a synthetid data set comprising a sum of sine functions.\n",
        "- Do an FFT analysis for 1 sine function\n",
        "- Do an FFT analysis for 1 sine function + constant\n",
        "- Consider 5 sine functions (with frequencies 1,2,3,4,5)\n",
        "- Vary the sampling rate and/or step size to test the Nyquist frequency. What is the role of aliasing in your analysis?"
      ]
    },
    {
      "cell_type": "markdown",
      "metadata": {
        "id": "1KF8uFssveCS"
      },
      "source": [
        "### Consider real world data\n",
        "- We will use stock market data which can seem periodic at times"
      ]
    },
    {
      "cell_type": "code",
      "metadata": {
        "id": "dz3lwxp4xUGy"
      },
      "source": [
        "start = dt.datetime(2015, 1, 1)\n",
        "end = dt.datetime.now()"
      ],
      "execution_count": 7,
      "outputs": []
    },
    {
      "cell_type": "code",
      "metadata": {
        "id": "z-lWfJ0axbsr"
      },
      "source": [
        "df = web.DataReader(\"TSLA\", 'yahoo', start, end) #Tesla\n",
        "df2 = web.DataReader(\"SPY\", 'yahoo', start, end) #SP500 index"
      ],
      "execution_count": 19,
      "outputs": []
    },
    {
      "cell_type": "code",
      "metadata": {
        "colab": {
          "base_uri": "https://localhost:8080/",
          "height": 225
        },
        "id": "2kMwwKGkdt61",
        "outputId": "ce8d5ed6-c0c9-485a-cf4a-fa90cc498f77"
      },
      "source": [
        "df.head()"
      ],
      "execution_count": 20,
      "outputs": [
        {
          "output_type": "execute_result",
          "data": {
            "text/html": [
              "<div>\n",
              "<style scoped>\n",
              "    .dataframe tbody tr th:only-of-type {\n",
              "        vertical-align: middle;\n",
              "    }\n",
              "\n",
              "    .dataframe tbody tr th {\n",
              "        vertical-align: top;\n",
              "    }\n",
              "\n",
              "    .dataframe thead th {\n",
              "        text-align: right;\n",
              "    }\n",
              "</style>\n",
              "<table border=\"1\" class=\"dataframe\">\n",
              "  <thead>\n",
              "    <tr style=\"text-align: right;\">\n",
              "      <th></th>\n",
              "      <th>High</th>\n",
              "      <th>Low</th>\n",
              "      <th>Open</th>\n",
              "      <th>Close</th>\n",
              "      <th>Volume</th>\n",
              "      <th>Adj Close</th>\n",
              "    </tr>\n",
              "    <tr>\n",
              "      <th>Date</th>\n",
              "      <th></th>\n",
              "      <th></th>\n",
              "      <th></th>\n",
              "      <th></th>\n",
              "      <th></th>\n",
              "      <th></th>\n",
              "    </tr>\n",
              "  </thead>\n",
              "  <tbody>\n",
              "    <tr>\n",
              "      <th>2015-01-02</th>\n",
              "      <td>44.650002</td>\n",
              "      <td>42.652000</td>\n",
              "      <td>44.574001</td>\n",
              "      <td>43.862000</td>\n",
              "      <td>23822000.0</td>\n",
              "      <td>43.862000</td>\n",
              "    </tr>\n",
              "    <tr>\n",
              "      <th>2015-01-05</th>\n",
              "      <td>43.299999</td>\n",
              "      <td>41.431999</td>\n",
              "      <td>42.910000</td>\n",
              "      <td>42.018002</td>\n",
              "      <td>26842500.0</td>\n",
              "      <td>42.018002</td>\n",
              "    </tr>\n",
              "    <tr>\n",
              "      <th>2015-01-06</th>\n",
              "      <td>42.840000</td>\n",
              "      <td>40.841999</td>\n",
              "      <td>42.012001</td>\n",
              "      <td>42.256001</td>\n",
              "      <td>31309500.0</td>\n",
              "      <td>42.256001</td>\n",
              "    </tr>\n",
              "    <tr>\n",
              "      <th>2015-01-07</th>\n",
              "      <td>42.956001</td>\n",
              "      <td>41.956001</td>\n",
              "      <td>42.669998</td>\n",
              "      <td>42.189999</td>\n",
              "      <td>14842000.0</td>\n",
              "      <td>42.189999</td>\n",
              "    </tr>\n",
              "    <tr>\n",
              "      <th>2015-01-08</th>\n",
              "      <td>42.759998</td>\n",
              "      <td>42.001999</td>\n",
              "      <td>42.562000</td>\n",
              "      <td>42.124001</td>\n",
              "      <td>17212500.0</td>\n",
              "      <td>42.124001</td>\n",
              "    </tr>\n",
              "  </tbody>\n",
              "</table>\n",
              "</div>"
            ],
            "text/plain": [
              "                 High        Low       Open      Close      Volume  Adj Close\n",
              "Date                                                                         \n",
              "2015-01-02  44.650002  42.652000  44.574001  43.862000  23822000.0  43.862000\n",
              "2015-01-05  43.299999  41.431999  42.910000  42.018002  26842500.0  42.018002\n",
              "2015-01-06  42.840000  40.841999  42.012001  42.256001  31309500.0  42.256001\n",
              "2015-01-07  42.956001  41.956001  42.669998  42.189999  14842000.0  42.189999\n",
              "2015-01-08  42.759998  42.001999  42.562000  42.124001  17212500.0  42.124001"
            ]
          },
          "metadata": {
            "tags": []
          },
          "execution_count": 20
        }
      ]
    },
    {
      "cell_type": "code",
      "metadata": {
        "id": "0gQC2DereH1l"
      },
      "source": [
        "# assume time steps of one day and no weekends\n",
        "t =  np.arange(len(df))\n",
        "price = df['Close']; price = np.asarray(price)"
      ],
      "execution_count": 29,
      "outputs": []
    },
    {
      "cell_type": "code",
      "metadata": {
        "colab": {
          "base_uri": "https://localhost:8080/",
          "height": 265
        },
        "id": "d4QMFeDIeC4Z",
        "outputId": "ae4f1449-0f01-41f5-eadb-77df742fb410"
      },
      "source": [
        "#plot price data over a number of days\n",
        "plt.scatter(t,price)\n",
        "plt.xlabel('day')\n",
        "plt.ylabel('price')\n",
        "plt.show()"
      ],
      "execution_count": 30,
      "outputs": [
        {
          "output_type": "display_data",
          "data": {
            "image/png": "[encoded data removed]",
            "text/plain": [
              "<Figure size 432x288 with 1 Axes>"
            ]
          },
          "metadata": {
            "tags": [],
            "needs_background": "light"
          }
        }
      ]
    },
    {
      "cell_type": "code",
      "metadata": {
        "colab": {
          "base_uri": "https://localhost:8080/",
          "height": 302
        },
        "id": "6mXNa1WAeZUq",
        "outputId": "27c5bcf9-e3b6-4927-940e-9bbc795ce4a1"
      },
      "source": [
        "price_fft = fft(price)\n",
        "freq = np.arange(len(price_fft)) #CHECK RANGE\n",
        "plt.plot(freq, price_fft)\n",
        "plt.ylim(0,100)\n",
        "plt.show()"
      ],
      "execution_count": 37,
      "outputs": [
        {
          "output_type": "stream",
          "text": [
            "/usr/local/lib/python3.7/dist-packages/numpy/core/_asarray.py:83: ComplexWarning: Casting complex values to real discards the imaginary part\n",
            "  return array(a, dtype, copy=False, order=order)\n"
          ],
          "name": "stderr"
        },
        {
          "output_type": "display_data",
          "data": {
            "image/png": "[encoded data removed]",
            "text/plain": [
              "<Figure size 432x288 with 1 Axes>"
            ]
          },
          "metadata": {
            "tags": [],
            "needs_background": "light"
          }
        }
      ]
    },
    {
      "cell_type": "code",
      "metadata": {
        "id": "GYmulcIVfYFA"
      },
      "source": [
        "### QUESTION:\n",
        "- vary the window and repeat the analysis\n",
        "- smooth data and repeat the analysis\n",
        "- repeat the above for the SP500\n",
        "- How could you use your analysis to predict the stock price?"
      ],
      "execution_count": 31,
      "outputs": []
    }
  ]
}