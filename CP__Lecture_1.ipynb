{
  "nbformat": 4,
  "nbformat_minor": 0,
  "metadata": {
    "colab": {
      "name": "CP_ Lecture_1.ipynb",
      "provenance": [],
      "authorship_tag": "ABX9TyOfcS0Q0gjw+/WS+LRyPVxQ",
      "include_colab_link": true
    },
    "kernelspec": {
      "name": "python3",
      "display_name": "Python 3"
    }
  },
  "cells": [
    {
      "cell_type": "markdown",
      "metadata": {
        "id": "view-in-github",
        "colab_type": "text"
      },
      "source": [
        "<a href=\"https://colab.research.google.com/github/quantum-intelligence/computational-physics/blob/main/CP__Lecture_1.ipynb\" target=\"_parent\"><img src=\"https://colab.research.google.com/assets/colab-badge.svg\" alt=\"Open In Colab\"/></a>"
      ]
    },
    {
      "cell_type": "code",
      "metadata": {
        "id": "_MugLowLYRzx"
      },
      "source": [
        "import numpy as np"
      ],
      "execution_count": 1,
      "outputs": []
    },
    {
      "cell_type": "markdown",
      "metadata": {
        "id": "RMgdVG5cgpjb"
      },
      "source": [
        "# Lecture 1a"
      ]
    },
    {
      "cell_type": "markdown",
      "metadata": {
        "id": "kCdigDi5akgm"
      },
      "source": [
        "Explore scientific notation in python using numpy"
      ]
    },
    {
      "cell_type": "code",
      "metadata": {
        "colab": {
          "base_uri": "https://localhost:8080/"
        },
        "id": "eSLF9T5Kajx3",
        "outputId": "6a891c79-dc96-4750-f6ff-8fc04386810f"
      },
      "source": [
        "# Assaign a value to my_value and run script:\n",
        "my_value = 152853.5047\n",
        "print(np.format_float_scientific(my_value))\n",
        "print(np.format_float_scientific(np.float32(my_value)))\n",
        "print(np.format_float_scientific(np.float64(my_value)))"
      ],
      "execution_count": 20,
      "outputs": [
        {
          "output_type": "stream",
          "text": [
            "1.528535047e+05\n",
            "1.528535e+05\n",
            "1.528535047e+05\n"
          ],
          "name": "stdout"
        }
      ]
    },
    {
      "cell_type": "markdown",
      "metadata": {
        "id": "-haZhn7gYeI3"
      },
      "source": [
        "To how many digits is $\\pi$ printed?"
      ]
    },
    {
      "cell_type": "code",
      "metadata": {
        "colab": {
          "base_uri": "https://localhost:8080/"
        },
        "id": "yqUe0O3GYZeg",
        "outputId": "83b645b6-f659-44e6-ca72-501c11b2381e"
      },
      "source": [
        "# Uncommment and run below code:\n",
        "# np.pi"
      ],
      "execution_count": 6,
      "outputs": [
        {
          "output_type": "execute_result",
          "data": {
            "text/plain": [
              "3.141592653589793"
            ]
          },
          "metadata": {
            "tags": []
          },
          "execution_count": 6
        }
      ]
    },
    {
      "cell_type": "markdown",
      "metadata": {
        "id": "l9bZPZGxZPkl"
      },
      "source": [
        "\n",
        "\n",
        "---\n",
        "\n",
        "\n",
        "\n",
        "---\n",
        "\n"
      ]
    },
    {
      "cell_type": "code",
      "metadata": {
        "id": "mGeKNFgQYbQG"
      },
      "source": [
        "decimal_rep = 43\n",
        "binary_rep = np.binary_repr(decimal_rep)\n",
        "hexadecimal_rep = np.base_repr(decimal_rep, 16)\n",
        "# create print statements to print he results for binary_rep and hexadecimal_rep"
      ],
      "execution_count": 15,
      "outputs": []
    },
    {
      "cell_type": "markdown",
      "metadata": {
        "id": "8jhJ8b7JZZl9"
      },
      "source": [
        "What is 10 (base 10) in binary representation?\n",
        "Check your answer using python:"
      ]
    },
    {
      "cell_type": "code",
      "metadata": {
        "id": "bTZ4Y3tGfB5-"
      },
      "source": [
        "#type your code here and print result:\n"
      ],
      "execution_count": 22,
      "outputs": []
    },
    {
      "cell_type": "markdown",
      "metadata": {
        "id": "Z14UaM8CgNUT"
      },
      "source": [
        "What's the max number of digits taht will be printed for a single? And a double? Demonstrate by printing a number stored as a variable below."
      ]
    },
    {
      "cell_type": "code",
      "metadata": {
        "id": "4esUB5nVgXs_"
      },
      "source": [
        "# type your code here:\n"
      ],
      "execution_count": 21,
      "outputs": []
    },
    {
      "cell_type": "markdown",
      "metadata": {
        "id": "H3znS8FYgaBa"
      },
      "source": [
        "# Lecture 1b"
      ]
    },
    {
      "cell_type": "markdown",
      "metadata": {
        "id": "Dx87QbeEgoUq"
      },
      "source": [
        "Addition - commutative/associative?"
      ]
    },
    {
      "cell_type": "code",
      "metadata": {
        "id": "ZpcnX2tlnXuU"
      },
      "source": [
        "a = 1234.567\n",
        "b = 45.67834\n",
        "c = 0.0004\n",
        "#set to 7 digits (float32)\n",
        "a = np.float32(a); b = np.float32(b); c = np.float32(c)"
      ],
      "execution_count": 25,
      "outputs": []
    },
    {
      "cell_type": "code",
      "metadata": {
        "colab": {
          "base_uri": "https://localhost:8080/"
        },
        "id": "9PGFs1Ihnn90",
        "outputId": "817fbee3-70ac-4b5d-fcad-4b11943690e2"
      },
      "source": [
        "sum1 = (a+b)\n",
        "aum1 = sum1 + c\n",
        "print(sum1)"
      ],
      "execution_count": 26,
      "outputs": [
        {
          "output_type": "stream",
          "text": [
            "1280.2454\n"
          ],
          "name": "stdout"
        }
      ]
    },
    {
      "cell_type": "code",
      "metadata": {
        "colab": {
          "base_uri": "https://localhost:8080/"
        },
        "id": "h8ZHEAexn1zA",
        "outputId": "23b23149-8669-4597-e72e-275bfe653a7a"
      },
      "source": [
        "sum2 = (b+c)\n",
        "sum2 = sum2+a\n",
        "print(sum2)"
      ],
      "execution_count": 27,
      "outputs": [
        {
          "output_type": "stream",
          "text": [
            "1280.2457\n"
          ],
          "name": "stdout"
        }
      ]
    },
    {
      "cell_type": "code",
      "metadata": {
        "colab": {
          "base_uri": "https://localhost:8080/"
        },
        "id": "AxvlYTZhoDUo",
        "outputId": "9ae58e1b-a84d-4ad0-824d-7b2318d364c9"
      },
      "source": [
        "# sum1 and sum2 equal?\n",
        "print(\"Is sum1 == sum2 :\", sum1 == sum2)"
      ],
      "execution_count": 32,
      "outputs": [
        {
          "output_type": "stream",
          "text": [
            "Is sum1 == sum2 : False\n"
          ],
          "name": "stdout"
        }
      ]
    },
    {
      "cell_type": "markdown",
      "metadata": {
        "id": "sp9w1kzzosG0"
      },
      "source": [
        "Limited precision can affect calculations:"
      ]
    },
    {
      "cell_type": "code",
      "metadata": {
        "colab": {
          "base_uri": "https://localhost:8080/"
        },
        "id": "UnnIKSyXoMV4",
        "outputId": "19258b67-01df-45ba-c0ce-35c28a702a51"
      },
      "source": [
        "seven = np.float32(7)\n",
        "ten_minus_seven = np.float32(10**-7)\n",
        "print(seven)\n",
        "print(ten_minus_seven)"
      ],
      "execution_count": 33,
      "outputs": [
        {
          "output_type": "stream",
          "text": [
            "7.0\n",
            "1e-07\n"
          ],
          "name": "stdout"
        }
      ]
    },
    {
      "cell_type": "code",
      "metadata": {
        "colab": {
          "base_uri": "https://localhost:8080/"
        },
        "id": "TP-SB1leo9Bh",
        "outputId": "7fac745c-df22-48ba-b575-cacbde73ba23"
      },
      "source": [
        "sum3 = seven + ten_minus_seven\n",
        "print(sum3)"
      ],
      "execution_count": 34,
      "outputs": [
        {
          "output_type": "stream",
          "text": [
            "7.0\n"
          ],
          "name": "stdout"
        }
      ]
    },
    {
      "cell_type": "code",
      "metadata": {
        "id": "DuBcJ8fSpAwz"
      },
      "source": [
        "# Try it on your own! Sum two single precision numbers here.  What is the result?\n",
        " "
      ],
      "execution_count": 35,
      "outputs": []
    },
    {
      "cell_type": "code",
      "metadata": {
        "id": "t-G7mmuDpmFZ"
      },
      "source": [
        ""
      ],
      "execution_count": null,
      "outputs": []
    }
  ]
}