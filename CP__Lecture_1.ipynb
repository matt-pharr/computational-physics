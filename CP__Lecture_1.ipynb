{
  "nbformat": 4,
  "nbformat_minor": 0,
  "metadata": {
    "colab": {
      "name": "CP_ Lecture_1.ipynb",
      "provenance": [],
      "authorship_tag": "ABX9TyMVSvm81ARjXVYFgKImiUjM",
      "include_colab_link": true
    },
    "kernelspec": {
      "name": "python3",
      "display_name": "Python 3"
    }
  },
  "cells": [
    {
      "cell_type": "markdown",
      "metadata": {
        "id": "view-in-github",
        "colab_type": "text"
      },
      "source": [
        "<a href=\"https://colab.research.google.com/github/quantum-intelligence/computational-physics/blob/main/CP__Lecture_1.ipynb\" target=\"_parent\"><img src=\"https://colab.research.google.com/assets/colab-badge.svg\" alt=\"Open In Colab\"/></a>"
      ]
    },
    {
      "cell_type": "code",
      "metadata": {
        "id": "_MugLowLYRzx"
      },
      "source": [
        "import numpy as np"
      ],
      "execution_count": 4,
      "outputs": []
    },
    {
      "cell_type": "code",
      "metadata": {
        "colab": {
          "base_uri": "https://localhost:8080/"
        },
        "id": "dfFdphcN01PF",
        "outputId": "acc5e9d6-d92b-457c-ad1f-8a845d34eb5e"
      },
      "source": [
        "!pip install visual"
      ],
      "execution_count": 22,
      "outputs": [
        {
          "output_type": "stream",
          "text": [
            "\u001b[31mERROR: Could not find a version that satisfies the requirement visual (from versions: none)\u001b[0m\n",
            "\u001b[31mERROR: No matching distribution found for visual\u001b[0m\n"
          ],
          "name": "stdout"
        }
      ]
    },
    {
      "cell_type": "markdown",
      "metadata": {
        "id": "RMgdVG5cgpjb"
      },
      "source": [
        "# Lecture 1a"
      ]
    },
    {
      "cell_type": "markdown",
      "metadata": {
        "id": "kCdigDi5akgm"
      },
      "source": [
        "Explore scientific notation in python using numpy"
      ]
    },
    {
      "cell_type": "code",
      "metadata": {
        "colab": {
          "base_uri": "https://localhost:8080/"
        },
        "id": "eSLF9T5Kajx3",
        "outputId": "ebe1a262-eae6-45bb-a8aa-4b15fb738e5e"
      },
      "source": [
        "# Assaign a value to my_value and run script:\n",
        "my_value = 152853.5047\n",
        "print(np.format_float_scientific(my_value))\n",
        "print(np.format_float_scientific(np.float32(my_value)))\n",
        "print(np.format_float_scientific(np.float64(my_value)))"
      ],
      "execution_count": null,
      "outputs": [
        {
          "output_type": "stream",
          "text": [
            "1.528535047e+05\n",
            "1.528535e+05\n",
            "1.528535047e+05\n"
          ],
          "name": "stdout"
        }
      ]
    },
    {
      "cell_type": "markdown",
      "metadata": {
        "id": "-haZhn7gYeI3"
      },
      "source": [
        "To how many digits is $\\pi$ printed?"
      ]
    },
    {
      "cell_type": "code",
      "metadata": {
        "colab": {
          "base_uri": "https://localhost:8080/"
        },
        "id": "yqUe0O3GYZeg",
        "outputId": "83b645b6-f659-44e6-ca72-501c11b2381e"
      },
      "source": [
        "# Uncommment and run below code:\n",
        "# np.pi"
      ],
      "execution_count": null,
      "outputs": [
        {
          "output_type": "execute_result",
          "data": {
            "text/plain": [
              "3.141592653589793"
            ]
          },
          "metadata": {
            "tags": []
          },
          "execution_count": 6
        }
      ]
    },
    {
      "cell_type": "markdown",
      "metadata": {
        "id": "l9bZPZGxZPkl"
      },
      "source": [
        "\n",
        "\n",
        "---\n",
        "\n",
        "\n",
        "\n",
        "---\n",
        "\n"
      ]
    },
    {
      "cell_type": "code",
      "metadata": {
        "id": "mGeKNFgQYbQG"
      },
      "source": [
        "decimal_rep = 43\n",
        "binary_rep = np.binary_repr(decimal_rep)\n",
        "hexadecimal_rep = np.base_repr(decimal_rep, 16)\n",
        "# create print statements to print he results for binary_rep and hexadecimal_rep"
      ],
      "execution_count": null,
      "outputs": []
    },
    {
      "cell_type": "markdown",
      "metadata": {
        "id": "8jhJ8b7JZZl9"
      },
      "source": [
        "What is 10 (base 10) in binary representation?\n",
        "Check your answer using python:"
      ]
    },
    {
      "cell_type": "code",
      "metadata": {
        "id": "bTZ4Y3tGfB5-"
      },
      "source": [
        "#type your code here and print result:\n"
      ],
      "execution_count": null,
      "outputs": []
    },
    {
      "cell_type": "markdown",
      "metadata": {
        "id": "Z14UaM8CgNUT"
      },
      "source": [
        "What's the max number of digits taht will be printed for a single? And a double? Demonstrate by printing a number stored as a variable below."
      ]
    },
    {
      "cell_type": "code",
      "metadata": {
        "id": "4esUB5nVgXs_"
      },
      "source": [
        "# type your code here:\n"
      ],
      "execution_count": null,
      "outputs": []
    },
    {
      "cell_type": "markdown",
      "metadata": {
        "id": "H3znS8FYgaBa"
      },
      "source": [
        "# Lecture 1b"
      ]
    },
    {
      "cell_type": "markdown",
      "metadata": {
        "id": "Dx87QbeEgoUq"
      },
      "source": [
        "Addition - commutative/associative?"
      ]
    },
    {
      "cell_type": "code",
      "metadata": {
        "id": "ZpcnX2tlnXuU"
      },
      "source": [
        "a = 1234.567\n",
        "b = 45.67834\n",
        "c = 0.0004\n",
        "#set to 7 digits (float32)\n",
        "a = np.float32(a); b = np.float32(b); c = np.float32(c)"
      ],
      "execution_count": null,
      "outputs": []
    },
    {
      "cell_type": "code",
      "metadata": {
        "colab": {
          "base_uri": "https://localhost:8080/"
        },
        "id": "9PGFs1Ihnn90",
        "outputId": "817fbee3-70ac-4b5d-fcad-4b11943690e2"
      },
      "source": [
        "sum1 = (a+b)\n",
        "aum1 = sum1 + c\n",
        "print(sum1)"
      ],
      "execution_count": null,
      "outputs": [
        {
          "output_type": "stream",
          "text": [
            "1280.2454\n"
          ],
          "name": "stdout"
        }
      ]
    },
    {
      "cell_type": "code",
      "metadata": {
        "colab": {
          "base_uri": "https://localhost:8080/"
        },
        "id": "h8ZHEAexn1zA",
        "outputId": "23b23149-8669-4597-e72e-275bfe653a7a"
      },
      "source": [
        "sum2 = (b+c)\n",
        "sum2 = sum2+a\n",
        "print(sum2)"
      ],
      "execution_count": null,
      "outputs": [
        {
          "output_type": "stream",
          "text": [
            "1280.2457\n"
          ],
          "name": "stdout"
        }
      ]
    },
    {
      "cell_type": "code",
      "metadata": {
        "colab": {
          "base_uri": "https://localhost:8080/"
        },
        "id": "AxvlYTZhoDUo",
        "outputId": "9ae58e1b-a84d-4ad0-824d-7b2318d364c9"
      },
      "source": [
        "# sum1 and sum2 equal?\n",
        "print(\"Is sum1 == sum2 :\", sum1 == sum2)"
      ],
      "execution_count": null,
      "outputs": [
        {
          "output_type": "stream",
          "text": [
            "Is sum1 == sum2 : False\n"
          ],
          "name": "stdout"
        }
      ]
    },
    {
      "cell_type": "markdown",
      "metadata": {
        "id": "sp9w1kzzosG0"
      },
      "source": [
        "Limited precision can affect calculations:"
      ]
    },
    {
      "cell_type": "code",
      "metadata": {
        "colab": {
          "base_uri": "https://localhost:8080/"
        },
        "id": "UnnIKSyXoMV4",
        "outputId": "19258b67-01df-45ba-c0ce-35c28a702a51"
      },
      "source": [
        "seven = np.float32(7)\n",
        "ten_minus_seven = np.float32(10**-7)\n",
        "print(seven)\n",
        "print(ten_minus_seven)"
      ],
      "execution_count": null,
      "outputs": [
        {
          "output_type": "stream",
          "text": [
            "7.0\n",
            "1e-07\n"
          ],
          "name": "stdout"
        }
      ]
    },
    {
      "cell_type": "code",
      "metadata": {
        "colab": {
          "base_uri": "https://localhost:8080/"
        },
        "id": "TP-SB1leo9Bh",
        "outputId": "7fac745c-df22-48ba-b575-cacbde73ba23"
      },
      "source": [
        "sum3 = seven + ten_minus_seven\n",
        "print(sum3)"
      ],
      "execution_count": null,
      "outputs": [
        {
          "output_type": "stream",
          "text": [
            "7.0\n"
          ],
          "name": "stdout"
        }
      ]
    },
    {
      "cell_type": "code",
      "metadata": {
        "id": "DuBcJ8fSpAwz"
      },
      "source": [
        "# Try it on your own! Sum two single precision numbers here.  What is the result?\n",
        " "
      ],
      "execution_count": null,
      "outputs": []
    },
    {
      "cell_type": "markdown",
      "metadata": {
        "id": "DwiX4oZOtFDB"
      },
      "source": [
        "Calcaulate Machine Precision:\n",
        "- What is the machine precision in the below script?\n",
        "- What is it for single precision? \n",
        "- What is it for double precision?"
      ]
    },
    {
      "cell_type": "code",
      "metadata": {
        "id": "t-G7mmuDpmFZ",
        "colab": {
          "base_uri": "https://localhost:8080/"
        },
        "outputId": "1c012738-2493-4869-cd1d-99d83df281a5"
      },
      "source": [
        "# script to calculate the machine precision\n",
        "N = 5\n",
        "eps = 1.0; eps = np.float32(eps)\n",
        "for i in range(N):\n",
        "  eps = eps/np.float32(2)\n",
        "  one_plus_eps = np.float32(1) + eps\n",
        "  print('eps is: ', eps, 'one plus eps is:  ', one_plus_eps)"
      ],
      "execution_count": 19,
      "outputs": [
        {
          "output_type": "stream",
          "text": [
            "eps is:  0.5 one plus eps is:   1.5\n",
            "eps is:  0.25 one plus eps is:   1.25\n",
            "eps is:  0.125 one plus eps is:   1.125\n",
            "eps is:  0.0625 one plus eps is:   1.0625\n",
            "eps is:  0.03125 one plus eps is:   1.03125\n"
          ],
          "name": "stdout"
        }
      ]
    },
    {
      "cell_type": "code",
      "metadata": {
        "colab": {
          "base_uri": "https://localhost:8080/",
          "height": 282
        },
        "id": "NTYvQ5pkt6mq",
        "outputId": "22adc476-9517-4172-d88e-2eeaecfee947"
      },
      "source": [
        "np.random.seed(2) #set the random seed\n",
        "\n",
        "def gen_rand_sign(N):\n",
        "  \"\"\" this function generates a sequence of minus/plus signs \"\"\"\n",
        "  rand_nums = np.random.random(N)\n",
        "  sign = []\n",
        "  for r in rand_nums:\n",
        "    if r < 0.5:\n",
        "      e = -1\n",
        "    else:\n",
        "      e = +1\n",
        "    sign.append(e)\n",
        "  return sign\n",
        "\n",
        "def random_dist(N):\n",
        "  \"\"\" main function to calculate random walk \"\"\"\n",
        "  xsteps = np.random.random(N)\n",
        "  ysteps = np.random.random(N)\n",
        "  signx = gen_rand_sign(N)\n",
        "  signy = gen_rand_sign(N)\n",
        "  x=0\n",
        "  y=0\n",
        "  for i in np.arange(N):\n",
        "    dx_ = xsteps[i]*signx[i]\n",
        "    dy_ = ysteps[i]*signy[i]\n",
        "    L = np.sqrt((dx_)**2 + (dy_)**2)\n",
        "    dx = dx_/L #normalize to stepsize of 1\n",
        "    dy = dy_/L\n",
        "    x+=dx\n",
        "    y+=dy\n",
        "  r = np.sqrt(x**2 + y**2)\n",
        "  return r\n",
        "\n",
        "Nrange = 150\n",
        "Nvals = np.arange(Nrange)\n",
        "rvals = []\n",
        "for ith in Nvals:\n",
        "  r =  random_dist(ith)\n",
        "  rvals.append(r)\n",
        "\n",
        "plt.plot(np.sqrt(Nvals), rvals, c='r',alpha=0.5)\n",
        "guideline = np.arange(np.sqrt(Nrange))\n",
        "plt.plot(guideline,guideline, '--',c='grey')\n",
        "# Add some axis labels! What is being plotted here?\n",
        "# How would you simplify the code here?\n",
        "# What's good about how the code was implemented here?"
      ],
      "execution_count": 93,
      "outputs": [
        {
          "output_type": "execute_result",
          "data": {
            "text/plain": [
              "[<matplotlib.lines.Line2D at 0x7f6ae54ca630>]"
            ]
          },
          "metadata": {
            "tags": []
          },
          "execution_count": 93
        },
        {
          "output_type": "display_data",
          "data": {
            "image/png": "[encoded data removed]",
            "text/plain": [
              "<Figure size 432x288 with 1 Axes>"
            ]
          },
          "metadata": {
            "tags": [],
            "needs_background": "light"
          }
        }
      ]
    },
    {
      "cell_type": "markdown",
      "metadata": {
        "id": "k2SEzT03GlrD"
      },
      "source": [
        "Why is the graph noisy?\n",
        "\n",
        "Write a script to 'remove the noise' in the plot."
      ]
    },
    {
      "cell_type": "code",
      "metadata": {
        "id": "Tg9NOj9IA6is"
      },
      "source": [
        ""
      ],
      "execution_count": null,
      "outputs": []
    }
  ]
}