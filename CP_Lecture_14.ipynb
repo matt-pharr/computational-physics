{
  "nbformat": 4,
  "nbformat_minor": 0,
  "metadata": {
    "colab": {
      "name": "CP_Lecture 14.ipynb",
      "provenance": [],
      "collapsed_sections": [],
      "authorship_tag": "ABX9TyPyZvrfW6GSQ8UVJ+MkYuzT",
      "include_colab_link": true
    },
    "kernelspec": {
      "name": "python3",
      "display_name": "Python 3"
    },
    "language_info": {
      "name": "python"
    }
  },
  "cells": [
    {
      "cell_type": "markdown",
      "metadata": {
        "id": "view-in-github",
        "colab_type": "text"
      },
      "source": [
        "<a href=\"https://colab.research.google.com/github/quantum-intelligence/computational-physics/blob/main/CP_Lecture_14.ipynb\" target=\"_parent\"><img src=\"https://colab.research.google.com/assets/colab-badge.svg\" alt=\"Open In Colab\"/></a>"
      ]
    },
    {
      "cell_type": "markdown",
      "metadata": {
        "id": "jXeRSeZc1FM_"
      },
      "source": [
        "# Computational Physics\n",
        "Lecture 14: Eigenvalues and Eigenvectors"
      ]
    },
    {
      "cell_type": "code",
      "metadata": {
        "id": "Dtg77d1a3JF3"
      },
      "source": [
        "import numpy as np\n",
        "import matplotlib.pyplot as plt"
      ],
      "execution_count": null,
      "outputs": []
    },
    {
      "cell_type": "markdown",
      "metadata": {
        "id": "oZZMfq5fDhOP"
      },
      "source": [
        "### 1D Simple Harmonic oscillator\n",
        "1D Schrodinger equation\n",
        "- Inspect the code below to understand how we can solve the S.E. by diagonalizing the Hamiltonian."
      ]
    },
    {
      "cell_type": "code",
      "metadata": {
        "id": "DsxUI0Bq1jac"
      },
      "source": [
        "#Construct Hamiltonian matrix for SHO\n",
        "nx=200\n",
        "h=0.1\n",
        "x0=-nx*h/2.0\n",
        "del2x_1D=np.eye(nx)\n",
        "for i in range(nx):\n",
        "  if (i>0): del2x_1D[i,i-1]=1\n",
        "  if (i<nx-1): del2x_1D[i,i+1]=1\n",
        "  del2x_1D[i,i]=-2\n",
        "del2x_1D=del2x_1D/(h**2)\n",
        "def vpot(x):\n",
        "  return x*x;\n",
        "#Add the potential to the Hamiltonian\n",
        "V=np.zeros((nx,nx))\n",
        "for i in range(nx):\n",
        "  V[i,i]=vpot(x0+i*h)\n",
        "H=-del2x_1D+V"
      ],
      "execution_count": null,
      "outputs": []
    },
    {
      "cell_type": "markdown",
      "metadata": {
        "id": "Jtv5RnQMD3OS"
      },
      "source": [
        "Calculate the eigenvectors and eigenvalues:"
      ]
    },
    {
      "cell_type": "code",
      "metadata": {
        "id": "gP8Vseff3MfN"
      },
      "source": [
        "eval,vec=np.linalg.eigh(H) # solve eigenvalue problem"
      ],
      "execution_count": null,
      "outputs": []
    },
    {
      "cell_type": "markdown",
      "metadata": {
        "id": "JElkqQvZD-hB"
      },
      "source": [
        "Visulaize the results:"
      ]
    },
    {
      "cell_type": "code",
      "metadata": {
        "colab": {
          "base_uri": "https://localhost:8080/",
          "height": 269
        },
        "id": "s1JcwQY73e_w",
        "outputId": "56a79bea-4fdf-4c2b-e42d-55fc30351901"
      },
      "source": [
        "xs=np.linspace(-x0,x0,nx)\n",
        "#plot first three wavefunctiosn offset by their energies\n",
        "plt.plot(xs,vec[:,2]+eval[2])\n",
        "plt.plot(xs,vec[:,1]+eval[1])\n",
        "plt.plot(xs,vec[:,0]+eval[0])\n",
        "plt.xlim(-5,5)\n",
        "plt.ylim(0,6)\n",
        "plt.plot(xs,vpot(xs)) #plot potential\n",
        "plt.show()"
      ],
      "execution_count": null,
      "outputs": [
        {
          "output_type": "display_data",
          "data": {
            "image/png": "[encoded data removed]",
            "text/plain": [
              "<Figure size 432x288 with 1 Axes>"
            ]
          },
          "metadata": {
            "tags": [],
            "needs_background": "light"
          }
        }
      ]
    },
    {
      "cell_type": "markdown",
      "metadata": {
        "id": "FzC3KKqu36jG"
      },
      "source": [
        "QUESTION:\n",
        "- SOLVE THE 2D SE EQUATION IN A BOX, FIND THE FIRST FEW\n",
        "EIGENVALUES AND EIGENFUNCTIONS"
      ]
    },
    {
      "cell_type": "code",
      "metadata": {
        "id": "hYrVnjcMEWON"
      },
      "source": [
        "# write your code here"
      ],
      "execution_count": 1,
      "outputs": []
    },
    {
      "cell_type": "code",
      "metadata": {
        "id": "Iy-Z-3aSEZW9"
      },
      "source": [
        ""
      ],
      "execution_count": null,
      "outputs": []
    }
  ]
}