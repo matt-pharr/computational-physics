{
  "nbformat": 4,
  "nbformat_minor": 0,
  "metadata": {
    "colab": {
      "name": "CP_Lecture3.ipynb",
      "provenance": [],
      "authorship_tag": "ABX9TyOhP2sw0wOhJEnPUW0iUQ3F",
      "include_colab_link": true
    },
    "kernelspec": {
      "name": "python3",
      "display_name": "Python 3"
    }
  },
  "cells": [
    {
      "cell_type": "markdown",
      "metadata": {
        "id": "view-in-github",
        "colab_type": "text"
      },
      "source": [
        "<a href=\"https://colab.research.google.com/github/quantum-intelligence/computational-physics/blob/main/CP_Lecture3.ipynb\" target=\"_parent\"><img src=\"https://colab.research.google.com/assets/colab-badge.svg\" alt=\"Open In Colab\"/></a>"
      ]
    },
    {
      "cell_type": "markdown",
      "metadata": {
        "id": "c3jTnJwGnEhB"
      },
      "source": [
        "### Computational Physics\n",
        "Lecture 3: Zero finding"
      ]
    },
    {
      "cell_type": "code",
      "metadata": {
        "id": "P7LdqQ1n7hAi"
      },
      "source": [
        "import numpy as np\n",
        "import matplotlib.pyplot as plt"
      ],
      "execution_count": 3,
      "outputs": []
    },
    {
      "cell_type": "markdown",
      "metadata": {
        "id": "GZD5AXkeI2Wx"
      },
      "source": [
        "NaCl example"
      ]
    },
    {
      "cell_type": "code",
      "metadata": {
        "id": "QSVb6a3BnWAM"
      },
      "source": [
        "r = np.arange(0.1,5,0.01)\n",
        "r = r*1e-10\n",
        "epsi = 8.854e-12\n",
        "el = 1.602e-19\n",
        "k = 8.98e9\n",
        "V_a = -k*(el**2)/r\n",
        "V_a = V_a/el\n",
        "r0 = 0.33e-10\n",
        "V0 = 1.088e3*el\n",
        "V_r = V0*np.exp(-1*r/r0)\n",
        "V_r = V_r/el"
      ],
      "execution_count": 4,
      "outputs": []
    },
    {
      "cell_type": "code",
      "metadata": {
        "colab": {
          "base_uri": "https://localhost:8080/",
          "height": 287
        },
        "id": "T4sm9xvPng5W",
        "outputId": "a0ebcfae-5637-4995-b013-4bb064f42e2d"
      },
      "source": [
        "ra= r/1e-10\n",
        "plt.plot(ra,V_r,'--',c='orange')\n",
        "plt.plot(ra,V_a,'--',c='green')\n",
        "plt.plot(ra,V_a+V_r, linewidth=2,c='black')\n",
        "plt.ylim(-14,8)\n",
        "plt.xlabel('r [A]',fontsize=20)\n",
        "plt.ylabel('V [eV]',fontsize=20)\n",
        "plt.show()"
      ],
      "execution_count": 5,
      "outputs": [
        {
          "output_type": "display_data",
          "data": {
            "image/png": "[encoded data removed]",
            "text/plain": [
              "<Figure size 432x288 with 1 Axes>"
            ]
          },
          "metadata": {
            "tags": [],
            "needs_background": "light"
          }
        }
      ]
    },
    {
      "cell_type": "markdown",
      "metadata": {
        "id": "DlIkNes3Ivq4"
      },
      "source": [
        "Zoom in on minimum:"
      ]
    },
    {
      "cell_type": "code",
      "metadata": {
        "colab": {
          "base_uri": "https://localhost:8080/",
          "height": 292
        },
        "id": "F6wERsdqJIL5",
        "outputId": "8f503b53-e394-4e08-aa0f-55ded094dba6"
      },
      "source": [
        "plt.plot(ra,V_r,'--',c='orange')\n",
        "plt.plot(ra,V_a,'--',c='green')\n",
        "plt.plot(ra,V_a+V_r, linewidth=2,c='black')\n",
        "# plt.xlim(0.0001e-13, 0.5e-11)\n",
        "plt.ylim(-5.3,-5.1)\n",
        "plt.xlim(2.2,2.55)\n",
        "plt.xlabel('r [A]',fontsize=20)\n",
        "plt.ylabel('V [eV]',fontsize=20)\n",
        "plt.show()"
      ],
      "execution_count": null,
      "outputs": [
        {
          "output_type": "display_data",
          "data": {
            "image/png": "[encoded data removed]",
            "text/plain": [
              "<Figure size 432x288 with 1 Axes>"
            ]
          },
          "metadata": {
            "tags": [],
            "needs_background": "light"
          }
        }
      ]
    },
    {
      "cell_type": "markdown",
      "metadata": {
        "id": "eZE6ArduI8Yo"
      },
      "source": [
        ""
      ]
    },
    {
      "cell_type": "markdown",
      "metadata": {
        "id": "LEbgKfgoMNSv"
      },
      "source": [
        "#### QUESTION:\n",
        "Write dwon an expresion for the first derivative of V(r) with respect to r in the space below:\n",
        "\n"
      ]
    },
    {
      "cell_type": "code",
      "metadata": {
        "id": "PttwSNjgJKZs"
      },
      "source": [
        ""
      ],
      "execution_count": null,
      "outputs": []
    },
    {
      "cell_type": "markdown",
      "metadata": {
        "id": "iDprMa5AJQXT"
      },
      "source": [
        "Define a function f(r) = dV(r)/dr and find the zero of the function using the bisection algorithm. Start close to r=3 Angstrons."
      ]
    },
    {
      "cell_type": "code",
      "metadata": {
        "id": "vwKGRD72JiVF"
      },
      "source": [
        "## Type your code here"
      ],
      "execution_count": null,
      "outputs": []
    },
    {
      "cell_type": "markdown",
      "metadata": {
        "id": "JMygr-zZOxRe"
      },
      "source": [
        "#### QUESTION:\n",
        "Using the \"%%time\" function. Time how long your fucntion takes to calculate the root. Change your interval and yoru value of epsilon and consider how this affects the time.\n",
        "You will need the 'time' module"
      ]
    },
    {
      "cell_type": "markdown",
      "metadata": {
        "id": "d2v0hoaaPGKK"
      },
      "source": [
        "My solution below: Keep hidden until you are done."
      ]
    },
    {
      "cell_type": "code",
      "metadata": {
        "cellView": "form",
        "id": "ChJPLm-JMqn9"
      },
      "source": [
        "#@title\n",
        "# define some function to test the algorithm and create a plot\n",
        "def f(x):\n",
        "  return -1*x+1\n",
        "x = np.arange(-2,4)\n",
        "plt.plot(x,f(x))\n",
        "plt.grid()"
      ],
      "execution_count": null,
      "outputs": []
    },
    {
      "cell_type": "code",
      "metadata": {
        "cellView": "form",
        "id": "m4Fccn3EJnAW"
      },
      "source": [
        "#@title\n",
        "def bisection_algo():\n",
        "  \"\"\" \n",
        "    This function calculates the root using the bisection algorithm\n",
        "    - Everything is hardcoded. \n",
        "    - What would you do to include parameters for the function?\n",
        "  \"\"\"\n",
        "  eps = 0.005\n",
        "  x_p = 0\n",
        "  x_n = 2.5\n",
        "  x_mid = (x_p + x_n)/2\n",
        "  f_mid = f(x_mid)\n",
        "  print(\"First guess :\", f_mid)\n",
        "  counter = 0\n",
        "  while np.abs(f_mid) > eps: \n",
        "    print('enter loop')\n",
        "    if f_mid > 0:\n",
        "      x_p = x_mid\n",
        "    elif f_mid < 0:\n",
        "      x_n = x_mid\n",
        "    else:\n",
        "      break\n",
        "    print(\"counter:\",counter, \"x_p:\",x_p, \"x_n:\",x_n, \"f_mid:\",f_mid)\n",
        "    x_mid = (x_p + x_n)/2\n",
        "    f_mid = f(x_mid)\n",
        "    counter = counter + 1\n",
        "    if counter > 10:\n",
        "      break\n",
        "  print(\"Bisection algo finds zero at \", x_mid, \"f(x_mid) :\", f_mid)\n",
        "  return x_mid\n",
        "\n",
        "zero = bisection_algo()"
      ],
      "execution_count": null,
      "outputs": []
    }
  ]
}