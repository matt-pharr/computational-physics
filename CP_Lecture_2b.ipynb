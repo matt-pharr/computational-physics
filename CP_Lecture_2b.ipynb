{
  "nbformat": 4,
  "nbformat_minor": 0,
  "metadata": {
    "colab": {
      "name": "CP_Lecture_2b.ipynb",
      "provenance": [],
      "authorship_tag": "ABX9TyPdDRIWA0c3lLfZA8r/LvFF",
      "include_colab_link": true
    },
    "kernelspec": {
      "name": "python3",
      "display_name": "Python 3"
    }
  },
  "cells": [
    {
      "cell_type": "markdown",
      "metadata": {
        "id": "view-in-github",
        "colab_type": "text"
      },
      "source": [
        "<a href=\"https://colab.research.google.com/github/quantum-intelligence/computational-physics/blob/main/CP_Lecture_2b.ipynb\" target=\"_parent\"><img src=\"https://colab.research.google.com/assets/colab-badge.svg\" alt=\"Open In Colab\"/></a>"
      ]
    },
    {
      "cell_type": "markdown",
      "metadata": {
        "id": "tkNwc9PVyBS0"
      },
      "source": [
        "# Computational Physics\n",
        "Lecture 2b - Numerical Differentiation"
      ]
    },
    {
      "cell_type": "code",
      "metadata": {
        "id": "SY8XI55ByPA1"
      },
      "source": [
        "import numpy as np\n",
        "import matplotlib.pyplot as plt"
      ],
      "execution_count": 7,
      "outputs": []
    },
    {
      "cell_type": "code",
      "metadata": {
        "id": "UfDRYMAPyZIw"
      },
      "source": [
        "x = np.linspace(0,4,100)\n",
        "f_x = x**2"
      ],
      "execution_count": 67,
      "outputs": []
    },
    {
      "cell_type": "code",
      "metadata": {
        "colab": {
          "base_uri": "https://localhost:8080/",
          "height": 284
        },
        "id": "K5JZuj-jyi1_",
        "outputId": "ad9d3399-fc82-43d3-f777-42637e886659"
      },
      "source": [
        "plt.plot(x,f_x)\n",
        "plt.xlabel('x',fontsize=15)\n",
        "plt.ylabel('f(x)=x$^2$',fontsize=15)\n",
        "plt.show()"
      ],
      "execution_count": 68,
      "outputs": [
        {
          "output_type": "display_data",
          "data": {
            "image/png": "[encoded data removed]",
            "text/plain": [
              "<Figure size 432x288 with 1 Axes>"
            ]
          },
          "metadata": {
            "tags": [],
            "needs_background": "light"
          }
        }
      ]
    },
    {
      "cell_type": "markdown",
      "metadata": {
        "id": "D8-msWLm2Kwm"
      },
      "source": [
        "QUESTION:  \n",
        "What is the analytical derivative of this function $f(x) = x^2$ at $x$=2 ?"
      ]
    },
    {
      "cell_type": "markdown",
      "metadata": {
        "id": "U_Zt_tVCCgX_"
      },
      "source": [
        "Below I will write a function that calculates the numerical derivative using the forward difference method."
      ]
    },
    {
      "cell_type": "code",
      "metadata": {
        "id": "lIQMD0yiykaA"
      },
      "source": [
        "def df_dx(f_x, x, eval_x, h):\n",
        "  \"\"\" \n",
        "    calc first derivative \n",
        "    Input: x, f(x), eval_x, h\n",
        "    eval_x: x value at which you'd like to evaluate the derivative\n",
        "    h: step size, effective step size is calculated from input h\n",
        "    what to match input h to minimum h (h_min) in the x array and find appropriate h value based on this h_min\n",
        "  \"\"\"\n",
        "  h_min = x[1] - x[0]\n",
        "  #print('hmin',h_min)\n",
        "  h_multiple = h//h_min\n",
        "  h_dif = np.abs(h_min - h)\n",
        "  #print('hdif', h_dif)\n",
        "  if h < h_min:\n",
        "    h_eff = h_min\n",
        "  else:\n",
        "    if h_dif < h_min/2:\n",
        "      h_eff = h_min*h_multiple\n",
        "    else:\n",
        "      h_eff = h_min*(h_multiple + 1)\n",
        "  #print('h_eff', h_eff)\n",
        "  def nearest_x(x, eval_x):\n",
        "    \"\"\" subfunction to locate nearest x value \"\"\"\n",
        "    x_eval_dif = np.abs(x - eval_x)\n",
        "    min_val = np.min(x_eval_dif)\n",
        "    min_index = np.where(min_val==x_eval_dif)[0][0]\n",
        "    nearest_eval = x[min_index]\n",
        "    return min_index, nearest_eval\n",
        "  min_index, nearest_eval = nearest_x(x, eval_x)\n",
        "  # locate nearest value for x_i+h \n",
        "  min_index_h, nearest_eval_h = nearest_x(x, eval_x+h_eff)\n",
        "  f_xi = f_x[min_index]\n",
        "  f_xi_h = f_x[min_index_h]\n",
        "  #print(f_xi, f_xi_h)\n",
        "  dfdx = ( f_xi_h - f_xi )/h_eff\n",
        "  #print(dfdx)\n",
        "  return dfdx\n",
        "\n",
        "\n",
        "# QUESTIONS:\n",
        "\n",
        "# Study this function and use print statements to understand what each step is doing. \n",
        "# Uncomment some of the above print statements and examine the output.\n",
        "\n",
        "# Can you think of a better implementation?\n",
        "\n",
        "# Can you contrain the function parameters differently to make the implementation more straightforward?"
      ],
      "execution_count": 65,
      "outputs": []
    },
    {
      "cell_type": "markdown",
      "metadata": {
        "id": "CK9HeiyzCufY"
      },
      "source": [
        "Let's evaluate the numerical derivative of our function at $x$=2 and step size h = 0.2"
      ]
    },
    {
      "cell_type": "code",
      "metadata": {
        "colab": {
          "base_uri": "https://localhost:8080/"
        },
        "id": "k0OBPw2u2Gq2",
        "outputId": "51428427-5dd2-4085-9d06-8feb3337c4e2"
      },
      "source": [
        "eval_x = 2\n",
        "h = 0.2\n",
        "numerical_derivative = df_dx(f_x, x, eval_x, h)\n",
        "print('numerical_derivative of f(x) at x =', eval_x, 'and h =', h, ' is:', numerical_derivative)"
      ],
      "execution_count": 64,
      "outputs": [
        {
          "output_type": "stream",
          "text": [
            "numerical_derivative of f(x) at x = 2 and h = 0.2  is: 4.2424242424242475\n"
          ],
          "name": "stdout"
        }
      ]
    },
    {
      "cell_type": "markdown",
      "metadata": {
        "id": "2Iu84wt03BDm"
      },
      "source": [
        "### QUESTIONS\n",
        "- How does this compare with the analytical derivative?\n",
        "- What can we do to decrese the numerical error?\n"
      ]
    },
    {
      "cell_type": "markdown",
      "metadata": {
        "id": "lx-fD54YDsQ6"
      },
      "source": [
        ""
      ]
    },
    {
      "cell_type": "markdown",
      "metadata": {
        "id": "NMctxueo9AaB"
      },
      "source": [
        "Print the value of the numerical derviative (FD) wiht h = 0.1"
      ]
    },
    {
      "cell_type": "code",
      "metadata": {
        "id": "XaINxTgYDVvd"
      },
      "source": [
        ""
      ],
      "execution_count": null,
      "outputs": []
    },
    {
      "cell_type": "markdown",
      "metadata": {
        "id": "RyUKhIypEaH4"
      },
      "source": [
        "QUESTION: Create a plot of the numerical derivative versus h"
      ]
    },
    {
      "cell_type": "code",
      "metadata": {
        "id": "oodv8ZB-EiMB"
      },
      "source": [
        "#code here"
      ],
      "execution_count": null,
      "outputs": []
    },
    {
      "cell_type": "code",
      "metadata": {
        "id": "iWCWtdlQEm4o"
      },
      "source": [
        "#plot here"
      ],
      "execution_count": null,
      "outputs": []
    },
    {
      "cell_type": "markdown",
      "metadata": {
        "id": "QEZgJaZrDW0F"
      },
      "source": [
        "How can we get even small h?\n",
        "- alter the code below to get an 'effective' h of 0.05\n"
      ]
    },
    {
      "cell_type": "code",
      "metadata": {
        "id": "IjX2f-EBDaGU"
      },
      "source": [
        "# x = np.linspace(0,6,100)\n",
        "# f_x = x**2\n",
        "# df_dx(f_x, x, eval_x, h):"
      ],
      "execution_count": null,
      "outputs": []
    },
    {
      "cell_type": "markdown",
      "metadata": {
        "id": "5x0iahcpFCku"
      },
      "source": [
        "## Error analysis:\n",
        "- Consider the error as a function of $h$.\n",
        "- What is the minimum $f(x+h)-f(x)$ value allowed?\n",
        "- Calculate the change in the error as $h$ is reduced.\n",
        "- Plot your results."
      ]
    },
    {
      "cell_type": "code",
      "metadata": {
        "id": "1D2VFEFnDnGK"
      },
      "source": [
        ""
      ],
      "execution_count": null,
      "outputs": []
    }
  ]
}