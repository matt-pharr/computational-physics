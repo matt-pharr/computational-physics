{
  "nbformat": 4,
  "nbformat_minor": 0,
  "metadata": {
    "colab": {
      "name": "Intro_to_coding.ipynb",
      "provenance": [],
      "collapsed_sections": [],
      "authorship_tag": "ABX9TyMXewwDpDSL5PFaaaUbKJEK",
      "include_colab_link": true
    },
    "kernelspec": {
      "name": "python3",
      "display_name": "Python 3"
    }
  },
  "cells": [
    {
      "cell_type": "markdown",
      "metadata": {
        "id": "view-in-github",
        "colab_type": "text"
      },
      "source": [
        "<a href=\"https://colab.research.google.com/github/quantum-intelligence/computational-physics/blob/master/Intro_to_coding.ipynb\" target=\"_parent\"><img src=\"https://colab.research.google.com/assets/colab-badge.svg\" alt=\"Open In Colab\"/></a>"
      ]
    },
    {
      "cell_type": "markdown",
      "metadata": {
        "id": "OfM9wRbVG8tc"
      },
      "source": [
        "# Computational Physics \n",
        "## Spring 2021\n",
        "\n",
        "Trevor David Rhone"
      ]
    },
    {
      "cell_type": "markdown",
      "metadata": {
        "id": "Zz2VEp6KH6BT"
      },
      "source": [
        "Get Help:\n",
        "- Jupyter Notebook: https://jupyter.org/\n",
        "- Google colaboratory: https://colab.research.google.com/\n"
      ]
    },
    {
      "cell_type": "markdown",
      "metadata": {
        "id": "Js0x4LGNHJpG"
      },
      "source": [
        "Import Python package"
      ]
    },
    {
      "cell_type": "code",
      "metadata": {
        "id": "njbUdiaVINTN"
      },
      "source": [
        "import numpy as np\n",
        "import pandas as pd\n",
        "import matplotlib.pyplot as plt"
      ],
      "execution_count": null,
      "outputs": []
    },
    {
      "cell_type": "markdown",
      "metadata": {
        "id": "ja0A7VWNKKc2"
      },
      "source": [
        "First task in a new coding environment"
      ]
    },
    {
      "cell_type": "code",
      "metadata": {
        "colab": {
          "base_uri": "https://localhost:8080/"
        },
        "id": "FQHhxeCvKOP-",
        "outputId": "0dd7cc85-4ea3-4cab-f5ef-4132ce33d3c1"
      },
      "source": [
        "print(\"Hello World\")"
      ],
      "execution_count": null,
      "outputs": [
        {
          "output_type": "stream",
          "text": [
            "Hello World\n"
          ],
          "name": "stdout"
        }
      ]
    },
    {
      "cell_type": "markdown",
      "metadata": {
        "id": "ykDQ16BSIeKr"
      },
      "source": [
        "Create scripts to do calculations:"
      ]
    },
    {
      "cell_type": "code",
      "metadata": {
        "colab": {
          "base_uri": "https://localhost:8080/"
        },
        "id": "kMeEV0yxIlcP",
        "outputId": "fc2f826d-4201-42a4-f651-674c9ccafefc"
      },
      "source": [
        "x = np.arange(10)\n",
        "for val in x:\n",
        "  square = val**2\n",
        "  print(square)"
      ],
      "execution_count": null,
      "outputs": [
        {
          "output_type": "stream",
          "text": [
            "0\n",
            "1\n",
            "4\n",
            "9\n",
            "16\n",
            "25\n",
            "36\n",
            "49\n",
            "64\n",
            "81\n"
          ],
          "name": "stdout"
        }
      ]
    },
    {
      "cell_type": "markdown",
      "metadata": {
        "id": "1AExinG6Iwcx"
      },
      "source": [
        "Create a function to do a calculation:"
      ]
    },
    {
      "cell_type": "code",
      "metadata": {
        "id": "2zgkCqHPI2ll"
      },
      "source": [
        "def add_two_numbers(a, b):\n",
        "  \"\"\"this function adds two numbers, a and b\"\"\"\n",
        "  sum = a + b\n",
        "  return sum"
      ],
      "execution_count": null,
      "outputs": []
    },
    {
      "cell_type": "code",
      "metadata": {
        "colab": {
          "base_uri": "https://localhost:8080/"
        },
        "id": "t1zFW68NJF_3",
        "outputId": "40ae4d76-0eb3-47a7-c1af-5dbdc064838d"
      },
      "source": [
        "x1 = np.arange(10)\n",
        "x2 = np.sqrt(x1)\n",
        "for ith in np.arange(len(x1)):\n",
        "  input1 = x1[ith]\n",
        "  input2 = x2[ith]\n",
        "  sum = add_two_numbers(input1, input2)\n",
        "  print('For ith index', ith, 'the sum is :', sum)"
      ],
      "execution_count": null,
      "outputs": [
        {
          "output_type": "stream",
          "text": [
            "For ith index 0 the sum is : 0.0\n",
            "For ith index 1 the sum is : 2.0\n",
            "For ith index 2 the sum is : 3.414213562373095\n",
            "For ith index 3 the sum is : 4.732050807568877\n",
            "For ith index 4 the sum is : 6.0\n",
            "For ith index 5 the sum is : 7.23606797749979\n",
            "For ith index 6 the sum is : 8.449489742783179\n",
            "For ith index 7 the sum is : 9.64575131106459\n",
            "For ith index 8 the sum is : 10.82842712474619\n",
            "For ith index 9 the sum is : 12.0\n"
          ],
          "name": "stdout"
        }
      ]
    },
    {
      "cell_type": "markdown",
      "metadata": {
        "id": "4pil15-sJiVe"
      },
      "source": [
        "### Data Visualization"
      ]
    },
    {
      "cell_type": "code",
      "metadata": {
        "colab": {
          "base_uri": "https://localhost:8080/",
          "height": 321
        },
        "id": "mxLBoH6PKpmd",
        "outputId": "28f70452-31b6-47c6-ed42-bee0c405cd52"
      },
      "source": [
        "plt.scatter(x1, x2)\n",
        "plt.title('Visualize x1 and x2 data')\n",
        "plt.xlabel('x1',fontsize=19)\n",
        "plt.ylabel('x2\n",
        "',fontsize=20)\n"
      ],
      "execution_count": null,
      "outputs": [
        {
          "output_type": "execute_result",
          "data": {
            "text/plain": [
              "Text(0, 0.5, 'y1')"
            ]
          },
          "metadata": {
            "tags": []
          },
          "execution_count": 21
        },
        {
          "output_type": "display_data",
          "data": {
            "image/png": "[encoded data removed]",
            "text/plain": [
              "<Figure size 432x288 with 1 Axes>"
            ]
          },
          "metadata": {
            "tags": [],
            "needs_background": "light"
          }
        }
      ]
    },
    {
      "cell_type": "code",
      "metadata": {
        "id": "q8-rPW3gKxUD"
      },
      "source": [
        ""
      ],
      "execution_count": null,
      "outputs": []
    }
  ]
}