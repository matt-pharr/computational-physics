{
  "nbformat": 4,
  "nbformat_minor": 0,
  "metadata": {
    "colab": {
      "name": "CP_Lecture4.ipynb",
      "provenance": [],
      "authorship_tag": "ABX9TyNvPN1GXlRZz1Z/sDwFhZnY",
      "include_colab_link": true
    },
    "kernelspec": {
      "name": "python3",
      "display_name": "Python 3"
    }
  },
  "cells": [
    {
      "cell_type": "markdown",
      "metadata": {
        "id": "view-in-github",
        "colab_type": "text"
      },
      "source": [
        "<a href=\"https://colab.research.google.com/github/quantum-intelligence/computational-physics/blob/main/CP_Lecture4.ipynb\" target=\"_parent\"><img src=\"https://colab.research.google.com/assets/colab-badge.svg\" alt=\"Open In Colab\"/></a>"
      ]
    },
    {
      "cell_type": "markdown",
      "metadata": {
        "id": "0v1AhBcGw2zV"
      },
      "source": [
        "#Computational Physics\n",
        "### Lecture 4: Introduction to Random Numbers\n"
      ]
    },
    {
      "cell_type": "code",
      "metadata": {
        "id": "tkT5jeqgKHwU"
      },
      "source": [
        "import time\n",
        "import random"
      ],
      "execution_count": null,
      "outputs": []
    },
    {
      "cell_type": "markdown",
      "metadata": {
        "id": "Qlv0adTGLVva"
      },
      "source": [
        "Generate a list of pseudorandom numbers"
      ]
    },
    {
      "cell_type": "code",
      "metadata": {
        "colab": {
          "base_uri": "https://localhost:8080/"
        },
        "id": "93ZyPL7Mw7Fi",
        "outputId": "b76d4ee6-ff03-4fa0-b5ce-5469b0e35981"
      },
      "source": [
        "#Create a list of random numbers\n",
        "random.seed(42)\n",
        "rand_int = random.randint(1,10) #random integer between 1 and 10\n",
        "print(rand_int)\n",
        "rand_uniform = random.uniform(0,1)\n",
        "print(rand_uniform)"
      ],
      "execution_count": 14,
      "outputs": [
        {
          "output_type": "stream",
          "text": [
            "2\n",
            "0.025010755222666936\n"
          ],
          "name": "stdout"
        }
      ]
    },
    {
      "cell_type": "markdown",
      "metadata": {
        "id": "bvBJLPNuMStr"
      },
      "source": [
        "Task #1"
      ]
    },
    {
      "cell_type": "code",
      "metadata": {
        "id": "Vdra7I-Xw864"
      },
      "source": [
        "# use a loop to call the above functions many times. Visually inspect these numbers\n"
      ],
      "execution_count": 15,
      "outputs": []
    },
    {
      "cell_type": "markdown",
      "metadata": {
        "id": "sU6F-99kMYbj"
      },
      "source": [
        "Task #2 \n",
        "Use numpy to create a list of random numbers\n",
        "- look up the appropriate function using the numpy documentation\n",
        "- or guess the function by inspecting np.random"
      ]
    },
    {
      "cell_type": "code",
      "metadata": {
        "id": "1nalcWumxBjw"
      },
      "source": [
        "import numpy as np\n",
        "import matplotlib.pyplot as plt"
      ],
      "execution_count": 19,
      "outputs": []
    },
    {
      "cell_type": "code",
      "metadata": {
        "cellView": "form",
        "id": "XrphknUnx5ZV"
      },
      "source": [
        "#@title\n",
        "# See my solution here: List of uniform, random numbers between 0 and 1\n",
        "N = 10\n",
        "uniform_random = np.random.random(N)\n",
        "plt.hist(uniform_random)\n",
        "plt.show()"
      ],
      "execution_count": null,
      "outputs": []
    },
    {
      "cell_type": "markdown",
      "metadata": {
        "id": "T1vklGrmNjau"
      },
      "source": [
        "### Estimate $\\pi$ using random numbers \n",
        "Use a game of darts (random throws at a dart board) to calculate $\\pi$, \\\\\n",
        "Write a function to calculate $\\pi$, \\\\\n",
        "$\\pi =  4 x n_{inside}/n_{tot}$"
      ]
    },
    {
      "cell_type": "code",
      "metadata": {
        "colab": {
          "base_uri": "https://localhost:8080/"
        },
        "cellView": "form",
        "id": "_FL07ULWKHUm",
        "outputId": "8ab80432-d629-4ec7-b4bf-48fb9162ac0d"
      },
      "source": [
        "#@title\n",
        "# solution\n",
        "\n",
        "def pi_darts(N):\n",
        "  \"\"\" throw darts to calculate pi\"\"\"\n",
        "  np.random.seed(42)\n",
        "  darts_x = np.random.random(N)\n",
        "  darts_y = np.random.random(N)\n",
        "  n_in = 0\n",
        "  n_tot = 0\n",
        "  for ith in np.arange(len(darts_x)):\n",
        "    #print(ith)\n",
        "    x = darts_x[ith]\n",
        "    y = darts_y[ith]\n",
        "\n",
        "    r = np.sqrt(x**2 + y**2)\n",
        "    #print(ith, x, y,r)\n",
        "    if r < 1:\n",
        "      n_in = n_in + 1\n",
        "      n_tot = n_tot + 1\n",
        "    else:\n",
        "      n_tot = n_tot + 1\n",
        "  pi = 4*n_in/n_tot\n",
        "  return pi\n",
        "\n",
        "N = 100\n",
        "pi = pi_darts(N)\n",
        "print('pi estimate', pi)\n",
        "print('absolute error', np.abs(np.pi - pi))"
      ],
      "execution_count": 68,
      "outputs": [
        {
          "output_type": "stream",
          "text": [
            "pi estimate 3.2\n",
            "absolute error 0.05840734641020706\n"
          ],
          "name": "stdout"
        }
      ]
    },
    {
      "cell_type": "code",
      "metadata": {
        "cellView": "form",
        "id": "AfmMi8ruTgDA"
      },
      "source": [
        "#@title\n",
        "# solution\n",
        "plt.figure()\n",
        "plt.axes().set_aspect('equal')\n",
        "plt.scatter(darts_x, darts_y,marker='x')\n",
        "ii = np.arange(0,6.58,0.01)\n",
        "xx = 0.5*np.cos(ii)+0.5 \n",
        "yy = 0.5*np.sin(ii)+0.5\n",
        "plt.scatter(xx,yy,marker='.',s=5,c='red')\n",
        "plt.show()"
      ],
      "execution_count": null,
      "outputs": []
    },
    {
      "cell_type": "markdown",
      "metadata": {
        "id": "3uvVn9x9OGjL"
      },
      "source": [
        "QUESTIONS:\n",
        "- Calculate $\\pi$ and the error with the actual value of $\\pi$\n",
        "- Plot your dart throws\n",
        "- Make a plot of $\\pi$ versus the number of dart throws"
      ]
    },
    {
      "cell_type": "code",
      "metadata": {
        "id": "76c1sR4RVLOo"
      },
      "source": [
        ""
      ],
      "execution_count": null,
      "outputs": []
    },
    {
      "cell_type": "markdown",
      "metadata": {
        "id": "0AR9gZr8Q2td"
      },
      "source": [
        "What did you learn?"
      ]
    },
    {
      "cell_type": "code",
      "metadata": {
        "id": "xtIzepwwVMsR"
      },
      "source": [
        ""
      ],
      "execution_count": null,
      "outputs": []
    },
    {
      "cell_type": "markdown",
      "metadata": {
        "id": "mXI7YFKkVeeY"
      },
      "source": [
        "Perform the numerical integral:\n",
        "$\\int_1^2 \\frac{1}{x}dx = ln(2) $"
      ]
    },
    {
      "cell_type": "code",
      "metadata": {
        "id": "qi9ZA5_fVe_r"
      },
      "source": [
        "#Enter your code here"
      ],
      "execution_count": null,
      "outputs": []
    }
  ]
}