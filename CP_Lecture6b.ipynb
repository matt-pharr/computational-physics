{
  "nbformat": 4,
  "nbformat_minor": 0,
  "metadata": {
    "colab": {
      "name": "CP_Lecture6b.ipynb",
      "provenance": [],
      "authorship_tag": "ABX9TyM+2z7COdKeixAqfcFAqlsE",
      "include_colab_link": true
    },
    "kernelspec": {
      "name": "python3",
      "display_name": "Python 3"
    }
  },
  "cells": [
    {
      "cell_type": "markdown",
      "metadata": {
        "id": "view-in-github",
        "colab_type": "text"
      },
      "source": [
        "<a href=\"https://colab.research.google.com/github/quantum-intelligence/computational-physics/blob/main/CP_Lecture6b.ipynb\" target=\"_parent\"><img src=\"https://colab.research.google.com/assets/colab-badge.svg\" alt=\"Open In Colab\"/></a>"
      ]
    },
    {
      "cell_type": "markdown",
      "metadata": {
        "id": "tIIZszFiESPk"
      },
      "source": [
        "# Computational Physics\n",
        "Lecture 6b\n",
        "#### Metropolis Algorithm and Ising Model"
      ]
    },
    {
      "cell_type": "code",
      "metadata": {
        "id": "FcIRc5xzEgw1"
      },
      "source": [
        "import numpy as np\n",
        "import matplotlib.pyplot as plt"
      ],
      "execution_count": 1,
      "outputs": []
    },
    {
      "cell_type": "markdown",
      "metadata": {
        "id": "-zQk-jR9EkHn"
      },
      "source": [
        "### 1D Ising Model"
      ]
    },
    {
      "cell_type": "markdown",
      "metadata": {
        "id": "mCuzHEWwEogt"
      },
      "source": [
        "E = $\\sum_{i=1}^{N-1}$$-Js_i\\cdot s_{i+1}$ - B$\\mu_B \\sum s_i$, B=0"
      ]
    },
    {
      "cell_type": "markdown",
      "metadata": {
        "id": "jJKeIKW1UPKi"
      },
      "source": [
        "Function to create spin chain"
      ]
    },
    {
      "cell_type": "code",
      "metadata": {
        "id": "VYhUBwivGv9d"
      },
      "source": [
        "def create_1d_spin_chain(N=10, J=-1, cold=True):\n",
        "  \"\"\"\n",
        "  # initialize spins\n",
        "  N - number of spins\n",
        "  cold - cold start True (ordered) or false (randomly ordered)\n",
        "  J - strength of spin interaction\n",
        "  \"\"\"\n",
        "  #N = 10\n",
        "  #cold = False\n",
        "  #J = -1\n",
        "  np.random.seed()\n",
        "  alpha = np.ones(N)\n",
        "  if cold:\n",
        "    if J < 0: #if cold AFM start, all spins must be antialighned\n",
        "      for i in np.arange(N):\n",
        "        if (-1)**i > 0:\n",
        "          alpha[i] = -1\n",
        "  else:\n",
        "    # create randomly ordered spin lattice\n",
        "    randex = np.random.random(N)\n",
        "    #print(randex)\n",
        "    for rth, r in enumerate(randex):\n",
        "      if r <= 0.5:\n",
        "        alpha[rth] = -1\n",
        "      else:\n",
        "        alpha[rth] = 1\n",
        "  return alpha\n",
        "\n",
        "\n"
      ],
      "execution_count": 2,
      "outputs": []
    },
    {
      "cell_type": "code",
      "metadata": {
        "id": "ooqSKEWoHQXR"
      },
      "source": [
        "def gen_alpha_tr(alpha):\n",
        "  \"\"\"\n",
        "  # create a trial configuration\n",
        "  # randomly flip a spin in the existing configuration\n",
        "  \"\"\"\n",
        "  N=len(alpha)\n",
        "  randex = np.random.randint(N)\n",
        "  alpha_tr = alpha.copy()\n",
        "  alpha_tr[randex] = alpha_tr[randex]*-1\n",
        "  #print(randex)\n",
        "  return alpha_tr\n",
        "\n"
      ],
      "execution_count": 3,
      "outputs": []
    },
    {
      "cell_type": "code",
      "metadata": {
        "id": "k4VEa78dK4fp"
      },
      "source": [
        "def calc_E(N, alpha, J):\n",
        "  \"\"\"\n",
        "  # calculate the energy\n",
        "  \"\"\"\n",
        "  #J = -1\n",
        "  E = 0\n",
        "  for i in np.arange(N-1):\n",
        "    E_i = -1*J*alpha[i]*alpha[i+1]\n",
        "    #print(alpha[i], alpha[i+1], E_i)\n",
        "    E = E + E_i\n",
        "  return E\n",
        "\n"
      ],
      "execution_count": 7,
      "outputs": []
    },
    {
      "cell_type": "code",
      "metadata": {
        "id": "eBfzeFJsLnT7"
      },
      "source": [
        "def ising_model(N=10, num_iter = 4, T = 1, J=1, cold=True):\n",
        "  \"\"\"\n",
        "    # 1D ising model\n",
        "  \"\"\"\n",
        "  np.random.seed()\n",
        "  #num_iter = 4\n",
        "  #T = 1\n",
        "  alpha = create_1d_spin_chain(N, J, cold) #initialize spins\n",
        "  alpha_vals = []\n",
        "  E_vals = []\n",
        "  for iter in np.arange(num_iter): #enter loop over iterations\n",
        "    print(iter)\n",
        "    alpha_tr = gen_alpha_tr(alpha) #create trial spin states\n",
        "    #print(alpha_tr)\n",
        "    E = calc_E(N, alpha, J)\n",
        "    E_vals.append(E)\n",
        "    alpha_vals.append(alpha)\n",
        "    E_tr = calc_E(N, alpha_tr, J)\n",
        "    if E_tr <= E:\n",
        "      print(\"E_tr < E : \", E_tr, E)\n",
        "      alpha = alpha_tr\n",
        "    else:\n",
        "      print(\"E_tr > E : \", E_tr, E)\n",
        "      r = np.random.random()\n",
        "      deltaE = np.abs(E_tr - E)\n",
        "      P = np.exp(-1*deltaE/T)\n",
        "      #print(deltaE, r, P)\n",
        "      if P > r:\n",
        "        #print('accept alpha_tr with Prob')\n",
        "        alpha = alpha_tr\n",
        "  E_final = calc_E(N, alpha_tr, J)\n",
        "  return E_vals, alpha_vals\n",
        "\n"
      ],
      "execution_count": 40,
      "outputs": []
    },
    {
      "cell_type": "code",
      "metadata": {
        "colab": {
          "base_uri": "https://localhost:8080/"
        },
        "id": "EWXLDYKJUBPZ",
        "outputId": "244610ee-104d-40c2-fd72-8ea3bd47c9dd"
      },
      "source": [
        "E_vals, alpha_vals = ising_model(N=10, num_iter = 4, T = 1, J=-1, cold=True)"
      ],
      "execution_count": 43,
      "outputs": [
        {
          "output_type": "stream",
          "text": [
            "0\n",
            "E_tr > E :  -5.0 -9.0\n",
            "1\n",
            "E_tr > E :  -5.0 -9.0\n",
            "2\n",
            "E_tr > E :  -5.0 -9.0\n",
            "3\n",
            "E_tr > E :  -5.0 -9.0\n"
          ],
          "name": "stdout"
        }
      ]
    },
    {
      "cell_type": "code",
      "metadata": {
        "colab": {
          "base_uri": "https://localhost:8080/"
        },
        "id": "gstYIxyNVkz9",
        "outputId": "d340db4e-7cb5-47aa-d2f6-98beee88ac5a"
      },
      "source": [
        "E_vals"
      ],
      "execution_count": 44,
      "outputs": [
        {
          "output_type": "execute_result",
          "data": {
            "text/plain": [
              "[-9.0, -9.0, -9.0, -9.0]"
            ]
          },
          "metadata": {
            "tags": []
          },
          "execution_count": 44
        }
      ]
    },
    {
      "cell_type": "code",
      "metadata": {
        "colab": {
          "base_uri": "https://localhost:8080/"
        },
        "id": "RqqbQWXKVnE9",
        "outputId": "a09a7082-8bcf-4bdc-9579-76efc6ad85d6"
      },
      "source": [
        "alpha_vals"
      ],
      "execution_count": 45,
      "outputs": [
        {
          "output_type": "execute_result",
          "data": {
            "text/plain": [
              "[array([-1.,  1., -1.,  1., -1.,  1., -1.,  1., -1.,  1.]),\n",
              " array([-1.,  1., -1.,  1., -1.,  1., -1.,  1., -1.,  1.]),\n",
              " array([-1.,  1., -1.,  1., -1.,  1., -1.,  1., -1.,  1.]),\n",
              " array([-1.,  1., -1.,  1., -1.,  1., -1.,  1., -1.,  1.])]"
            ]
          },
          "metadata": {
            "tags": []
          },
          "execution_count": 45
        }
      ]
    },
    {
      "cell_type": "code",
      "metadata": {
        "colab": {
          "base_uri": "https://localhost:8080/",
          "height": 584
        },
        "id": "yKvE1UTNM6EV",
        "outputId": "7c53cad9-2f3e-431d-c0d9-112bd8de794f"
      },
      "source": [
        "iter = np.arange(len(E_vals))\n",
        "plt.figure(figsize=(7,8))\n",
        "plt.subplot(2,1,1)\n",
        "plt.scatter(iter, E_vals)\n",
        "plt.ylabel(\"Energy\")\n",
        "plt.subplot(2,1,2)\n",
        "plt.imshow(np.transpose(alpha_vals))\n",
        "plt.ylabel(\"alpha\")\n",
        "plt.xlabel(\"iteration\")\n",
        "plt.tight_layout()\n",
        "plt.show()"
      ],
      "execution_count": 46,
      "outputs": [
        {
          "output_type": "display_data",
          "data": {
            "image/png": "[encoded data removed]",
            "text/plain": [
              "<Figure size 504x576 with 2 Axes>"
            ]
          },
          "metadata": {
            "tags": [],
            "needs_background": "light"
          }
        }
      ]
    },
    {
      "cell_type": "markdown",
      "metadata": {
        "id": "ouH3gWJUSV8d"
      },
      "source": [
        "# Hard Spheres interacting\n",
        "- Place N hard spheres in a box\n",
        "- Allow them to interact with Lennard-Jones\n",
        "- Use 'hard walls' boundary conditions\n",
        "- Use Metropolis to assess the possibility of a phase transition (e.g. liquid to solid)\n",
        "  - Use the pair distribution function"
      ]
    },
    {
      "cell_type": "code",
      "metadata": {
        "id": "qU1I8A4fXna8"
      },
      "source": [
        ""
      ],
      "execution_count": null,
      "outputs": []
    }
  ]
}