{
  "nbformat": 4,
  "nbformat_minor": 0,
  "metadata": {
    "colab": {
      "name": "CP_Lecture16b.ipynb",
      "provenance": [],
      "collapsed_sections": [],
      "authorship_tag": "ABX9TyPW2KZHv64HmF9w1BNT2Fvr",
      "include_colab_link": true
    },
    "kernelspec": {
      "name": "python3",
      "display_name": "Python 3"
    },
    "language_info": {
      "name": "python"
    }
  },
  "cells": [
    {
      "cell_type": "markdown",
      "metadata": {
        "id": "view-in-github",
        "colab_type": "text"
      },
      "source": [
        "<a href=\"https://colab.research.google.com/github/quantum-intelligence/computational-physics/blob/main/CP_Lecture16b.ipynb\" target=\"_parent\"><img src=\"https://colab.research.google.com/assets/colab-badge.svg\" alt=\"Open In Colab\"/></a>"
      ]
    },
    {
      "cell_type": "markdown",
      "metadata": {
        "id": "xQUzM5SnIu5m"
      },
      "source": [
        "#Computational Physics\n",
        "###Lecture 16b\n",
        "Neural Networks and representation"
      ]
    },
    {
      "cell_type": "code",
      "metadata": {
        "colab": {
          "base_uri": "https://localhost:8080/"
        },
        "id": "d0b5mTRKJnYy",
        "outputId": "b3e68303-5c5f-420f-9009-6eab04b98269"
      },
      "source": [
        "pip install mnist"
      ],
      "execution_count": 1,
      "outputs": [
        {
          "output_type": "stream",
          "text": [
            "Collecting mnist\n",
            "  Downloading https://files.pythonhosted.org/packages/c6/c4/5db3bfe009f8d71f1d532bbadbd0ec203764bba3a469e4703a889db8e5e0/mnist-0.2.2-py2.py3-none-any.whl\n",
            "Requirement already satisfied: numpy in /usr/local/lib/python3.7/dist-packages (from mnist) (1.19.5)\n",
            "Installing collected packages: mnist\n",
            "Successfully installed mnist-0.2.2\n"
          ],
          "name": "stdout"
        }
      ]
    },
    {
      "cell_type": "code",
      "metadata": {
        "id": "CtRfQHD6Iv68"
      },
      "source": [
        "import numpy as np\n",
        "import mnist\n",
        "from tensorflow import keras\n",
        "from tensorflow.keras.models import Sequential\n",
        "from tensorflow.keras.layers import Dense\n",
        "from tensorflow.keras.utils import to_categorical\n",
        "import os\n",
        "import pickle\n",
        "import matplotlib.pyplot as plt"
      ],
      "execution_count": 33,
      "outputs": []
    },
    {
      "cell_type": "code",
      "metadata": {
        "colab": {
          "base_uri": "https://localhost:8080/"
        },
        "id": "xk46vkqs6stP",
        "outputId": "1ce0e3f5-6b41-4842-9764-89609b833c39"
      },
      "source": [
        "#You need to mount google drive to your Colab session.\n",
        "from google.colab import drive\n",
        "drive.mount('/content/gdrive')"
      ],
      "execution_count": 8,
      "outputs": [
        {
          "output_type": "stream",
          "text": [
            "Mounted at /content/gdrive\n"
          ],
          "name": "stdout"
        }
      ]
    },
    {
      "cell_type": "markdown",
      "metadata": {
        "id": "cMBmAjCoxGyH"
      },
      "source": [
        " check your path is correct\n"
      ]
    },
    {
      "cell_type": "code",
      "metadata": {
        "id": "kWpbwSS-xJKV"
      },
      "source": [
        "ls gdrive/MyDrive/Colab\\ Notebooks"
      ],
      "execution_count": null,
      "outputs": []
    },
    {
      "cell_type": "markdown",
      "metadata": {
        "id": "Z_Mt1Q8BLzzt"
      },
      "source": [
        "Run the cells below for download_mnist() at the start of the lecture. Will take some time to load."
      ]
    },
    {
      "cell_type": "code",
      "metadata": {
        "id": "gtd9d4flJlAT"
      },
      "source": [
        "# The first time you run this might be a bit slow, since the\n",
        "# mnist package has to download and cache the data.\n",
        "def download_mnist():\n",
        "  train_images = mnist.train_images()\n",
        "  train_labels = mnist.train_labels()\n",
        "  test_images = mnist.test_images()\n",
        "  test_labels = mnist.test_labels()\n",
        "  return train_images, train_labels, test_images, test_labels\n"
      ],
      "execution_count": 26,
      "outputs": []
    },
    {
      "cell_type": "code",
      "metadata": {
        "id": "L4mVf0aT6o-l"
      },
      "source": [
        "download = False\n",
        "if download:\n",
        "  train_images, train_labels, test_images, test_labels = download_mnist()\n",
        "  mnist_data = [train_images, train_labels, test_images, test_labels]\n",
        "  with open('mnist.pkl', 'wb') as f:\n",
        "    pickle.dump(mnist_data, f)\n",
        "else:\n",
        "  with open('mnist.pkl', 'rb') as f:\n",
        "    mnist_data = pickle.load(f)\n",
        "  train_images, train_labels, test_images, test_labels = mnist_data"
      ],
      "execution_count": 30,
      "outputs": []
    },
    {
      "cell_type": "code",
      "metadata": {
        "id": "Hie0EVjbKDlJ",
        "colab": {
          "base_uri": "https://localhost:8080/"
        },
        "outputId": "1d19453b-f081-45ed-f236-b32250c85f0c"
      },
      "source": [
        "print(train_images.shape) # (60000, 28, 28)\n",
        "print(train_labels.shape) # (60000,)"
      ],
      "execution_count": 35,
      "outputs": [
        {
          "output_type": "stream",
          "text": [
            "(60000, 28, 28)\n",
            "(60000,)\n"
          ],
          "name": "stdout"
        }
      ]
    },
    {
      "cell_type": "markdown",
      "metadata": {
        "id": "nAvn5jl3MLm-"
      },
      "source": [
        "Display for first ten entries in train_images "
      ]
    },
    {
      "cell_type": "code",
      "metadata": {
        "colab": {
          "base_uri": "https://localhost:8080/",
          "height": 232
        },
        "id": "lB6IJ-xxMIyn",
        "outputId": "b1b35c51-12ca-472f-c3e8-de21ca636e1a"
      },
      "source": [
        "for i in np.arange(10): \n",
        "  plt.subplot(2,5,i+1)\n",
        "  plt.imshow(train_images[i])\n",
        "plt.tight_layout()\n",
        "plt.show()"
      ],
      "execution_count": 36,
      "outputs": [
        {
          "output_type": "display_data",
          "data": {
            "image/png": "[encoded data removed]",
            "text/plain": [
              "<Figure size 432x288 with 10 Axes>"
            ]
          },
          "metadata": {
            "tags": [],
            "needs_background": "light"
          }
        }
      ]
    },
    {
      "cell_type": "markdown",
      "metadata": {
        "id": "OTGTrByRCtwj"
      },
      "source": [
        "## Process the image data:"
      ]
    },
    {
      "cell_type": "code",
      "metadata": {
        "colab": {
          "base_uri": "https://localhost:8080/"
        },
        "id": "KyH5rz6GJ51D",
        "outputId": "ccdcf55e-cd1d-4476-c00a-7300e713fc6f"
      },
      "source": [
        "# Normalize the images.\n",
        "train_images = (train_images / 255) - 0.5\n",
        "test_images = (test_images / 255) - 0.5\n",
        "\n",
        "# Flatten the images.\n",
        "train_images = train_images.reshape((-1, 784))\n",
        "test_images = test_images.reshape((-1, 784))\n",
        "\n",
        "print(train_images.shape) # (60000, 784)\n",
        "print(test_images.shape)  # (10000, 784)"
      ],
      "execution_count": 37,
      "outputs": [
        {
          "output_type": "stream",
          "text": [
            "(60000, 784)\n",
            "(10000, 784)\n"
          ],
          "name": "stdout"
        }
      ]
    },
    {
      "cell_type": "markdown",
      "metadata": {
        "id": "VewHXQh5xiyH"
      },
      "source": [
        "## Create a NN Model:"
      ]
    },
    {
      "cell_type": "code",
      "metadata": {
        "id": "QqZ_NezxKEhc"
      },
      "source": [
        "model = Sequential([\n",
        "  Dense(64, activation='relu', input_shape=(784,)),\n",
        "  Dense(64, activation='relu'),\n",
        "  Dense(10, activation='softmax'),\n",
        "])"
      ],
      "execution_count": 38,
      "outputs": []
    },
    {
      "cell_type": "markdown",
      "metadata": {
        "id": "z64B_Qk_KiYp"
      },
      "source": [
        "Before we can begin training, we need to configure the training process. We decide 3 key factors during the compilation step:\n",
        "\n",
        "The optimizer. We’ll stick with a pretty good default: the Adam gradient-based optimizer. Keras has many other optimizers you can look into as well.\n",
        "The loss function. Since we’re using a Softmax output layer, we’ll use the Cross-Entropy loss. Keras distinguishes between binary_crossentropy (2 classes) and categorical_crossentropy (>2 classes), so we’ll use the latter. \n",
        "Since this is a classification problem, we’ll just have Keras report on the accuracy metric."
      ]
    },
    {
      "cell_type": "code",
      "metadata": {
        "id": "Q97eufbhKeiA"
      },
      "source": [
        "model.compile(\n",
        "  optimizer='adam',\n",
        "  loss='categorical_crossentropy',\n",
        "  metrics=['accuracy'],\n",
        ")"
      ],
      "execution_count": 39,
      "outputs": []
    },
    {
      "cell_type": "markdown",
      "metadata": {
        "id": "m6bfgKfaCpiE"
      },
      "source": [
        "## Model fit:"
      ]
    },
    {
      "cell_type": "code",
      "metadata": {
        "colab": {
          "base_uri": "https://localhost:8080/"
        },
        "id": "j6pMRExaKpul",
        "outputId": "b77d22e8-9bbc-456f-fc31-41e6aacb97b5"
      },
      "source": [
        "history = model.fit(\n",
        "  train_images,\n",
        "  to_categorical(train_labels),\n",
        "  epochs=5,\n",
        "  batch_size=32,\n",
        ")"
      ],
      "execution_count": 92,
      "outputs": [
        {
          "output_type": "stream",
          "text": [
            "Epoch 1/20\n",
            "1875/1875 [==============================] - 3s 2ms/step - loss: 0.0617 - accuracy: 0.9798\n",
            "Epoch 2/20\n",
            "1875/1875 [==============================] - 3s 2ms/step - loss: 0.0584 - accuracy: 0.9801\n",
            "Epoch 3/20\n",
            "1875/1875 [==============================] - 3s 2ms/step - loss: 0.0545 - accuracy: 0.9822\n",
            "Epoch 4/20\n",
            "1875/1875 [==============================] - 3s 2ms/step - loss: 0.0521 - accuracy: 0.9827\n",
            "Epoch 5/20\n",
            "1875/1875 [==============================] - 3s 2ms/step - loss: 0.0493 - accuracy: 0.9833\n",
            "Epoch 6/20\n",
            "1875/1875 [==============================] - 3s 2ms/step - loss: 0.0461 - accuracy: 0.9845\n",
            "Epoch 7/20\n",
            "1875/1875 [==============================] - 3s 2ms/step - loss: 0.0458 - accuracy: 0.9845\n",
            "Epoch 8/20\n",
            "1875/1875 [==============================] - 3s 2ms/step - loss: 0.0424 - accuracy: 0.9855\n",
            "Epoch 9/20\n",
            "1875/1875 [==============================] - 3s 2ms/step - loss: 0.0385 - accuracy: 0.9872\n",
            "Epoch 10/20\n",
            "1875/1875 [==============================] - 3s 2ms/step - loss: 0.0405 - accuracy: 0.9860\n",
            "Epoch 11/20\n",
            "1875/1875 [==============================] - 3s 2ms/step - loss: 0.0368 - accuracy: 0.9876\n",
            "Epoch 12/20\n",
            "1875/1875 [==============================] - 3s 2ms/step - loss: 0.0365 - accuracy: 0.9879\n",
            "Epoch 13/20\n",
            "1875/1875 [==============================] - 3s 2ms/step - loss: 0.0368 - accuracy: 0.9874\n",
            "Epoch 14/20\n",
            "1875/1875 [==============================] - 3s 2ms/step - loss: 0.0315 - accuracy: 0.9894\n",
            "Epoch 15/20\n",
            "1875/1875 [==============================] - 3s 2ms/step - loss: 0.0319 - accuracy: 0.9894\n",
            "Epoch 16/20\n",
            "1875/1875 [==============================] - 3s 2ms/step - loss: 0.0319 - accuracy: 0.9894\n",
            "Epoch 17/20\n",
            "1875/1875 [==============================] - 3s 2ms/step - loss: 0.0294 - accuracy: 0.9900\n",
            "Epoch 18/20\n",
            "1875/1875 [==============================] - 3s 2ms/step - loss: 0.0273 - accuracy: 0.9906\n",
            "Epoch 19/20\n",
            "1875/1875 [==============================] - 3s 2ms/step - loss: 0.0268 - accuracy: 0.9911\n",
            "Epoch 20/20\n",
            "1875/1875 [==============================] - 3s 2ms/step - loss: 0.0299 - accuracy: 0.9900\n"
          ],
          "name": "stdout"
        }
      ]
    },
    {
      "cell_type": "code",
      "metadata": {
        "colab": {
          "base_uri": "https://localhost:8080/"
        },
        "id": "uUOcEmMSAw96",
        "outputId": "39fd4462-97d1-47fc-c9c4-3f56e0b716d0"
      },
      "source": [
        "history.history.keys()"
      ],
      "execution_count": 93,
      "outputs": [
        {
          "output_type": "execute_result",
          "data": {
            "text/plain": [
              "dict_keys(['loss', 'accuracy'])"
            ]
          },
          "metadata": {
            "tags": []
          },
          "execution_count": 93
        }
      ]
    },
    {
      "cell_type": "code",
      "metadata": {
        "colab": {
          "base_uri": "https://localhost:8080/",
          "height": 241
        },
        "id": "kSuEXqRDAuoj",
        "outputId": "468b1232-be06-4899-bea9-30439336586f"
      },
      "source": [
        "f, ax = plt.subplots(1, 2)\n",
        "f.set_figwidth(14)\n",
        "f.set_figheight(3)\n",
        "ax[0].plot(history.history['loss'])\n",
        "ax[0].set_title('total loss')\n",
        "ax[0].set_ylabel('loss')\n",
        "ax[0].set_xlabel('epoch')\n",
        "ax[0].legend(['train'], loc='best')\n",
        "\n",
        "ax[1].plot(history.history[list(history.history.keys())[1]])\n",
        "ax[1].set_title('accuracy')\n",
        "ax[1].set_ylabel('accuracy')\n",
        "ax[1].set_xlabel('epoch')\n",
        "ax[1].legend(['train'], loc='best')\n",
        "\n",
        "plt.show()"
      ],
      "execution_count": 94,
      "outputs": [
        {
          "output_type": "display_data",
          "data": {
            "image/png": "[encoded data removed]",
            "text/plain": [
              "<Figure size 1008x216 with 2 Axes>"
            ]
          },
          "metadata": {
            "tags": [],
            "needs_background": "light"
          }
        }
      ]
    },
    {
      "cell_type": "markdown",
      "metadata": {
        "id": "US1v3vfNCjXJ"
      },
      "source": [
        "## NN model predictions:"
      ]
    },
    {
      "cell_type": "code",
      "metadata": {
        "colab": {
          "base_uri": "https://localhost:8080/"
        },
        "id": "GB4Q_iTPK3kl",
        "outputId": "d5d823cb-3ebc-4bbc-d6f4-84d4cd8611cb"
      },
      "source": [
        "model.evaluate(\n",
        "  test_images,\n",
        "  to_categorical(test_labels)\n",
        ")"
      ],
      "execution_count": 95,
      "outputs": [
        {
          "output_type": "stream",
          "text": [
            "313/313 [==============================] - 0s 1ms/step - loss: 0.1575 - accuracy: 0.9675\n"
          ],
          "name": "stdout"
        },
        {
          "output_type": "execute_result",
          "data": {
            "text/plain": [
              "[0.15746115148067474, 0.9674999713897705]"
            ]
          },
          "metadata": {
            "tags": []
          },
          "execution_count": 95
        }
      ]
    },
    {
      "cell_type": "code",
      "metadata": {
        "colab": {
          "base_uri": "https://localhost:8080/"
        },
        "id": "fZCVf7wrK8JT",
        "outputId": "423e20f7-88d7-470e-a7d7-de7192d9d6ba"
      },
      "source": [
        "# Predict on the first 5 test images.\n",
        "predictions = model.predict(test_images[:5])\n",
        "\n",
        "# Print our model's predictions.\n",
        "print(np.argmax(predictions, axis=1)) # [7, 2, 1, 0, 4]\n",
        "\n",
        "# Check our predictions against the ground truths.\n",
        "print(test_labels[:5]) # [7, 2, 1, 0, 4]"
      ],
      "execution_count": 96,
      "outputs": [
        {
          "output_type": "stream",
          "text": [
            "[7 2 1 0 4]\n",
            "[7 2 1 0 4]\n"
          ],
          "name": "stdout"
        }
      ]
    },
    {
      "cell_type": "markdown",
      "metadata": {
        "id": "pBqOkA0NLmQr"
      },
      "source": [
        "## QUESTIONS:\n",
        "- Explore statistics for the accuracy of the model for a large number of runs \n",
        "- Try GPUs\n",
        "- Experiment with model fitting parametersL batch size, number of epocks\n",
        "- Experiment with the architecture then check the results\n",
        "- Add a validation set to the model.fit() function"
      ]
    },
    {
      "cell_type": "markdown",
      "metadata": {
        "id": "HUUhccnNCLC0"
      },
      "source": [
        "## Visualize hidden layers"
      ]
    },
    {
      "cell_type": "code",
      "metadata": {
        "colab": {
          "base_uri": "https://localhost:8080/"
        },
        "id": "hSHUWmymDKgh",
        "outputId": "51c3c992-d222-42db-af4d-5fbb5eac4901"
      },
      "source": [
        "model.summary()"
      ],
      "execution_count": 97,
      "outputs": [
        {
          "output_type": "stream",
          "text": [
            "Model: \"sequential\"\n",
            "_________________________________________________________________\n",
            "Layer (type)                 Output Shape              Param #   \n",
            "=================================================================\n",
            "dense (Dense)                (None, 64)                50240     \n",
            "_________________________________________________________________\n",
            "dense_1 (Dense)              (None, 64)                4160      \n",
            "_________________________________________________________________\n",
            "dense_2 (Dense)              (None, 10)                650       \n",
            "=================================================================\n",
            "Total params: 55,050\n",
            "Trainable params: 55,050\n",
            "Non-trainable params: 0\n",
            "_________________________________________________________________\n"
          ],
          "name": "stdout"
        }
      ]
    },
    {
      "cell_type": "code",
      "metadata": {
        "id": "LgdKhr_9Dd04"
      },
      "source": [
        "# Access layers' weights with:\n",
        "model.layers[0].get_weights()"
      ],
      "execution_count": null,
      "outputs": []
    },
    {
      "cell_type": "markdown",
      "metadata": {
        "id": "z8Y4DuGRvzzl"
      },
      "source": [
        "Consider the below code:"
      ]
    },
    {
      "cell_type": "code",
      "metadata": {
        "colab": {
          "base_uri": "https://localhost:8080/",
          "height": 285
        },
        "id": "n20oWBObDP5p",
        "outputId": "173e2fbd-7601-4729-a72c-6bcb7efc5463"
      },
      "source": [
        "n = 0 #layer number\n",
        "hidden_n = model.layers[n].get_weights()[0]\n",
        "print(hidden_n.shape)\n",
        "target = 11 #get weights for 11th output in this layer\n",
        "hidden_digit = hidden_n[:,target].reshape((28,28)) #wrap weights to form a 2D matrix\n",
        "\n",
        "target = 12 #get weights for 11th output in this layer\n",
        "hidden_digit2 = hidden_n[:,target].reshape((28,28)) #wrap weights to form a 2D matrix\n",
        "\n",
        "plt.subplot(2,1,1)\n",
        "plt.imshow(hidden_digit)\n",
        "plt.subplot(2,1,2)\n",
        "plt.imshow(hidden_digit2)\n",
        "plt.show()"
      ],
      "execution_count": 114,
      "outputs": [
        {
          "output_type": "stream",
          "text": [
            "(784, 64)\n"
          ],
          "name": "stdout"
        },
        {
          "output_type": "display_data",
          "data": {
            "image/png": "[encoded data removed]",
            "text/plain": [
              "<Figure size 432x288 with 2 Axes>"
            ]
          },
          "metadata": {
            "tags": [],
            "needs_background": "light"
          }
        }
      ]
    },
    {
      "cell_type": "markdown",
      "metadata": {
        "id": "hhYr7ZIHEw8b"
      },
      "source": [
        "### Questions\n",
        "- Plot several more images of the hidden layers for several hidden layers\n",
        "- Comment on the representation learned in the neural network"
      ]
    },
    {
      "cell_type": "code",
      "metadata": {
        "id": "bPvlvuKHQhsU"
      },
      "source": [
        ""
      ],
      "execution_count": null,
      "outputs": []
    }
  ]
}