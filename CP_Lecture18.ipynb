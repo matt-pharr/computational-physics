{
  "nbformat": 4,
  "nbformat_minor": 0,
  "metadata": {
    "colab": {
      "name": "CP_Lecture18.ipynb",
      "provenance": [],
      "collapsed_sections": [],
      "authorship_tag": "ABX9TyMrN6bsrB9BUqkFl7LrD7/Q",
      "include_colab_link": true
    },
    "kernelspec": {
      "display_name": "Python 3",
      "name": "python3"
    },
    "language_info": {
      "name": "python"
    }
  },
  "cells": [
    {
      "cell_type": "markdown",
      "metadata": {
        "id": "view-in-github",
        "colab_type": "text"
      },
      "source": [
        "<a href=\"https://colab.research.google.com/github/quantum-intelligence/computational-physics/blob/main/CP_Lecture18.ipynb\" target=\"_parent\"><img src=\"https://colab.research.google.com/assets/colab-badge.svg\" alt=\"Open In Colab\"/></a>"
      ]
    },
    {
      "cell_type": "markdown",
      "metadata": {
        "id": "xQUzM5SnIu5m"
      },
      "source": [
        "#Computational Physics\n",
        "###Lecture 18\n",
        "Neural Networks and Image Processing"
      ]
    },
    {
      "cell_type": "code",
      "metadata": {
        "colab": {
          "base_uri": "https://localhost:8080/"
        },
        "id": "d0b5mTRKJnYy",
        "outputId": "c97b8376-22df-4932-f376-9dcebcb8ad13"
      },
      "source": [
        "pip install mnist"
      ],
      "execution_count": 2,
      "outputs": [
        {
          "output_type": "stream",
          "text": [
            "Collecting mnist\n",
            "  Downloading https://files.pythonhosted.org/packages/c6/c4/5db3bfe009f8d71f1d532bbadbd0ec203764bba3a469e4703a889db8e5e0/mnist-0.2.2-py2.py3-none-any.whl\n",
            "Requirement already satisfied: numpy in /usr/local/lib/python3.7/dist-packages (from mnist) (1.19.5)\n",
            "Installing collected packages: mnist\n",
            "Successfully installed mnist-0.2.2\n"
          ],
          "name": "stdout"
        }
      ]
    },
    {
      "cell_type": "code",
      "metadata": {
        "id": "CtRfQHD6Iv68"
      },
      "source": [
        "import numpy as np\n",
        "import mnist\n",
        "from tensorflow import keras\n",
        "from tensorflow.keras.models import Sequential\n",
        "from tensorflow.keras.layers import Dense\n",
        "from tensorflow.keras.utils import to_categorical\n",
        "import os\n",
        "import pickle\n",
        "import matplotlib.pyplot as plt"
      ],
      "execution_count": 3,
      "outputs": []
    },
    {
      "cell_type": "code",
      "metadata": {
        "id": "sTarUL8fpSIx"
      },
      "source": [
        "from keras import layers\n",
        "import keras"
      ],
      "execution_count": 4,
      "outputs": []
    },
    {
      "cell_type": "code",
      "metadata": {
        "colab": {
          "base_uri": "https://localhost:8080/"
        },
        "id": "xk46vkqs6stP",
        "outputId": "e8e8c6b2-6b42-4edb-9c6a-a9337ce18b08"
      },
      "source": [
        "#You need to mount google drive to your Colab session.\n",
        "from google.colab import drive\n",
        "drive.mount('/content/gdrive')"
      ],
      "execution_count": 5,
      "outputs": [
        {
          "output_type": "stream",
          "text": [
            "Mounted at /content/gdrive\n"
          ],
          "name": "stdout"
        }
      ]
    },
    {
      "cell_type": "markdown",
      "metadata": {
        "id": "cMBmAjCoxGyH"
      },
      "source": [
        " check your path is correct\n"
      ]
    },
    {
      "cell_type": "code",
      "metadata": {
        "colab": {
          "base_uri": "https://localhost:8080/"
        },
        "id": "kWpbwSS-xJKV",
        "outputId": "82a88efe-6636-49a4-d668-d5ecc7edff56"
      },
      "source": [
        "ls gdrive/MyDrive/Colab\\ Notebooks"
      ],
      "execution_count": 6,
      "outputs": [
        {
          "output_type": "stream",
          "text": [
            " 2D_Ising.ipynb                             CP_Lecture5-solutions.ipynb\n",
            "\u001b[0m\u001b[01;34m'Computational Physics'\u001b[0m/                    CP_Lecture6b.ipynb\n",
            "'Copy of 2021ComputeFest-NotebookToCloud'   CP_Lecture6.ipynb\n",
            "'Copy of 2D_Ising.ipynb'                   'CP_Lecture6 solution.ipynb'\n",
            "'Copy of HW 1.ipynb'                        CP_Lecture_7.ipynb\n",
            "'Copy of Intro_to_coding.ipynb'             CP_Lecture8b.ipynb\n",
            " CP_Lecture10.ipynb                         CP_Lecture8.ipynb\n",
            " CP_Lecture11.ipynb                         CP_Lecture9.ipynb\n",
            " CP_Lecture12.ipynb                         CP_Lecture9_v2.ipynb\n",
            " CP_Lecture13.ipynb                        'HW 1.ipynb'\n",
            "'CP_Lecture 14.ipynb'                       Intro_to_python.ipynb\n",
            " CP_Lecture15b.ipynb                        magneticmoment_Ef_data.csv\n",
            " CP_Lecture15.ipynb                         mnist.pkl\n",
            " CP_Lecture16b.ipynb                       'nCr calculator'\n",
            " CP_Lecture16.ipynb                        'oldof CP_Lecture9.ipynb'\n",
            "'CP Lecture 17.ipynb'                       QP_demo1.ipynb\n",
            " CP_Lecture18.ipynb                         \u001b[01;34msolutions\u001b[0m/\n",
            "'CP_ Lecture1.ipynb'                       'Solutions of CP_Lecture11.ipynb'\n",
            " CP_Lecture2.ipynb                          Untitled0.ipynb\n",
            " CP_Lecture3.ipynb                          Untitled1.ipynb\n",
            " CP_Lecture4.ipynb\n"
          ],
          "name": "stdout"
        }
      ]
    },
    {
      "cell_type": "markdown",
      "metadata": {
        "id": "Z_Mt1Q8BLzzt"
      },
      "source": [
        "Run the cells below for download_mnist() at the start of the lecture. Will take some time to load."
      ]
    },
    {
      "cell_type": "code",
      "metadata": {
        "id": "gtd9d4flJlAT"
      },
      "source": [
        "# The first time you run this might be a bit slow, since the\n",
        "# mnist package has to download and cache the data.\n",
        "def download_mnist():\n",
        "  train_images = mnist.train_images()\n",
        "  train_labels = mnist.train_labels()\n",
        "  test_images = mnist.test_images()\n",
        "  test_labels = mnist.test_labels()\n",
        "  return train_images, train_labels, test_images, test_labels\n"
      ],
      "execution_count": 8,
      "outputs": []
    },
    {
      "cell_type": "code",
      "metadata": {
        "id": "L4mVf0aT6o-l"
      },
      "source": [
        "download = False\n",
        "mypath = \"gdrive/MyDrive/Colab Notebooks/mnist.pkl\"\n",
        "if download:\n",
        "  train_images, train_labels, test_images, test_labels = download_mnist()\n",
        "  mnist_data = [train_images, train_labels, test_images, test_labels]\n",
        "  with open(mypath, 'wb') as f:\n",
        "    pickle.dump(mnist_data, f)\n",
        "else:\n",
        "  with open(mypath, 'rb') as f:\n",
        "    mnist_data = pickle.load(f)\n",
        "  x_train, y_train, x_test, y_test = mnist_data"
      ],
      "execution_count": 9,
      "outputs": []
    },
    {
      "cell_type": "code",
      "metadata": {
        "colab": {
          "base_uri": "https://localhost:8080/"
        },
        "id": "Hie0EVjbKDlJ",
        "outputId": "54a299fa-c594-4c9a-bbd0-275a9910fb2e"
      },
      "source": [
        "print(x_train.shape) # (60000, 28, 28)\n",
        "print(y_train.shape) # (60000,)"
      ],
      "execution_count": 10,
      "outputs": [
        {
          "output_type": "stream",
          "text": [
            "(60000, 28, 28)\n",
            "(60000,)\n"
          ],
          "name": "stdout"
        }
      ]
    },
    {
      "cell_type": "markdown",
      "metadata": {
        "id": "nAvn5jl3MLm-"
      },
      "source": [
        "Display for first ten entries in train_images "
      ]
    },
    {
      "cell_type": "code",
      "metadata": {
        "colab": {
          "base_uri": "https://localhost:8080/",
          "height": 232
        },
        "id": "lB6IJ-xxMIyn",
        "outputId": "1a591ddc-b781-4655-a9e9-067f8182bf5a"
      },
      "source": [
        "for i in np.arange(10): \n",
        "  plt.subplot(2,5,i+1)\n",
        "  plt.imshow(x_train[i])\n",
        "plt.tight_layout()\n",
        "plt.show()"
      ],
      "execution_count": 11,
      "outputs": [
        {
          "output_type": "display_data",
          "data": {
            "image/png": "[encoded data removed]",
            "text/plain": [
              "<Figure size 432x288 with 10 Axes>"
            ]
          },
          "metadata": {
            "tags": [],
            "needs_background": "light"
          }
        }
      ]
    },
    {
      "cell_type": "markdown",
      "metadata": {
        "id": "OTGTrByRCtwj"
      },
      "source": [
        "## Process the image data:"
      ]
    },
    {
      "cell_type": "code",
      "metadata": {
        "id": "KyH5rz6GJ51D"
      },
      "source": [
        "# Normalize the images.\n",
        "x_train = (x_train / 255) \n",
        "x_test = (x_test / 255) "
      ],
      "execution_count": 12,
      "outputs": []
    },
    {
      "cell_type": "code",
      "metadata": {
        "colab": {
          "base_uri": "https://localhost:8080/"
        },
        "id": "mz_gaQGy6Xqn",
        "outputId": "89f06d0e-3d53-4d82-afe8-d1d2dd41edf6"
      },
      "source": [
        "x_train = x_train.reshape((len(x_train), np.prod(x_train.shape[1:])))\n",
        "x_test = x_test.reshape((len(x_test), np.prod(x_test.shape[1:])))\n",
        "print(x_train.shape)\n",
        "print(x_test.shape)"
      ],
      "execution_count": 13,
      "outputs": [
        {
          "output_type": "stream",
          "text": [
            "(60000, 784)\n",
            "(10000, 784)\n"
          ],
          "name": "stdout"
        }
      ]
    },
    {
      "cell_type": "markdown",
      "metadata": {
        "id": "VewHXQh5xiyH"
      },
      "source": [
        "## Create a autoencoder model:"
      ]
    },
    {
      "cell_type": "code",
      "metadata": {
        "id": "QqZ_NezxKEhc"
      },
      "source": [
        "# This is the size of our encoded representations\n",
        "encoding_dim = 32  # 32 floats -> compression of factor 24.5, assuming the input is 784 floats\n",
        "\n",
        "# This is our input image\n",
        "input_img = keras.Input(shape=(784,))\n",
        "# \"encoded\" is the encoded representation of the input\n",
        "encoded = layers.Dense(encoding_dim, activation='relu')(input_img)\n",
        "# \"decoded\" is the lossy reconstruction of the input\n",
        "decoded = layers.Dense(784, activation='sigmoid')(encoded)\n",
        "\n",
        "# This model maps an input to its reconstruction\n",
        "autoencoder = keras.Model(input_img, decoded)"
      ],
      "execution_count": 14,
      "outputs": []
    },
    {
      "cell_type": "code",
      "metadata": {
        "id": "s7KNgW690MN5"
      },
      "source": [
        "# This model maps an input to its encoded representation\n",
        "encoder = keras.Model(input_img, encoded)"
      ],
      "execution_count": 15,
      "outputs": []
    },
    {
      "cell_type": "code",
      "metadata": {
        "id": "-Rt-3l9D0VzV"
      },
      "source": [
        "# This is our encoded (32-dimensional) input\n",
        "encoded_input = keras.Input(shape=(encoding_dim,))\n",
        "# Retrieve the last layer of the autoencoder model\n",
        "decoder_layer = autoencoder.layers[-1]\n",
        "# Create the decoder model\n",
        "decoder = keras.Model(encoded_input, decoder_layer(encoded_input))"
      ],
      "execution_count": 16,
      "outputs": []
    },
    {
      "cell_type": "code",
      "metadata": {
        "id": "RqItGh3A0a6C"
      },
      "source": [
        "autoencoder.compile(optimizer='adam', loss='binary_crossentropy')\n",
        "# autoencoder.compile(optimizer='adam', loss='mean_squared_error')"
      ],
      "execution_count": 27,
      "outputs": []
    },
    {
      "cell_type": "markdown",
      "metadata": {
        "id": "GHD4VjzR3qNV"
      },
      "source": [
        "\n",
        "## Model fit:"
      ]
    },
    {
      "cell_type": "code",
      "metadata": {
        "id": "SwvbkPKh0gha"
      },
      "source": [
        "history = autoencoder.fit(x_train, x_train,\n",
        "                epochs=50,\n",
        "                batch_size=256,\n",
        "                shuffle=True,\n",
        "                validation_data=(x_test, x_test))"
      ],
      "execution_count": null,
      "outputs": []
    },
    {
      "cell_type": "code",
      "metadata": {
        "id": "j6pMRExaKpul"
      },
      "source": [
        "# Encode and decode some digits\n",
        "# Note that we take them from the *test* set\n",
        "encoded_imgs = encoder.predict(x_test)\n",
        "decoded_imgs = decoder.predict(encoded_imgs)"
      ],
      "execution_count": 20,
      "outputs": []
    },
    {
      "cell_type": "code",
      "metadata": {
        "colab": {
          "base_uri": "https://localhost:8080/"
        },
        "id": "HiprCV3qBHaX",
        "outputId": "48ce8322-9c32-46b8-ab9b-e56eca8fb271"
      },
      "source": [
        "encoded_imgs.shape"
      ],
      "execution_count": 26,
      "outputs": [
        {
          "output_type": "execute_result",
          "data": {
            "text/plain": [
              "(10000, 32)"
            ]
          },
          "metadata": {
            "tags": []
          },
          "execution_count": 26
        }
      ]
    },
    {
      "cell_type": "code",
      "metadata": {
        "colab": {
          "base_uri": "https://localhost:8080/",
          "height": 265
        },
        "id": "aB5qaxOg86i8",
        "outputId": "34eb3925-855c-4d55-e160-fa04e7200a81"
      },
      "source": [
        "plt.imshow(x_test[0,:].reshape((28,28)))\n",
        "plt.show()"
      ],
      "execution_count": 39,
      "outputs": [
        {
          "output_type": "display_data",
          "data": {
            "image/png": "[encoded data removed]",
            "text/plain": [
              "<Figure size 432x288 with 1 Axes>"
            ]
          },
          "metadata": {
            "tags": [],
            "needs_background": "light"
          }
        }
      ]
    },
    {
      "cell_type": "code",
      "metadata": {
        "colab": {
          "base_uri": "https://localhost:8080/",
          "height": 265
        },
        "id": "zflKjqfGDqJ0",
        "outputId": "8f8d20c9-7e6c-42a0-e220-1f08c6abf763"
      },
      "source": [
        "plt.imshow(decoded_imgs[0,:].reshape((28,28)))\n",
        "plt.show()"
      ],
      "execution_count": 40,
      "outputs": [
        {
          "output_type": "display_data",
          "data": {
            "image/png": "[encoded data removed]",
            "text/plain": [
              "<Figure size 432x288 with 1 Axes>"
            ]
          },
          "metadata": {
            "tags": [],
            "needs_background": "light"
          }
        }
      ]
    },
    {
      "cell_type": "code",
      "metadata": {
        "colab": {
          "base_uri": "https://localhost:8080/"
        },
        "id": "uUOcEmMSAw96",
        "outputId": "8a9cfa7b-9fad-4145-d497-b8784f8981e4"
      },
      "source": [
        "history.history.keys()"
      ],
      "execution_count": 22,
      "outputs": [
        {
          "output_type": "execute_result",
          "data": {
            "text/plain": [
              "dict_keys(['loss', 'val_loss'])"
            ]
          },
          "metadata": {
            "tags": []
          },
          "execution_count": 22
        }
      ]
    },
    {
      "cell_type": "code",
      "metadata": {
        "colab": {
          "base_uri": "https://localhost:8080/",
          "height": 241
        },
        "id": "kSuEXqRDAuoj",
        "outputId": "e200307f-ba44-47b4-aa71-3cd5701e2624"
      },
      "source": [
        "f, ax = plt.subplots(1, 1)\n",
        "f.set_figwidth(14)\n",
        "f.set_figheight(3)\n",
        "ax.plot(history.history['loss'],label='loss')\n",
        "ax.plot(history.history['val_loss'],label='val_loss',linewidth=3)\n",
        "ax.set_title('total loss')\n",
        "ax.set_ylabel('loss')\n",
        "ax.set_xlabel('epoch')\n",
        "ax.legend(loc='best')\n",
        "plt.show()"
      ],
      "execution_count": 38,
      "outputs": [
        {
          "output_type": "display_data",
          "data": {
            "image/png": "[encoded data removed]",
            "text/plain": [
              "<Figure size 1008x216 with 1 Axes>"
            ]
          },
          "metadata": {
            "tags": [],
            "needs_background": "light"
          }
        }
      ]
    },
    {
      "cell_type": "code",
      "metadata": {
        "colab": {
          "base_uri": "https://localhost:8080/",
          "height": 225
        },
        "id": "cm9TFirI4lla",
        "outputId": "80af4dcf-c5de-4b33-e0a4-4312f71a8378"
      },
      "source": [
        "import matplotlib.pyplot as plt\n",
        "\n",
        "n = 10  # How many digits we will display\n",
        "plt.figure(figsize=(20, 4))\n",
        "for i in range(n):\n",
        "    # Display original\n",
        "    ax = plt.subplot(2, n, i + 1)\n",
        "    plt.imshow(x_test[i].reshape(28, 28))\n",
        "    plt.gray()\n",
        "    ax.get_xaxis().set_visible(False)\n",
        "    ax.get_yaxis().set_visible(False)\n",
        "\n",
        "    # Display reconstruction\n",
        "    ax = plt.subplot(2, n, i + 1 + n)\n",
        "    plt.imshow(decoded_imgs[i].reshape(28, 28))\n",
        "    plt.gray()\n",
        "    ax.get_xaxis().set_visible(False)\n",
        "    ax.get_yaxis().set_visible(False)\n",
        "plt.show()"
      ],
      "execution_count": 24,
      "outputs": [
        {
          "output_type": "display_data",
          "data": {
            "image/png": "[encoded data removed]",
            "text/plain": [
              "<Figure size 1440x288 with 20 Axes>"
            ]
          },
          "metadata": {
            "tags": [],
            "needs_background": "light"
          }
        }
      ]
    },
    {
      "cell_type": "markdown",
      "metadata": {
        "id": "pBqOkA0NLmQr"
      },
      "source": [
        "## QUESTIONS:\n",
        "- Visualize the embedding space, Do similar digits cluster? \n",
        "- Try using GPUs is there a speedup?\n",
        "- Experiment with model fitting parameters: batch size, number of epochs\n",
        "- Experiment with the architecture then check the results. Is there improvement?\n",
        "  - Add two extra hidden layers (one before and one after the embedding layer).\n",
        "  - Vary the number of hidden units in your embedding space.\n",
        "- Visualize the embedding space for different architectures.\n",
        "  - what is the dimensionaliy of your embedding space?"
      ]
    }
  ]
}