{
  "nbformat": 4,
  "nbformat_minor": 0,
  "metadata": {
    "colab": {
      "name": "CP_Lecture10.ipynb",
      "provenance": [],
      "collapsed_sections": [],
      "authorship_tag": "ABX9TyP0ZasW3hqWEmDvQfSoDgK5",
      "include_colab_link": true
    },
    "kernelspec": {
      "name": "python3",
      "display_name": "Python 3"
    }
  },
  "cells": [
    {
      "cell_type": "markdown",
      "metadata": {
        "id": "view-in-github",
        "colab_type": "text"
      },
      "source": [
        "<a href=\"https://colab.research.google.com/github/quantum-intelligence/computational-physics/blob/main/CP_Lecture10.ipynb\" target=\"_parent\"><img src=\"https://colab.research.google.com/assets/colab-badge.svg\" alt=\"Open In Colab\"/></a>"
      ]
    },
    {
      "cell_type": "markdown",
      "metadata": {
        "id": "s-vzZFgoF3Xi"
      },
      "source": [
        "# Computational Physics\n",
        "### Lecture 10\n",
        "PDEs"
      ]
    },
    {
      "cell_type": "code",
      "metadata": {
        "id": "7ul-xe8EG2sB"
      },
      "source": [
        "import numpy as np\n",
        "import matplotlib.pyplot as plt"
      ],
      "execution_count": null,
      "outputs": []
    },
    {
      "cell_type": "markdown",
      "metadata": {
        "id": "NvxbLRhaO8fl"
      },
      "source": [
        "Consider 2D box with charged top 'surface' at 100V with left, botton and right surface grounded at 0V (see fig 19.1a in textbook)."
      ]
    },
    {
      "cell_type": "markdown",
      "metadata": {
        "id": "58jRY3_7R_GA"
      },
      "source": [
        "QUESTION:\n",
        "- Inspect the function below.\n",
        "- What are the boundary conditions?\n",
        "- Make comments within the function definition describing where boundary conditions are implemented. Use '#'."
      ]
    },
    {
      "cell_type": "code",
      "metadata": {
        "id": "17IPrLhBGgC4"
      },
      "source": [
        "def U1Dwire(Niter, N):\n",
        "  U = np.zeros((N,N)) \n",
        "  U[0,:] = 100\n",
        "  for n in np.arange(Niter):\n",
        "    for i in np.arange(1,N-1):\n",
        "      for j in np.arange(1,N-1):\n",
        "        U[i,j] = 0.25*(U[i-1,j]+U[i+1,j]+U[i,j-1]+U[i,j+1])\n",
        "  return U\n"
      ],
      "execution_count": null,
      "outputs": []
    },
    {
      "cell_type": "code",
      "metadata": {
        "id": "WvzSKMxkQ3vQ"
      },
      "source": [
        "N = 20\n",
        "Niter = 50\n",
        "U = U1Dwire(Niter, N)"
      ],
      "execution_count": null,
      "outputs": []
    },
    {
      "cell_type": "code",
      "metadata": {
        "colab": {
          "base_uri": "https://localhost:8080/",
          "height": 283
        },
        "id": "WID5PbCKICdW",
        "outputId": "a89e1843-66d5-4de9-f9c9-8d4895e300fd"
      },
      "source": [
        "plt.imshow(U)\n",
        "plt.colorbar(label='U')\n",
        "plt.xlabel('x')\n",
        "plt.ylabel('y')\n",
        "plt.show()"
      ],
      "execution_count": null,
      "outputs": [
        {
          "output_type": "display_data",
          "data": {
            "image/png": "[encoded data removed]",
            "text/plain": [
              "<Figure size 432x288 with 2 Axes>"
            ]
          },
          "metadata": {
            "tags": [],
            "needs_background": "light"
          }
        }
      ]
    },
    {
      "cell_type": "markdown",
      "metadata": {
        "id": "jNzm5OiJPm9H"
      },
      "source": [
        "QUESTION\n",
        "- Make a 3D plot of the results\n",
        "- How does the result vary with $Niter$ ?\n"
      ]
    },
    {
      "cell_type": "code",
      "metadata": {
        "id": "Jkofo6TVZ5kK"
      },
      "source": [
        "#type your code here"
      ],
      "execution_count": null,
      "outputs": []
    },
    {
      "cell_type": "code",
      "metadata": {
        "id": "ssWKIYeMZ7n7"
      },
      "source": [
        "#type your code here"
      ],
      "execution_count": null,
      "outputs": []
    },
    {
      "cell_type": "markdown",
      "metadata": {
        "id": "nXArZ6SLYPc3"
      },
      "source": [
        "------------------\n"
      ]
    },
    {
      "cell_type": "markdown",
      "metadata": {
        "id": "3RPe0CeWILg2"
      },
      "source": [
        "QUESTION: \n",
        "You are designing a mass spectrometer to do analysis of small molecules for your upcoming trip to Mars. An important component of the mass spectrometer is a capacitor, which you will need to first model.\n",
        "- Consider a parallel plate capacitor system inside a grounded 2D box.\n",
        "- What are the boundary conditions?\n",
        "- Implement the numerical solution and plot the results after a reasonable number of iterations.\n",
        "- What is a reasonable number of iterations? Discuss the process for determining this.\n"
      ]
    },
    {
      "cell_type": "code",
      "metadata": {
        "id": "J-sj4TyvR5Og"
      },
      "source": [
        "#type your code here:\n"
      ],
      "execution_count": null,
      "outputs": []
    },
    {
      "cell_type": "markdown",
      "metadata": {
        "id": "93mOimjxaIeU"
      },
      "source": [
        "BONUS QUESTION:\n",
        "- Calculate the corresponding Electric field.\n",
        "- Plot the result.\n",
        "- For a capacitor separation of 1 mm, what is the maximum potential that can be applied to without causing sparking? ($E_{sparking}$ = 3$\\times$10$^6$ V/m)."
      ]
    },
    {
      "cell_type": "code",
      "metadata": {
        "id": "EmlEyheiayD-"
      },
      "source": [
        ""
      ],
      "execution_count": null,
      "outputs": []
    }
  ]
}