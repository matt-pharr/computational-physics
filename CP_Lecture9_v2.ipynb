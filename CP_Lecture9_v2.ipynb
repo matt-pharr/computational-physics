{
  "nbformat": 4,
  "nbformat_minor": 0,
  "metadata": {
    "colab": {
      "name": "CP_Lecture9_v2.ipynb",
      "provenance": [],
      "collapsed_sections": [],
      "authorship_tag": "ABX9TyMZhnsHx4bwwhX9TMIM3XpP",
      "include_colab_link": true
    },
    "kernelspec": {
      "name": "python3",
      "display_name": "Python 3"
    }
  },
  "cells": [
    {
      "cell_type": "markdown",
      "metadata": {
        "id": "view-in-github",
        "colab_type": "text"
      },
      "source": [
        "<a href=\"https://colab.research.google.com/github/quantum-intelligence/computational-physics/blob/main/CP_Lecture9_v2.ipynb\" target=\"_parent\"><img src=\"https://colab.research.google.com/assets/colab-badge.svg\" alt=\"Open In Colab\"/></a>"
      ]
    },
    {
      "cell_type": "markdown",
      "metadata": {
        "id": "9KLLwmYRH1rR"
      },
      "source": [
        "# Computational Physics\n",
        "### Lecture 9\n",
        "ODE and 1D quantum mechanics"
      ]
    },
    {
      "cell_type": "markdown",
      "metadata": {
        "id": "UL2GUyxtOAbR"
      },
      "source": [
        "NOTE: Need to save your work in Google Colab or your work may be lost"
      ]
    },
    {
      "cell_type": "markdown",
      "metadata": {
        "id": "2U3SDrVbLXYn"
      },
      "source": [
        "- For 'analytical' solution see  https://helentronica.com/2014/09/04/quantum-mechanics-with-the-python/\n",
        "- For numerical solution see textbook"
      ]
    },
    {
      "cell_type": "markdown",
      "metadata": {
        "id": "5FgWgKucH6Xb"
      },
      "source": [
        "\n",
        "Solve the differential equation for the 1D square well\n",
        "- use scipy.integrate.odeint() \n"
      ]
    },
    {
      "cell_type": "code",
      "metadata": {
        "id": "pIjiED8iLTFX"
      },
      "source": [
        "from pylab import *\n",
        "from scipy.integrate import odeint\n",
        "from scipy.optimize import brentq\n",
        "import numpy as np"
      ],
      "execution_count": null,
      "outputs": []
    },
    {
      "cell_type": "markdown",
      "metadata": {
        "id": "r5yi2ddcM1k0"
      },
      "source": [
        "Use scipy for physical constants"
      ]
    },
    {
      "cell_type": "code",
      "metadata": {
        "id": "77qRqtS4dB6U",
        "colab": {
          "base_uri": "https://localhost:8080/"
        },
        "outputId": "6e9eef79-d37d-429b-a759-8890cdf7310d"
      },
      "source": [
        "from scipy.constants import *\n",
        "\n",
        "print(\"hbar\", hbar)\n",
        "el = 1.602176634e-19\n",
        "hbar_c = hbar/e\n",
        "print(\"hbar_c\", hbar_c)\n",
        "print(\"m_e\",m_e,\"m_p\",m_p)\n",
        "c_fm = c*1E12\n",
        "mc2 = (m_e*c**2)/e\n",
        "print(\"mc2\",\"{:e}\".format(mc2/e))\n",
        "print(\"hbar*c\",\"{:e}\".format(hbar_c*c/1E-10))\n",
        "prefactor = ((hbar_c*c/1E-10)**2/(2*mc2))**(-1)\n",
        "print(\"check prefactor:\", prefactor, \"eV^-1 Angstrom^-2\")\n"
      ],
      "execution_count": null,
      "outputs": [
        {
          "output_type": "stream",
          "text": [
            "hbar 1.0545718176461565e-34\n",
            "hbar_c 6.582119569509067e-16\n",
            "m_e 9.1093837015e-31 m_p 1.67262192369e-27\n",
            "mc2 3.189405e+24\n",
            "hbar*c 1.973270e+03\n",
            "check prefactor: 0.2624684236075175 eV^-1 Angstrom^-2\n"
          ],
          "name": "stdout"
        }
      ]
    },
    {
      "cell_type": "markdown",
      "metadata": {
        "id": "gpNXYpraFElM"
      },
      "source": [
        "## Numerical solution to 1D QW\n",
        "- Inspect helper functions and main functinos below\n",
        "- Adjust parameters as needed\n",
        "- Plot $psi(x)$ and V(x) to check results\n",
        "- Compare with analytical results to verify your work\n",
        "  - ('analytical' check needs to modified )"
      ]
    },
    {
      "cell_type": "code",
      "metadata": {
        "id": "eOCsdUGUBhsK"
      },
      "source": [
        "def SE(psi, x, E):\n",
        "    \"\"\"\n",
        "    Returns derivatives for the 1D schrodinger eq.\n",
        "    Requires global value E to be set somewhere. State0 is\n",
        "    first derivative of the wave function psi, and state1 is\n",
        "    its second derivative.\n",
        "    \"\"\"\n",
        "    f1 = psi[1]\n",
        "    f2 = 0.2624*(V(x) - E)*psi[0]\n",
        "    return [f1, f2]\n"
      ],
      "execution_count": null,
      "outputs": []
    },
    {
      "cell_type": "code",
      "metadata": {
        "id": "NYp8N6uvBzG6"
      },
      "source": [
        "def V(x):\n",
        "    \"\"\"\n",
        "    Potential function in the finite square well. Width is L and value is global variable Vo\n",
        "    \"\"\"\n",
        "    L = 4\n",
        "    V0 = -20\n",
        "    if abs(x) < L:\n",
        "        return V0\n",
        "    else:\n",
        "        return 0"
      ],
      "execution_count": null,
      "outputs": []
    },
    {
      "cell_type": "code",
      "metadata": {
        "id": "HkgFwsPWC7cb"
      },
      "source": [
        "def wf_calc(SE, psi0, x, E):\n",
        "    \"\"\"\n",
        "    Calculates wave function psi for the given value\n",
        "    of energy E and returns value at point b\n",
        "    \"\"\"\n",
        "    #print('psi0',psi0)\n",
        "    psi = odeint(SE, psi0, x, args=(E,))\n",
        "    return psi"
      ],
      "execution_count": null,
      "outputs": []
    },
    {
      "cell_type": "code",
      "metadata": {
        "id": "xYxvZT4vCG4U"
      },
      "source": [
        "def log_diff(E,h):\n",
        "  y = zeros((2),float)\n",
        "  i_match = n_steps//3\n",
        "  nL = i_match + 1\n",
        "  y[0] = 1.E-25\n",
        "  y[1] = y[0]*sqrt(E*0.2624)\n",
        "  ix = np.arange(0, nL+1)\n",
        "  x = h*(ix - n_steps/2)\n",
        "  psi = wf_calc(SE, y, x, E)\n",
        "  left = psi[-1,1]/psi[-1,0]\n",
        "  y[0] = 1.E-25\n",
        "  y[1] = -y[0]*sqrt(E*0.2624)\n",
        "  ix = np.arange(n_steps, nL+1,-1)\n",
        "  x = h*(ix + 1- n_steps/2)\n",
        "  psi = wf_calc(SE, y, x, E)\n",
        "  right = psi[-1,1]/psi[-1,0]\n",
        "  return (left - right)/(left + right)\n"
      ],
      "execution_count": null,
      "outputs": []
    },
    {
      "cell_type": "code",
      "metadata": {
        "colab": {
          "base_uri": "https://localhost:8080/"
        },
        "id": "WLstgs1DSNHb",
        "outputId": "7e83337d-eede-42ee-ade4-37ab9aaac23a"
      },
      "source": [
        "#initialize parameters\n",
        "eps = 1E-3\n",
        "n_steps = 501\n",
        "E = 11.537 #-17\n",
        "h = 0.016  #well width = (n_steps-1)*h --> 8Angstroms\n",
        "count_max = 3000\n",
        "Emax = 1.1*E\n",
        "Emin = E/1.1\n",
        "print(\"Emin: \", Emin,\"Emax: \", Emax)"
      ],
      "execution_count": null,
      "outputs": [
        {
          "output_type": "stream",
          "text": [
            "Emin:  10.488181818181818 Emax:  12.690700000000001\n"
          ],
          "name": "stdout"
        }
      ]
    },
    {
      "cell_type": "code",
      "metadata": {
        "colab": {
          "base_uri": "https://localhost:8080/"
        },
        "id": "GIIV0Nm0Lohd",
        "outputId": "14520dc6-ac34-45b6-b71a-b043689ae9ad"
      },
      "source": [
        "#main script\n",
        "for count in range(0, count_max + 1):\n",
        "  E = (Emax + Emin)/2\n",
        "  Diff = log_diff(E, h)\n",
        "  if (log_diff(Emax,h)*Diff > 0): #bisection algorithm\n",
        "    Emax = E\n",
        "  else:\n",
        "    Emin = E\n",
        "  if (abs(Diff) < eps):\n",
        "    break\n",
        "\n",
        "print(\"final eigenvalues E = \", E)\n",
        "print(\"iterations, max = \", count)"
      ],
      "execution_count": null,
      "outputs": [
        {
          "output_type": "stream",
          "text": [
            "final eigenvalues E =  10.488181818181818\n",
            "iterations, max =  3000\n"
          ],
          "name": "stdout"
        }
      ]
    },
    {
      "cell_type": "code",
      "metadata": {
        "id": "miqcBQ_KRB8E"
      },
      "source": [
        ""
      ],
      "execution_count": null,
      "outputs": []
    },
    {
      "cell_type": "markdown",
      "metadata": {
        "id": "xApbvO7VCOjl"
      },
      "source": [
        "Energies from an analytical estimate: \n",
        "- need to modify with appropriate paramters/units\n"
      ]
    },
    {
      "cell_type": "code",
      "metadata": {
        "id": "N8QTuyTjCQy9"
      },
      "source": [
        "def find_analytic_energies(en):\n",
        "    \"\"\"\n",
        "    Calculates Energy values for the finite square well using analytical\n",
        "    model (Griffiths, Introduction to Quantum Mechanics, 1st edition, page 62.)\n",
        "    \"\"\"\n",
        "    a = 8 #length of quantum well\n",
        "\n",
        "    #z = sqrt(2*m_e/el*en)/hbar_c/1E-10\n",
        "    #z0 = a/hbar_c*sqrt((1/2)*m_e*Vo)/1E-10\n",
        "    z = sqrt(2*en)\n",
        "    z0 = sqrt(2*Vo)\n",
        "\n",
        "    z_zeroes = []\n",
        "\n",
        "    #f_sym = lambda z: tan(z*a/3)-sqrt((z0/z)**2-1)     # symmetrical case\n",
        "    #f_asym = lambda z: -1/tan(z*a/2)-sqrt((z0/z)**2-1) # antisymmetrical case\n",
        "    f_sym = lambda z: tan(z/2)-sqrt((z0/z)**2-1)      # symmetrical case\n",
        "    f_asym = lambda z: -1/tan(z/2)-sqrt((z0/z)**2-1)  # antisymmetrical case\n",
        "\n",
        "    # first find the zeroes for the symmetrical case\n",
        "    s = sign(f_sym(z))\n",
        "    for i in range(len(s)-1):   # find zeroes of this crazy function\n",
        "       if s[i]+s[i+1] == 0:\n",
        "           zero = brentq(f_sym, z[i], z[i+1])\n",
        "           z_zeroes.append(zero)\n",
        "    print(\"Energies from the analyitical model are: \")\n",
        "    print(\"Symmetrical case)\")\n",
        "    for i in range(0, len(z_zeroes),2):   # discard z=(2n-1)pi/2 solutions cause that's where tan(z) is discontinous\n",
        "        print(\"%.4f\" %(z_zeroes[i]**2/2))\n",
        "    # Now for the asymmetrical\n",
        "    z_zeroes = []\n",
        "    s = sign(f_asym(z))\n",
        "    for i in range(len(s)-1):   # find zeroes of this crazy function\n",
        "       if s[i]+s[i+1] == 0:\n",
        "           zero = brentq(f_asym, z[i], z[i+1])\n",
        "           z_zeroes.append(zero)\n",
        "    print(\"(Antisymmetrical case)\")\n",
        "    for i in range(0, len(z_zeroes),2):   # discard z=npi solutions cause that's where ctg(z) is discontinous\n",
        "        #print(\"%8.4f\" % (z_zeroes[i]**2/2) )\n",
        "        print( (z_zeroes[i]**2/2) )\n"
      ],
      "execution_count": null,
      "outputs": []
    },
    {
      "cell_type": "code",
      "metadata": {
        "colab": {
          "base_uri": "https://localhost:8080/"
        },
        "id": "8Ioc8EawMdEL",
        "outputId": "7f269928-f18b-4a22-ff73-bbdafc003939"
      },
      "source": [
        "Vo = 20\n",
        "en = linspace(0.001, Vo, 1000) \n",
        "find_analytic_energies(en)\n"
      ],
      "execution_count": null,
      "outputs": [
        {
          "output_type": "stream",
          "text": [
            "Energies from the analyitical model are: \n",
            "Symmetrical case)\n",
            "2.8144\n",
            "19.9920\n",
            "(Antisymmetrical case)\n",
            "10.751611827340433\n"
          ],
          "name": "stdout"
        }
      ]
    },
    {
      "cell_type": "markdown",
      "metadata": {
        "id": "a0zggagcZdK9"
      },
      "source": [
        "Question:\n",
        "How else can we check our result? (Hint: use limits)"
      ]
    },
    {
      "cell_type": "code",
      "metadata": {
        "id": "cT_Ubs-XO77T"
      },
      "source": [
        ""
      ],
      "execution_count": null,
      "outputs": []
    }
  ]
}