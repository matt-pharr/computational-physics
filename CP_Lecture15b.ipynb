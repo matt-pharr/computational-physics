{
  "nbformat": 4,
  "nbformat_minor": 0,
  "metadata": {
    "colab": {
      "name": "CP_Lecture15b.ipynb",
      "provenance": [],
      "collapsed_sections": [],
      "authorship_tag": "ABX9TyOR3XNU09kFUCVfHakloccF",
      "include_colab_link": true
    },
    "kernelspec": {
      "name": "python3",
      "display_name": "Python 3"
    },
    "language_info": {
      "name": "python"
    }
  },
  "cells": [
    {
      "cell_type": "markdown",
      "metadata": {
        "id": "view-in-github",
        "colab_type": "text"
      },
      "source": [
        "<a href=\"https://colab.research.google.com/github/quantum-intelligence/computational-physics/blob/main/CP_Lecture15b.ipynb\" target=\"_parent\"><img src=\"https://colab.research.google.com/assets/colab-badge.svg\" alt=\"Open In Colab\"/></a>"
      ]
    },
    {
      "cell_type": "markdown",
      "metadata": {
        "id": "zJOS7iVgpzGo"
      },
      "source": [
        "# Computational Physics\n",
        "Lecture 15b: Machine learning II"
      ]
    },
    {
      "cell_type": "code",
      "metadata": {
        "id": "m6pLh9wbpur2"
      },
      "source": [
        "import numpy as np\n",
        "import matplotlib.pyplot as plt\n",
        "import pandas as pd\n",
        "from sklearn.linear_model import LinearRegression\n",
        "from sklearn.linear_model import Lasso\n",
        "from sklearn.linear_model import Ridge\n",
        "from sklearn.ensemble import RandomForestRegressor\n",
        "import os"
      ],
      "execution_count": 16,
      "outputs": []
    },
    {
      "cell_type": "markdown",
      "metadata": {
        "id": "gEemsLonqD26"
      },
      "source": [
        "Download data from :\n",
        "https://archive.materialscloud.org/record/2019.0020/v1\n",
        "\n",
        "Description of data and corresponding study can be found here:\n",
        "https://www.nature.com/articles/s41598-020-72811-z\n",
        "\n",
        "open and load \"magneticmoment_Ef_data.csv\" using pandas.\n",
        "- save the file to your google drive (with colab) or your local drive (jupyter notebook)."
      ]
    },
    {
      "cell_type": "code",
      "metadata": {
        "colab": {
          "base_uri": "https://localhost:8080/"
        },
        "id": "ggCwERf4tZMd",
        "outputId": "f735ac51-e749-4640-9a3b-fd429271386f"
      },
      "source": [
        "from google.colab import drive\n",
        "drive.mount('/content/drive')"
      ],
      "execution_count": 14,
      "outputs": [
        {
          "output_type": "stream",
          "text": [
            "Drive already mounted at /content/drive; to attempt to forcibly remount, call drive.mount(\"/content/drive\", force_remount=True).\n"
          ],
          "name": "stdout"
        }
      ]
    },
    {
      "cell_type": "markdown",
      "metadata": {
        "id": "wSYZQY3TwX4O"
      },
      "source": [
        "verify mount and check path for the csv file. Change the path below as needed."
      ]
    },
    {
      "cell_type": "code",
      "metadata": {
        "colab": {
          "base_uri": "https://localhost:8080/"
        },
        "id": "N3a_uSXTu5qB",
        "outputId": "0f3df4cd-cbd5-4335-eea3-56ae6ee5ac3c"
      },
      "source": [
        "ls drive/MyDrive/Colab\\ Notebooks"
      ],
      "execution_count": 15,
      "outputs": [
        {
          "output_type": "stream",
          "text": [
            " 2D_Ising.ipynb                             CP_Lecture6b.ipynb\n",
            "\u001b[0m\u001b[01;34m'Computational Physics'\u001b[0m/                    CP_Lecture6.ipynb\n",
            "'Copy of 2021ComputeFest-NotebookToCloud'  'CP_Lecture6 solution.ipynb'\n",
            "'Copy of 2D_Ising.ipynb'                    CP_Lecture_7.ipynb\n",
            "'Copy of HW 1.ipynb'                        CP_Lecture8b.ipynb\n",
            "'Copy of Intro_to_coding.ipynb'             CP_Lecture8.ipynb\n",
            " CP_Lecture10.ipynb                         CP_Lecture9.ipynb\n",
            " CP_Lecture11.ipynb                         CP_Lecture9_v2.ipynb\n",
            " CP_Lecture12.ipynb                        'HW 1.ipynb'\n",
            " CP_Lecture13.ipynb                         Intro_to_python.ipynb\n",
            "'CP_Lecture 14.ipynb'                       magneticmoment_Ef_data.csv\n",
            " CP_Lecture15b.ipynb                       'nCr calculator'\n",
            " CP_Lecture15.ipynb                        'oldof CP_Lecture9.ipynb'\n",
            "'CP_ Lecture1.ipynb'                        QP_demo1.ipynb\n",
            " CP_Lecture2.ipynb                          \u001b[01;34msolutions\u001b[0m/\n",
            " CP_Lecture3.ipynb                         'Solutions of CP_Lecture11.ipynb'\n",
            " CP_Lecture4.ipynb                          Untitled0.ipynb\n",
            " CP_Lecture5-solutions.ipynb                Untitled1.ipynb\n"
          ],
          "name": "stdout"
        }
      ]
    },
    {
      "cell_type": "code",
      "metadata": {
        "id": "atY8SEhXqBkx"
      },
      "source": [
        "# Create dataframe of \"magneticmoment_Ef_data.csv\" using pandas.\n",
        "# Change the path to magneticmoment_Ef_data.csv as needed.\n",
        "data_path = \"drive/MyDrive/Colab Notebooks/magneticmoment_Ef_data.csv\"\n",
        "df = pd.read_csv(data_path)"
      ],
      "execution_count": 4,
      "outputs": []
    },
    {
      "cell_type": "markdown",
      "metadata": {
        "id": "neDeJU_zsdGl"
      },
      "source": [
        "Explore the pandas object by examinging the columns:\n",
        "- df.column()\n",
        "\n",
        "A summary of the dataframe:\n",
        "- df.head()\n"
      ]
    },
    {
      "cell_type": "code",
      "metadata": {
        "id": "X275lM_FxFdJ"
      },
      "source": [
        "df.columns"
      ],
      "execution_count": null,
      "outputs": []
    },
    {
      "cell_type": "code",
      "metadata": {
        "id": "rixumV-ixGmT"
      },
      "source": [
        "df.head(n=3)"
      ],
      "execution_count": null,
      "outputs": []
    },
    {
      "cell_type": "code",
      "metadata": {
        "id": "pW6Uv5S9Rj7X"
      },
      "source": [
        "#choose the appropriate set of descriptors here:\n",
        "descriptor_list = ['num_p', 'num_d', 'num_f',\n",
        "       'atomic_rad_sum_dif', 'atomic_rad_std_dif',\n",
        "       'atomic_rad_std', 'atomic_rad_avg', 'atomic_rad_max_dif',\n",
        "       'atomic_vol_sum_dif', 'atomic_vol_std_dif', 'atomic_vol_std',\n",
        "       'atomic_vol_avg', 'atomic_vol_max_dif', 'covalentrad_sum_dif',\n",
        "       'covalentrad_std_dif', 'covalentrad_std', 'covalentrad_avg',\n",
        "       'covalentrad_max_dif', 'dipole_sum_dif', 'dipole_std_dif', 'dipole_std',\n",
        "       'dipole_avg', 'dipole_max_dif', 'eaffinity_sum_dif',\n",
        "       'eaffinity_std_dif', 'eaffinity_std', 'e_affinity_avg',\n",
        "       'e_affinity_max_dif', 'numelectron_sum_dif', 'numelectron_std_dif',\n",
        "       'numelectron_std', 'numelectron_avg', 'numelectron_max_dif',\n",
        "       'vdwradius_sum_dif', 'vdwradius_std_dif', 'vdwradius_std',\n",
        "       'vdwradius_avg', 'vdwradius_max_dif', 'e_negativity_sum_dif',\n",
        "       'e_negativity_std_dif', 'e_negativity_std', 'e_negativity_avg',\n",
        "       'e_negativity_max_dif', 'nvalence_sum_dif', 'nvalence_std_dif',\n",
        "       'nvalence_std', 'nvalence_avg', 'nvalence_max_dif', \n",
        "       'cmpd_skew_p', 'cmpd_skew_d', 'cmpd_skew_f', 'cmpd_sigma_p',\n",
        "       'cmpd_sigma_d', 'cmpd_sigma_f', 'frac_f ', 'std_ion', 'sum_ion',\n",
        "       'mean_ion', 'Born', 'hardness_mean', 'hardness_var', 'Nup_mean',\n",
        "       'Nup_var', 'cs_bob', 'cs_PE', 'cs_IR', 'cs_AR', 'cs_OX']"
      ],
      "execution_count": 7,
      "outputs": []
    },
    {
      "cell_type": "markdown",
      "metadata": {
        "id": "3eyiiEOKxQkx"
      },
      "source": [
        "Consider the following target property, y and descriptors, X.\n",
        "\n",
        "y --> 'formation_energy'\n",
        "\n",
        "X --> descriptors in descriptor_list defined above...\n",
        "\n",
        "QUESTION:\n",
        "- Do Lasso regression using all available descriptors in the data set.\n",
        "- Do Ridge regression using all available descriptors in the data set.\n",
        "- Do Random Forests regression using all available descriptors in the data set."
      ]
    },
    {
      "cell_type": "markdown",
      "metadata": {
        "id": "U97rKfPYWCHH"
      },
      "source": [
        "##### Create training and validation sets before starting"
      ]
    },
    {
      "cell_type": "code",
      "metadata": {
        "id": "uXln-Se7xIeh"
      },
      "source": [
        "from sklearn.model_selection import train_test_split\n",
        "# code to create training/test set commended below:\n",
        "\n",
        "# test_size = 0.2 #test set split, e.g. 20% test set to 80% training set size...\n",
        "# X_train, X_test, y_train, y_test = train_test_split(X, y, test_size=test_size, random_state=42)"
      ],
      "execution_count": 8,
      "outputs": []
    },
    {
      "cell_type": "markdown",
      "metadata": {
        "id": "bGTM2bby0hnc"
      },
      "source": [
        "QUESTION:\n",
        "- Report performance scores on both the training set and test set. "
      ]
    },
    {
      "cell_type": "code",
      "metadata": {
        "id": "IbH3xp5ZNls7"
      },
      "source": [
        "y = df['formation_energy'].values"
      ],
      "execution_count": 9,
      "outputs": []
    },
    {
      "cell_type": "code",
      "metadata": {
        "id": "6nv5hV3fNnRB"
      },
      "source": [
        "X = df[descriptor_list]"
      ],
      "execution_count": 10,
      "outputs": []
    },
    {
      "cell_type": "code",
      "metadata": {
        "colab": {
          "base_uri": "https://localhost:8080/"
        },
        "id": "OGY4v6zpNu4i",
        "outputId": "10f1cf63-b173-4d7d-9695-9557a6b551b6"
      },
      "source": [
        "X = np.asarray(X)\n",
        "print(\"X.shape\", X.shape)"
      ],
      "execution_count": 11,
      "outputs": [
        {
          "output_type": "stream",
          "text": [
            "X.shape (226, 68)\n"
          ],
          "name": "stdout"
        }
      ]
    },
    {
      "cell_type": "code",
      "metadata": {
        "id": "HfwOs7zaOD41"
      },
      "source": [
        "# Create train test split here:\n"
      ],
      "execution_count": 12,
      "outputs": []
    },
    {
      "cell_type": "code",
      "metadata": {
        "id": "EF3QRgHVZlyu"
      },
      "source": [
        "# enter code to do regression:\n"
      ],
      "execution_count": 12,
      "outputs": []
    }
  ]
}