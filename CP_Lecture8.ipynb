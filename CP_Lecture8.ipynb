{
  "nbformat": 4,
  "nbformat_minor": 0,
  "metadata": {
    "colab": {
      "name": "CP_Lecture8.ipynb",
      "provenance": [],
      "authorship_tag": "ABX9TyOayfT/SJbTxA8ZiryCVzXK",
      "include_colab_link": true
    },
    "kernelspec": {
      "name": "python3",
      "display_name": "Python 3"
    }
  },
  "cells": [
    {
      "cell_type": "markdown",
      "metadata": {
        "id": "view-in-github",
        "colab_type": "text"
      },
      "source": [
        "<a href=\"https://colab.research.google.com/github/quantum-intelligence/computational-physics/blob/main/CP_Lecture8.ipynb\" target=\"_parent\"><img src=\"https://colab.research.google.com/assets/colab-badge.svg\" alt=\"Open In Colab\"/></a>"
      ]
    },
    {
      "cell_type": "markdown",
      "metadata": {
        "id": "Ge7y6FWZxlty"
      },
      "source": [
        "# Computational Physics\n",
        "Lecture 8\n",
        "#### ODE"
      ]
    },
    {
      "cell_type": "code",
      "metadata": {
        "id": "eKAZ6mPTyhAQ"
      },
      "source": [
        "import numpy as np\n",
        "import matplotlib.pyplot as plt"
      ],
      "execution_count": 1,
      "outputs": []
    },
    {
      "cell_type": "markdown",
      "metadata": {
        "id": "PeIhraRCg5oA"
      },
      "source": [
        "## Euler's method to solve differential equations\n",
        "- Use Euler to find y(t) if dy(t)/dt=f(t,y)=3$t^2$"
      ]
    },
    {
      "cell_type": "markdown",
      "metadata": {
        "id": "3poGRIMc3XTn"
      },
      "source": [
        "Question: Define the function, f(t,y) = dy/dt = 3$t^2$"
      ]
    },
    {
      "cell_type": "code",
      "metadata": {
        "id": "HyUDpuVH3r26"
      },
      "source": [
        "#write code here"
      ],
      "execution_count": 2,
      "outputs": []
    },
    {
      "cell_type": "markdown",
      "metadata": {
        "id": "RW84GmlkeDGB"
      },
      "source": [
        "Solutions (hidden) below:"
      ]
    },
    {
      "cell_type": "code",
      "metadata": {
        "id": "NPv8pKXb3Qfo"
      },
      "source": [
        "#@title\n",
        "#define the function\n",
        "def f(t):\n",
        "  dydt = 3*t**2\n",
        "  return dydt\n"
      ],
      "execution_count": 3,
      "outputs": []
    },
    {
      "cell_type": "markdown",
      "metadata": {
        "id": "uRuj3kJm3ltx"
      },
      "source": [
        "Question: Implement the Eulor method"
      ]
    },
    {
      "cell_type": "code",
      "metadata": {
        "id": "Aed8xaEx3tH0"
      },
      "source": [
        "#write code here"
      ],
      "execution_count": 4,
      "outputs": []
    },
    {
      "cell_type": "code",
      "metadata": {
        "cellView": "form",
        "id": "jlvBXUQY3TZh"
      },
      "source": [
        "#@title\n",
        "#implement Euler\n",
        "def Euler(y0,delta, f):\n",
        "  start = 0\n",
        "  stop = 10\n",
        "  num = (stop - start)/delta\n",
        "  num = np.int(np.floor(num))\n",
        "  #print('num steps',num)\n",
        "  times = np.linspace(0,10,num)\n",
        "  h = times[1] - times[0]\n",
        "  yn = y0\n",
        "  y_t = []\n",
        "  for t in times:\n",
        "    y_n1 = yn + h*f(t)\n",
        "    yn = y_n1\n",
        "    y_t.append(y_n1)\n",
        "  return times, y_t\n"
      ],
      "execution_count": 5,
      "outputs": []
    },
    {
      "cell_type": "markdown",
      "metadata": {
        "id": "_twMkd5J30Mz"
      },
      "source": [
        "Compare Euler with the analytical integral on interval [0,10] for various step sizes. "
      ]
    },
    {
      "cell_type": "code",
      "metadata": {
        "cellView": "form",
        "id": "4AAF9h9pg42h"
      },
      "source": [
        "#@title\n",
        "# Compare analytical integral with the numerical estimate\n",
        "y0 = 0\n",
        "delta = 0.5\n",
        "times, y_t = Euler(y0,delta, f)\n",
        "\n",
        "plt.scatter(times,y_t, c='blue',alpha=0.5,marker='.')\n",
        "yanalytic = [t**3 for t in times]\n",
        "plt.plot(times,yanalytic,c='red',alpha=0.5)\n",
        "plt.xlabel('time')\n",
        "plt.ylabel('y(t)')\n",
        "plt.show()"
      ],
      "execution_count": null,
      "outputs": []
    },
    {
      "cell_type": "markdown",
      "metadata": {
        "id": "PZBPBIOl4EIO"
      },
      "source": [
        "Question: Plot error versus step size"
      ]
    },
    {
      "cell_type": "code",
      "metadata": {
        "id": "3Foqhn8S4Ddw"
      },
      "source": [
        "# write your code here\n",
        "\n"
      ],
      "execution_count": 7,
      "outputs": []
    },
    {
      "cell_type": "markdown",
      "metadata": {
        "id": "6_Vb9d_m4RGW"
      },
      "source": [
        "## Python Module for solving ODE\n",
        "\n",
        "Runge-Kutta implemented in scipy.integrate.ode and scipy.integrate.RK45"
      ]
    },
    {
      "cell_type": "code",
      "metadata": {
        "id": "Fs95JhJ2yrCE"
      },
      "source": [
        "import numpy as np\n",
        "import matplotlib.pyplot as plt\n",
        "from scipy.integrate import odeint"
      ],
      "execution_count": 8,
      "outputs": []
    },
    {
      "cell_type": "markdown",
      "metadata": {
        "id": "YmCmmKo-fCQU"
      },
      "source": [
        "Consider the below example using scipy.integrate.odeint to solve a differential equation"
      ]
    },
    {
      "cell_type": "code",
      "metadata": {
        "colab": {
          "base_uri": "https://localhost:8080/",
          "height": 278
        },
        "id": "olpYfv0wxwbP",
        "outputId": "e24b3037-414e-4628-d315-f575cac0fdb9"
      },
      "source": [
        "# define function describing the differential equation\n",
        "def f(z,t):\n",
        "  x = z[0]\n",
        "  y = z[1]\n",
        "  dxdt = 3.0 * np.exp(-t)\n",
        "  dydt = 3.0 - y\n",
        "  return [dxdt, dydt]\n",
        "\n",
        "# initial conditions\n",
        "z0=[0,0]\n",
        "\n",
        "# time points\n",
        "t = np.linspace(0,10)\n",
        "\n",
        "# solve ODE\n",
        "z = odeint(f, z0, t)\n",
        " \n",
        "x=z[:,0]\n",
        "y=z[:,1]\n",
        "\n",
        "plt.plot(t,x,c='red')\n",
        "plt.plot(t,y,marker='x')\n",
        "plt.xlabel('t')\n",
        "plt.show()"
      ],
      "execution_count": 16,
      "outputs": [
        {
          "output_type": "display_data",
          "data": {
            "image/png": "[encoded data removed]",
            "text/plain": [
              "<Figure size 432x288 with 1 Axes>"
            ]
          },
          "metadata": {
            "tags": [],
            "needs_background": "light"
          }
        }
      ]
    },
    {
      "cell_type": "markdown",
      "metadata": {
        "id": "Zq4GveWwg0lu"
      },
      "source": [
        "----------\n",
        "## Planetary motion"
      ]
    },
    {
      "cell_type": "markdown",
      "metadata": {
        "id": "7XvD3A0ByXVq"
      },
      "source": [
        "------------\n",
        "\n",
        "You are a SpaceX engineer. In order to plan your trip to Mars you must first study the Earth's orbit.\n",
        "\n",
        "QUESTION: Your mission is to use Runge-Kutta implemented in Scipy to solve the differential equations for earth's orbital motion."
      ]
    },
    {
      "cell_type": "code",
      "metadata": {
        "id": "xKcPaw9b5AdX"
      },
      "source": [
        "#enter code here\n",
        "\n"
      ],
      "execution_count": 10,
      "outputs": []
    },
    {
      "cell_type": "markdown",
      "metadata": {
        "id": "ytY31qt9-FhQ"
      },
      "source": [
        "Solution (hidden) below:"
      ]
    },
    {
      "cell_type": "code",
      "metadata": {
        "cellView": "form",
        "id": "ew3YUpVcSTR3"
      },
      "source": [
        "#@title\n",
        "from scipy.integrate import ode\n",
        "from scipy.integrate import RK45\n",
        "import numpy as np\n",
        "import matplotlib.pyplot as plt"
      ],
      "execution_count": 11,
      "outputs": []
    },
    {
      "cell_type": "code",
      "metadata": {
        "cellView": "form",
        "id": "TEdfuViVSnt4"
      },
      "source": [
        "#@title\n",
        "# create derivatives function\n",
        "\n",
        "def func(t, z):\n",
        "  gm = 1.327E11\n",
        "  y = z\n",
        "  val = (y[0]*y[0] + y[2]*y[2])**-1.5\n",
        "  A = gm*val*-1\n",
        "  dydt = np.zeros((4,))\n",
        "  dydt[0] = y[1]\n",
        "  dydt[1] = y[0] #-1*gm*val\n",
        "  dydt[1] = dydt[1]*A\n",
        "  dydt[2] = y[3]\n",
        "  dydt[3] = y[2] #-1*gm*val\n",
        "  dydt[3] = dydt[3]*A \n",
        "  return dydt\n",
        "\n",
        "# initial conditions\n",
        "z0_x = 147.1E6\n",
        "z0_vx = 0\n",
        "z0_y = 0\n",
        "z0_vy = 30.3\n",
        "z0=[z0_x,z0_vx,z0_y,z0_vy]\n",
        "\n",
        "# setup solver\n",
        "t0 = 0\n",
        "t_bound = 100000000\n",
        "rtol=0.01\n",
        "maxsteps= 10000 #np.inf\n",
        "solver = RK45(func, t0, z0, t_bound, max_step=maxsteps,rtol=rtol)\n"
      ],
      "execution_count": 12,
      "outputs": []
    },
    {
      "cell_type": "code",
      "metadata": {
        "cellView": "form",
        "id": "ng8vQdeWS-FD"
      },
      "source": [
        "#@title\n",
        "t_ = []\n",
        "y_ = []\n",
        "for i in np.arange(2000):\n",
        "  solver.step()\n",
        "  t_.append(solver.t)\n",
        "  y_.append(solver.y)\n",
        "\n",
        "# collect results\n",
        "y_0 = [y[0] for y in y_]\n",
        "y_1 = [y[1] for y in y_]\n",
        "y_2 = [y[2] for y in y_]\n",
        "y_3 = [y[3] for y in y_]\n"
      ],
      "execution_count": 13,
      "outputs": []
    },
    {
      "cell_type": "code",
      "metadata": {
        "cellView": "form",
        "id": "8JI6p_wM-40m"
      },
      "source": [
        "#@title\n",
        "# plot orbit\n",
        "plt.axes().set_aspect('equal', 'datalim')\n",
        "ax = plt.gca()\n",
        "ax.set_facecolor('xkcd:black')\n",
        "plt.scatter(y_0, y_2, marker='.', color='green')\n",
        "plt.scatter(0,0,marker='o',color='yellow')\n",
        "plt.ylabel(\"Y [km]\")\n",
        "plt.xlabel(\"X [km]\")\n",
        "plt.show()"
      ],
      "execution_count": null,
      "outputs": []
    },
    {
      "cell_type": "markdown",
      "metadata": {
        "id": "ImR3u69O3krw"
      },
      "source": [
        "## BONUS question\n",
        "- Animate the plot of the Earth's motion around the sun"
      ]
    },
    {
      "cell_type": "code",
      "metadata": {
        "id": "FsNF6WfK6cpH"
      },
      "source": [
        "#write code here\n",
        "\n"
      ],
      "execution_count": 14,
      "outputs": []
    }
  ]
}